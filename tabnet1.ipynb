{
 "cells": [
  {
   "cell_type": "markdown",
   "id": "8b52ed65",
   "metadata": {},
   "source": [
    "### Test Tabnet on Employee Attrition Data"
   ]
  },
  {
   "cell_type": "code",
   "execution_count": 31,
   "id": "a13ff87c",
   "metadata": {},
   "outputs": [],
   "source": [
    "import pandas as pd\n",
    "import numpy as np\n",
    "import ads\n",
    "\n",
    "from ads import set_auth\n",
    "from ads.model.generic_model import GenericModel\n",
    "\n",
    "import torch\n",
    "from pytorch_tabnet.tab_model import TabNetClassifier\n",
    "from pytorch_tabnet.pretraining import TabNetPretrainer\n",
    "\n",
    "from pytorch_tabnet.metrics import Metric\n",
    "\n",
    "from sklearn.metrics import classification_report\n",
    "from sklearn.metrics import get_scorer, make_scorer, f1_score\n",
    "from sklearn.metrics import roc_auc_score, accuracy_score, confusion_matrix, ConfusionMatrixDisplay\n",
    "from sklearn.model_selection import train_test_split\n",
    "\n",
    "from ads.dataset.factory import DatasetFactory\n",
    "\n",
    "import optuna\n",
    "\n",
    "from sklearn.preprocessing import OrdinalEncoder\n",
    "from sklearn.preprocessing import OneHotEncoder, LabelEncoder\n",
    "import logging\n",
    "import warnings\n",
    "\n",
    "import matplotlib.pyplot as plt\n",
    "\n",
    "warnings.filterwarnings('ignore')\n",
    "logging.basicConfig(format='%(levelname)s:%(message)s', level=logging.ERROR)\n",
    "\n",
    "%matplotlib inline"
   ]
  },
  {
   "cell_type": "code",
   "execution_count": 32,
   "id": "6f41813f",
   "metadata": {},
   "outputs": [
    {
     "name": "stdout",
     "output_type": "stream",
     "text": [
      "2.6.2\n"
     ]
    }
   ],
   "source": [
    "print(ads.__version__)"
   ]
  },
  {
   "cell_type": "code",
   "execution_count": 33,
   "id": "84f44f86",
   "metadata": {},
   "outputs": [],
   "source": [
    "# set RP\n",
    "set_auth(auth='resource_principal')"
   ]
  },
  {
   "cell_type": "code",
   "execution_count": 3,
   "id": "f020c8d6",
   "metadata": {},
   "outputs": [
    {
     "data": {
      "application/vnd.jupyter.widget-view+json": {
       "model_id": "",
       "version_major": 2,
       "version_minor": 0
      },
      "text/plain": [
       "loop1:   0%|          | 0/4 [00:00<?, ?it/s]"
      ]
     },
     "metadata": {},
     "output_type": "display_data"
    }
   ],
   "source": [
    "attrition_path = \"/opt/notebooks/ads-examples/oracle_data/orcl_attrition.csv\"\n",
    "\n",
    "# uso ancora la classe dataset per fare l'upsampling\n",
    "\n",
    "ds = DatasetFactory.open(\n",
    "      attrition_path,\n",
    "      target=\"Attrition\").set_positive_class('Yes')"
   ]
  },
  {
   "cell_type": "code",
   "execution_count": 4,
   "id": "bbf8f7eb",
   "metadata": {},
   "outputs": [],
   "source": [
    "# lavoro ancora sul dataset up sampled\n",
    "\n",
    "ds_up = ds.up_sample()"
   ]
  },
  {
   "cell_type": "code",
   "execution_count": 5,
   "id": "d7257fea",
   "metadata": {},
   "outputs": [],
   "source": [
    "cols_to_drop = ['Directs','name', 'Over18','WeeklyWorkedHours','EmployeeNumber']\n",
    "\n",
    "ds_used = ds_up.drop(columns=cols_to_drop)"
   ]
  },
  {
   "cell_type": "code",
   "execution_count": 6,
   "id": "b5db6223",
   "metadata": {},
   "outputs": [
    {
     "data": {
      "text/plain": [
       "['EducationalLevel',\n",
       " 'TravelForWork',\n",
       " 'MonthlyRate',\n",
       " 'TrainingTimesLastYear',\n",
       " 'RelationshipSatisfaction',\n",
       " 'StockOptionLevel',\n",
       " 'YearsAtCurrentLevel',\n",
       " 'Gender',\n",
       " 'MaritalStatus',\n",
       " 'Age',\n",
       " 'JobInvolvement',\n",
       " 'MonthlyIncome',\n",
       " 'JobLevel',\n",
       " 'JobSatisfaction',\n",
       " 'YearsinIndustry',\n",
       " 'JobRole',\n",
       " 'WorkLifeBalance',\n",
       " 'CommuteLength',\n",
       " 'YearsSinceLastPromotion',\n",
       " 'YearsOnJob',\n",
       " 'YearsWithCurrManager',\n",
       " 'PercentSalaryHike',\n",
       " 'OverTime',\n",
       " 'EnvironmentSatisfaction',\n",
       " 'HourlyRate',\n",
       " 'SalaryLevel',\n",
       " 'JobFunction',\n",
       " 'EducationField',\n",
       " 'PerformanceRating',\n",
       " 'NumCompaniesWorked']"
      ]
     },
     "execution_count": 6,
     "metadata": {},
     "output_type": "execute_result"
    }
   ],
   "source": [
    "TARGET = 'Attrition'\n",
    "\n",
    "features = list(set(ds_used.columns) - set([TARGET]))\n",
    "\n",
    "features"
   ]
  },
  {
   "cell_type": "code",
   "execution_count": 7,
   "id": "8298e2be",
   "metadata": {},
   "outputs": [],
   "source": [
    "# take the Pandas DataFRame out\n",
    "\n",
    "# versione differente di ADS (2.0... il metodo ha altro nome)\n",
    "df_used = ds_used.to_pandas()"
   ]
  },
  {
   "cell_type": "markdown",
   "id": "090e2a85",
   "metadata": {},
   "source": [
    "### lavorando direttamente senza AutoML dobbiamo provvedere noi a tutta la data preparation"
   ]
  },
  {
   "cell_type": "code",
   "execution_count": 8,
   "id": "72b2c6df",
   "metadata": {},
   "outputs": [
    {
     "name": "stdout",
     "output_type": "stream",
     "text": [
      "TravelForWork 3\n",
      "JobFunction 3\n",
      "EducationalLevel 5\n",
      "EducationField 6\n",
      "EnvironmentSatisfaction 4\n",
      "Gender 2\n",
      "JobInvolvement 4\n",
      "JobLevel 5\n",
      "JobRole 9\n",
      "JobSatisfaction 4\n",
      "MaritalStatus 3\n",
      "OverTime 2\n",
      "PerformanceRating 2\n",
      "RelationshipSatisfaction 4\n",
      "StockOptionLevel 4\n",
      "TrainingTimesLastYear 7\n",
      "WorkLifeBalance 4\n",
      "Attrition 2\n"
     ]
    }
   ],
   "source": [
    "THR = 10\n",
    "\n",
    "nunique = df_used.nunique()\n",
    "types = df_used.dtypes\n",
    "\n",
    "categorical_columns = []\n",
    "categorical_dims =  {}\n",
    "for col in df_used.columns:\n",
    "    \n",
    "    # identifichiamo come categoriche tutte le colonne che soddisfano questa condizione !!!\n",
    "    # la soglia la possiamo cambiare\n",
    "    if types[col] == 'object' or nunique[col] < THR:\n",
    "        print(col, df_used[col].nunique())\n",
    "        \n",
    "        # codifichiamo i categorici con LabelEncoder\n",
    "        l_enc = LabelEncoder()\n",
    "        df_used[col] = l_enc.fit_transform(df_used[col].values)\n",
    "        \n",
    "        categorical_columns.append(col)\n",
    "        categorical_dims[col] = len(l_enc.classes_)"
   ]
  },
  {
   "cell_type": "code",
   "execution_count": 9,
   "id": "2e97b1f3",
   "metadata": {},
   "outputs": [],
   "source": [
    "cat_idxs = [ i for i, f in enumerate(features) if f in categorical_columns]\n",
    "\n",
    "cat_dims = [ categorical_dims[f] for i, f in enumerate(features) if f in categorical_columns]"
   ]
  },
  {
   "cell_type": "code",
   "execution_count": 10,
   "id": "d898e8e4",
   "metadata": {},
   "outputs": [],
   "source": [
    "# now we have codified everything, are ready"
   ]
  },
  {
   "cell_type": "code",
   "execution_count": 11,
   "id": "5458d228",
   "metadata": {},
   "outputs": [
    {
     "data": {
      "text/plain": [
       "(2466, 30)"
      ]
     },
     "execution_count": 11,
     "metadata": {},
     "output_type": "execute_result"
    }
   ],
   "source": [
    "X = df_used[features].values\n",
    "y = df_used[TARGET].values\n",
    "\n",
    "X.shape"
   ]
  },
  {
   "cell_type": "code",
   "execution_count": 12,
   "id": "ffe9ced9",
   "metadata": {},
   "outputs": [
    {
     "name": "stdout",
     "output_type": "stream",
     "text": [
      "# of samples in train set 1972\n",
      "# of samples in test set 494\n"
     ]
    }
   ],
   "source": [
    "# train, test split\n",
    "X_train, X_test, y_train, y_test = train_test_split(X, y, shuffle=True, test_size=0.2, random_state = 1234)\n",
    "\n",
    "print(\"# of samples in train set\", X_train.shape[0])\n",
    "print(\"# of samples in test set\", X_test.shape[0])"
   ]
  },
  {
   "cell_type": "code",
   "execution_count": 13,
   "id": "3d4d7ac6",
   "metadata": {},
   "outputs": [],
   "source": [
    "#\n",
    "# if we need F we need a custom implementation for F1 in Tabnet\n",
    "#\n",
    "class F1(Metric):\n",
    "    def __init__(self):\n",
    "        self._name = \"f1\"\n",
    "        self._maximize = True\n",
    "        # potremmo lavorare siu questa soglia\n",
    "        self.thr = 0.55\n",
    "    \n",
    "    # the input are probs, must be converted to 0, 1\n",
    "    def __call__(self, y_true, p_score):\n",
    "        \n",
    "        # here we have labels\n",
    "        y_score = (p_score[:, 1] >= self.thr).astype(int)\n",
    "        \n",
    "        return f1_score(y_true, y_score)"
   ]
  },
  {
   "cell_type": "code",
   "execution_count": 18,
   "id": "b0ae9f02",
   "metadata": {},
   "outputs": [
    {
     "name": "stdout",
     "output_type": "stream",
     "text": [
      "Device used : cpu\n",
      "epoch 0  | loss: 5.73952 | val_0_unsup_loss: 84.98553|  0:00:00s\n",
      "epoch 1  | loss: 4.88445 | val_0_unsup_loss: 76.41708|  0:00:00s\n",
      "epoch 2  | loss: 4.43291 | val_0_unsup_loss: 27.87411|  0:00:01s\n",
      "epoch 3  | loss: 4.11201 | val_0_unsup_loss: 11.66122|  0:00:01s\n",
      "epoch 4  | loss: 3.82184 | val_0_unsup_loss: 5.70717 |  0:00:01s\n",
      "epoch 5  | loss: 3.62041 | val_0_unsup_loss: 5.24278 |  0:00:02s\n",
      "epoch 6  | loss: 3.33839 | val_0_unsup_loss: 4.93974 |  0:00:02s\n",
      "epoch 7  | loss: 3.20272 | val_0_unsup_loss: 4.85165 |  0:00:02s\n",
      "epoch 8  | loss: 3.10383 | val_0_unsup_loss: 4.42849 |  0:00:02s\n",
      "epoch 9  | loss: 2.94643 | val_0_unsup_loss: 4.66951 |  0:00:03s\n",
      "epoch 10 | loss: 2.84981 | val_0_unsup_loss: 4.6069  |  0:00:03s\n",
      "epoch 11 | loss: 2.75457 | val_0_unsup_loss: 4.05511 |  0:00:03s\n",
      "epoch 12 | loss: 2.69408 | val_0_unsup_loss: 3.82569 |  0:00:04s\n",
      "epoch 13 | loss: 2.58506 | val_0_unsup_loss: 3.3961  |  0:00:04s\n",
      "epoch 14 | loss: 2.55956 | val_0_unsup_loss: 3.12735 |  0:00:04s\n",
      "epoch 15 | loss: 2.48486 | val_0_unsup_loss: 2.95326 |  0:00:05s\n",
      "epoch 16 | loss: 2.47037 | val_0_unsup_loss: 2.8445  |  0:00:05s\n",
      "epoch 17 | loss: 2.38967 | val_0_unsup_loss: 2.72148 |  0:00:05s\n",
      "epoch 18 | loss: 2.35451 | val_0_unsup_loss: 2.60707 |  0:00:06s\n",
      "epoch 19 | loss: 2.33247 | val_0_unsup_loss: 2.47929 |  0:00:06s\n",
      "epoch 20 | loss: 2.27113 | val_0_unsup_loss: 2.38801 |  0:00:06s\n",
      "epoch 21 | loss: 2.21106 | val_0_unsup_loss: 2.32084 |  0:00:07s\n",
      "epoch 22 | loss: 2.15088 | val_0_unsup_loss: 2.26477 |  0:00:07s\n",
      "epoch 23 | loss: 2.10938 | val_0_unsup_loss: 2.18517 |  0:00:07s\n",
      "epoch 24 | loss: 2.05419 | val_0_unsup_loss: 2.12186 |  0:00:07s\n",
      "epoch 25 | loss: 2.02144 | val_0_unsup_loss: 2.05246 |  0:00:08s\n",
      "epoch 26 | loss: 1.97185 | val_0_unsup_loss: 1.99472 |  0:00:08s\n",
      "epoch 27 | loss: 1.90558 | val_0_unsup_loss: 1.9455  |  0:00:08s\n",
      "epoch 28 | loss: 1.86719 | val_0_unsup_loss: 1.89677 |  0:00:09s\n",
      "epoch 29 | loss: 1.81738 | val_0_unsup_loss: 1.84669 |  0:00:09s\n",
      "epoch 30 | loss: 1.76667 | val_0_unsup_loss: 1.79856 |  0:00:09s\n",
      "epoch 31 | loss: 1.72558 | val_0_unsup_loss: 1.75876 |  0:00:10s\n",
      "epoch 32 | loss: 1.71325 | val_0_unsup_loss: 1.72882 |  0:00:10s\n",
      "epoch 33 | loss: 1.6876  | val_0_unsup_loss: 1.69613 |  0:00:10s\n",
      "epoch 34 | loss: 1.65772 | val_0_unsup_loss: 1.66695 |  0:00:11s\n",
      "epoch 35 | loss: 1.63576 | val_0_unsup_loss: 1.64334 |  0:00:11s\n",
      "epoch 36 | loss: 1.59368 | val_0_unsup_loss: 1.61163 |  0:00:11s\n",
      "epoch 37 | loss: 1.59447 | val_0_unsup_loss: 1.58625 |  0:00:12s\n",
      "epoch 38 | loss: 1.55156 | val_0_unsup_loss: 1.55719 |  0:00:12s\n",
      "epoch 39 | loss: 1.55405 | val_0_unsup_loss: 1.52813 |  0:00:12s\n",
      "epoch 40 | loss: 1.53619 | val_0_unsup_loss: 1.50647 |  0:00:13s\n",
      "epoch 41 | loss: 1.51379 | val_0_unsup_loss: 1.48375 |  0:00:13s\n",
      "epoch 42 | loss: 1.48781 | val_0_unsup_loss: 1.46341 |  0:00:13s\n",
      "epoch 43 | loss: 1.47156 | val_0_unsup_loss: 1.44144 |  0:00:13s\n",
      "epoch 44 | loss: 1.44828 | val_0_unsup_loss: 1.42276 |  0:00:14s\n",
      "epoch 45 | loss: 1.4268  | val_0_unsup_loss: 1.40288 |  0:00:14s\n",
      "epoch 46 | loss: 1.4116  | val_0_unsup_loss: 1.38228 |  0:00:14s\n",
      "epoch 47 | loss: 1.40248 | val_0_unsup_loss: 1.36715 |  0:00:15s\n",
      "epoch 48 | loss: 1.38356 | val_0_unsup_loss: 1.35028 |  0:00:15s\n",
      "epoch 49 | loss: 1.37737 | val_0_unsup_loss: 1.33542 |  0:00:15s\n",
      "epoch 50 | loss: 1.34995 | val_0_unsup_loss: 1.32176 |  0:00:16s\n",
      "epoch 51 | loss: 1.34761 | val_0_unsup_loss: 1.31259 |  0:00:16s\n",
      "epoch 52 | loss: 1.3284  | val_0_unsup_loss: 1.30295 |  0:00:16s\n",
      "epoch 53 | loss: 1.3188  | val_0_unsup_loss: 1.2928  |  0:00:17s\n",
      "epoch 54 | loss: 1.33509 | val_0_unsup_loss: 1.28304 |  0:00:17s\n",
      "epoch 55 | loss: 1.31315 | val_0_unsup_loss: 1.27923 |  0:00:17s\n",
      "epoch 56 | loss: 1.30385 | val_0_unsup_loss: 1.27685 |  0:00:18s\n",
      "epoch 57 | loss: 1.30026 | val_0_unsup_loss: 1.27409 |  0:00:18s\n",
      "epoch 58 | loss: 1.29944 | val_0_unsup_loss: 1.26938 |  0:00:18s\n",
      "epoch 59 | loss: 1.29249 | val_0_unsup_loss: 1.26415 |  0:00:19s\n",
      "epoch 60 | loss: 1.29578 | val_0_unsup_loss: 1.2582  |  0:00:19s\n",
      "epoch 61 | loss: 1.27948 | val_0_unsup_loss: 1.25347 |  0:00:19s\n",
      "epoch 62 | loss: 1.28613 | val_0_unsup_loss: 1.24979 |  0:00:20s\n",
      "epoch 63 | loss: 1.27646 | val_0_unsup_loss: 1.24619 |  0:00:20s\n",
      "epoch 64 | loss: 1.27633 | val_0_unsup_loss: 1.24315 |  0:00:20s\n",
      "epoch 65 | loss: 1.26948 | val_0_unsup_loss: 1.24001 |  0:00:21s\n",
      "epoch 66 | loss: 1.26684 | val_0_unsup_loss: 1.23515 |  0:00:21s\n",
      "epoch 67 | loss: 1.26235 | val_0_unsup_loss: 1.23385 |  0:00:21s\n",
      "epoch 68 | loss: 1.26114 | val_0_unsup_loss: 1.23103 |  0:00:21s\n",
      "epoch 69 | loss: 1.24394 | val_0_unsup_loss: 1.22799 |  0:00:22s\n",
      "epoch 70 | loss: 1.2596  | val_0_unsup_loss: 1.22551 |  0:00:22s\n",
      "epoch 71 | loss: 1.24278 | val_0_unsup_loss: 1.22222 |  0:00:22s\n",
      "epoch 72 | loss: 1.24213 | val_0_unsup_loss: 1.22081 |  0:00:23s\n",
      "epoch 73 | loss: 1.24156 | val_0_unsup_loss: 1.22046 |  0:00:23s\n",
      "epoch 74 | loss: 1.24273 | val_0_unsup_loss: 1.21725 |  0:00:23s\n",
      "epoch 75 | loss: 1.23986 | val_0_unsup_loss: 1.21594 |  0:00:24s\n",
      "epoch 76 | loss: 1.22788 | val_0_unsup_loss: 1.21325 |  0:00:24s\n",
      "epoch 77 | loss: 1.24463 | val_0_unsup_loss: 1.21025 |  0:00:24s\n",
      "epoch 78 | loss: 1.26019 | val_0_unsup_loss: 1.20825 |  0:00:25s\n",
      "epoch 79 | loss: 1.22276 | val_0_unsup_loss: 1.20897 |  0:00:25s\n",
      "epoch 80 | loss: 1.24501 | val_0_unsup_loss: 1.20811 |  0:00:25s\n",
      "epoch 81 | loss: 1.22537 | val_0_unsup_loss: 1.20417 |  0:00:26s\n",
      "epoch 82 | loss: 1.23995 | val_0_unsup_loss: 1.203   |  0:00:26s\n",
      "epoch 83 | loss: 1.22401 | val_0_unsup_loss: 1.20012 |  0:00:26s\n",
      "epoch 84 | loss: 1.22948 | val_0_unsup_loss: 1.20211 |  0:00:26s\n",
      "epoch 85 | loss: 1.21845 | val_0_unsup_loss: 1.20043 |  0:00:27s\n",
      "epoch 86 | loss: 1.22222 | val_0_unsup_loss: 1.19779 |  0:00:27s\n",
      "epoch 87 | loss: 1.23    | val_0_unsup_loss: 1.19649 |  0:00:27s\n",
      "epoch 88 | loss: 1.22952 | val_0_unsup_loss: 1.19553 |  0:00:27s\n",
      "epoch 89 | loss: 1.22692 | val_0_unsup_loss: 1.1936  |  0:00:28s\n",
      "epoch 90 | loss: 1.21857 | val_0_unsup_loss: 1.19354 |  0:00:28s\n",
      "epoch 91 | loss: 1.2216  | val_0_unsup_loss: 1.19348 |  0:00:28s\n",
      "epoch 92 | loss: 1.22509 | val_0_unsup_loss: 1.19265 |  0:00:29s\n",
      "epoch 93 | loss: 1.2406  | val_0_unsup_loss: 1.19387 |  0:00:29s\n",
      "epoch 94 | loss: 1.2286  | val_0_unsup_loss: 1.19175 |  0:00:29s\n",
      "epoch 95 | loss: 1.21466 | val_0_unsup_loss: 1.1913  |  0:00:30s\n",
      "epoch 96 | loss: 1.20644 | val_0_unsup_loss: 1.18831 |  0:00:30s\n",
      "epoch 97 | loss: 1.21936 | val_0_unsup_loss: 1.1881  |  0:00:30s\n",
      "epoch 98 | loss: 1.21159 | val_0_unsup_loss: 1.1893  |  0:00:30s\n",
      "epoch 99 | loss: 1.21068 | val_0_unsup_loss: 1.18716 |  0:00:31s\n",
      "epoch 100| loss: 1.21244 | val_0_unsup_loss: 1.18623 |  0:00:31s\n",
      "epoch 101| loss: 1.20707 | val_0_unsup_loss: 1.18437 |  0:00:31s\n",
      "epoch 102| loss: 1.22163 | val_0_unsup_loss: 1.18285 |  0:00:32s\n",
      "epoch 103| loss: 1.22269 | val_0_unsup_loss: 1.18072 |  0:00:32s\n",
      "epoch 104| loss: 1.20737 | val_0_unsup_loss: 1.1802  |  0:00:32s\n",
      "epoch 105| loss: 1.21188 | val_0_unsup_loss: 1.17896 |  0:00:33s\n",
      "epoch 106| loss: 1.19893 | val_0_unsup_loss: 1.1777  |  0:00:33s\n",
      "epoch 107| loss: 1.20256 | val_0_unsup_loss: 1.17535 |  0:00:33s\n",
      "epoch 108| loss: 1.19895 | val_0_unsup_loss: 1.17649 |  0:00:34s\n",
      "epoch 109| loss: 1.19588 | val_0_unsup_loss: 1.1765  |  0:00:34s\n",
      "epoch 110| loss: 1.22272 | val_0_unsup_loss: 1.17649 |  0:00:34s\n",
      "epoch 111| loss: 1.21485 | val_0_unsup_loss: 1.1772  |  0:00:35s\n",
      "epoch 112| loss: 1.20682 | val_0_unsup_loss: 1.17598 |  0:00:35s\n",
      "epoch 113| loss: 1.21178 | val_0_unsup_loss: 1.17472 |  0:00:35s\n",
      "epoch 114| loss: 1.22496 | val_0_unsup_loss: 1.17181 |  0:00:35s\n",
      "epoch 115| loss: 1.20676 | val_0_unsup_loss: 1.17123 |  0:00:36s\n",
      "epoch 116| loss: 1.20913 | val_0_unsup_loss: 1.17044 |  0:00:36s\n",
      "epoch 117| loss: 1.21329 | val_0_unsup_loss: 1.16895 |  0:00:36s\n",
      "epoch 118| loss: 1.19563 | val_0_unsup_loss: 1.167   |  0:00:37s\n",
      "epoch 119| loss: 1.20468 | val_0_unsup_loss: 1.166   |  0:00:37s\n",
      "epoch 120| loss: 1.2039  | val_0_unsup_loss: 1.16472 |  0:00:37s\n",
      "epoch 121| loss: 1.2116  | val_0_unsup_loss: 1.16207 |  0:00:38s\n",
      "epoch 122| loss: 1.20593 | val_0_unsup_loss: 1.15919 |  0:00:38s\n",
      "epoch 123| loss: 1.21229 | val_0_unsup_loss: 1.15844 |  0:00:38s\n",
      "epoch 124| loss: 1.20078 | val_0_unsup_loss: 1.15557 |  0:00:39s\n",
      "epoch 125| loss: 1.20327 | val_0_unsup_loss: 1.15553 |  0:00:39s\n",
      "epoch 126| loss: 1.19358 | val_0_unsup_loss: 1.1544  |  0:00:39s\n",
      "epoch 127| loss: 1.20088 | val_0_unsup_loss: 1.15319 |  0:00:40s\n",
      "epoch 128| loss: 1.19228 | val_0_unsup_loss: 1.15415 |  0:00:40s\n",
      "epoch 129| loss: 1.20097 | val_0_unsup_loss: 1.15604 |  0:00:40s\n",
      "epoch 130| loss: 1.193   | val_0_unsup_loss: 1.1563  |  0:00:40s\n",
      "epoch 131| loss: 1.18745 | val_0_unsup_loss: 1.15466 |  0:00:41s\n",
      "epoch 132| loss: 1.20009 | val_0_unsup_loss: 1.15678 |  0:00:41s\n",
      "epoch 133| loss: 1.20087 | val_0_unsup_loss: 1.15408 |  0:00:41s\n",
      "epoch 134| loss: 1.17944 | val_0_unsup_loss: 1.15296 |  0:00:42s\n",
      "epoch 135| loss: 1.19538 | val_0_unsup_loss: 1.15262 |  0:00:42s\n",
      "epoch 136| loss: 1.20031 | val_0_unsup_loss: 1.15298 |  0:00:42s\n",
      "epoch 137| loss: 1.20031 | val_0_unsup_loss: 1.15151 |  0:00:43s\n",
      "epoch 138| loss: 1.18901 | val_0_unsup_loss: 1.15198 |  0:00:43s\n",
      "epoch 139| loss: 1.19948 | val_0_unsup_loss: 1.15351 |  0:00:43s\n",
      "epoch 140| loss: 1.19404 | val_0_unsup_loss: 1.15408 |  0:00:44s\n",
      "epoch 141| loss: 1.17121 | val_0_unsup_loss: 1.15261 |  0:00:44s\n",
      "epoch 142| loss: 1.18705 | val_0_unsup_loss: 1.14971 |  0:00:44s\n",
      "epoch 143| loss: 1.18668 | val_0_unsup_loss: 1.15045 |  0:00:44s\n",
      "epoch 144| loss: 1.19571 | val_0_unsup_loss: 1.14741 |  0:00:45s\n",
      "epoch 145| loss: 1.20049 | val_0_unsup_loss: 1.14771 |  0:00:45s\n",
      "epoch 146| loss: 1.18074 | val_0_unsup_loss: 1.14537 |  0:00:45s\n",
      "epoch 147| loss: 1.20679 | val_0_unsup_loss: 1.14856 |  0:00:46s\n",
      "epoch 148| loss: 1.19237 | val_0_unsup_loss: 1.14689 |  0:00:46s\n",
      "epoch 149| loss: 1.19864 | val_0_unsup_loss: 1.14635 |  0:00:46s\n",
      "epoch 150| loss: 1.1848  | val_0_unsup_loss: 1.14681 |  0:00:47s\n",
      "epoch 151| loss: 1.19154 | val_0_unsup_loss: 1.14756 |  0:00:47s\n",
      "epoch 152| loss: 1.19563 | val_0_unsup_loss: 1.14675 |  0:00:47s\n",
      "epoch 153| loss: 1.19344 | val_0_unsup_loss: 1.14709 |  0:00:47s\n",
      "epoch 154| loss: 1.18666 | val_0_unsup_loss: 1.1465  |  0:00:48s\n",
      "epoch 155| loss: 1.19152 | val_0_unsup_loss: 1.14721 |  0:00:48s\n",
      "epoch 156| loss: 1.17619 | val_0_unsup_loss: 1.14399 |  0:00:48s\n",
      "epoch 157| loss: 1.1676  | val_0_unsup_loss: 1.14328 |  0:00:49s\n",
      "epoch 158| loss: 1.19571 | val_0_unsup_loss: 1.14248 |  0:00:49s\n",
      "epoch 159| loss: 1.18719 | val_0_unsup_loss: 1.14204 |  0:00:49s\n",
      "epoch 160| loss: 1.19226 | val_0_unsup_loss: 1.13985 |  0:00:50s\n",
      "epoch 161| loss: 1.19301 | val_0_unsup_loss: 1.13988 |  0:00:50s\n",
      "epoch 162| loss: 1.19127 | val_0_unsup_loss: 1.14146 |  0:00:50s\n",
      "epoch 163| loss: 1.174   | val_0_unsup_loss: 1.14618 |  0:00:50s\n",
      "epoch 164| loss: 1.18394 | val_0_unsup_loss: 1.14343 |  0:00:51s\n",
      "epoch 165| loss: 1.17146 | val_0_unsup_loss: 1.14398 |  0:00:51s\n",
      "epoch 166| loss: 1.18647 | val_0_unsup_loss: 1.14857 |  0:00:51s\n",
      "epoch 167| loss: 1.18297 | val_0_unsup_loss: 1.14326 |  0:00:52s\n",
      "epoch 168| loss: 1.17292 | val_0_unsup_loss: 1.14163 |  0:00:52s\n",
      "epoch 169| loss: 1.1948  | val_0_unsup_loss: 1.14073 |  0:00:52s\n",
      "epoch 170| loss: 1.18826 | val_0_unsup_loss: 1.14189 |  0:00:52s\n",
      "\n",
      "Early stopping occurred at epoch 170 with best_epoch = 160 and best_val_0_unsup_loss = 1.13985\n",
      "Best weights from best epoch are automatically used!\n",
      "CPU times: user 12min 40s, sys: 1min 21s, total: 14min 1s\n",
      "Wall time: 53.1 s\n"
     ]
    }
   ],
   "source": [
    "%%time\n",
    "# see: https://github.com/dreamquark-ai/tabnet\n",
    "\n",
    "# TabNetPretrainer\n",
    "unsupervised_model = TabNetPretrainer(\n",
    "    cat_idxs=cat_idxs,\n",
    "    optimizer_fn=torch.optim.Adam,\n",
    "    optimizer_params=dict(lr=2e-2),\n",
    "    mask_type='entmax' # \"sparsemax\"\n",
    ")\n",
    "\n",
    "unsupervised_model.fit(\n",
    "    X_train=X_train,\n",
    "    eval_set=[X_test],\n",
    "    pretraining_ratio=0.6,\n",
    "    max_epochs = 200,\n",
    ")"
   ]
  },
  {
   "cell_type": "code",
   "execution_count": 19,
   "id": "bcdc6ad2",
   "metadata": {},
   "outputs": [],
   "source": [
    "#\n",
    "# In questo caso ho preferito utilizzare direttamente Optuna (su cui è basato ADSTuner)\n",
    "#\n",
    "\n",
    "# split in due parti la seconda ottimizzo con Optuna\n",
    "\n",
    "# la valutazione la facciamo sull'accuracy\n",
    "\n",
    "def objective(trial):\n",
    "    n_steps = trial.suggest_int(\"n_steps\", 1, 10)\n",
    "    gamma = trial.suggest_float(\"gamma\", 1.0, 2.0)\n",
    "    \n",
    "    params = {\n",
    "        \"cat_idxs\" : cat_idxs,\n",
    "        \"cat_dims\" : cat_dims,\n",
    "        \"n_steps\" : n_steps,\n",
    "        \"gamma\" : gamma,\n",
    "        \"seed\" : 0,\n",
    "        \"verbose\" : 10\n",
    "    }\n",
    "    clf = TabNetClassifier(**params)\n",
    "\n",
    "    clf.fit(\n",
    "        X_train=X_train, y_train=y_train,\n",
    "        eval_set=[(X_train, y_train), (X_test, y_test)],\n",
    "        eval_name=['train', 'valid'],\n",
    "        eval_metric=['auc', 'accuracy'],\n",
    "        from_unsupervised=unsupervised_model,\n",
    "        batch_size=128, \n",
    "        max_epochs = 100\n",
    "    )\n",
    "    \n",
    "    y_pred = clf.predict(X_test)\n",
    "    \n",
    "    return round(accuracy_score(y_test, y_pred), 5)"
   ]
  },
  {
   "cell_type": "code",
   "execution_count": 20,
   "id": "0c21e893",
   "metadata": {},
   "outputs": [
    {
     "name": "stderr",
     "output_type": "stream",
     "text": [
      "\u001b[32m[I 2022-07-05 09:30:50,531]\u001b[0m A new study created in memory with name: no-name-e0ccec31-4412-45da-a62c-37233c92bd9a\u001b[0m\n"
     ]
    },
    {
     "name": "stdout",
     "output_type": "stream",
     "text": [
      "Device used : cpu\n",
      "Loading weights from unsupervised pretraining\n",
      "epoch 0  | loss: 0.72597 | train_auc: 0.71874 | train_accuracy: 0.66075 | valid_auc: 0.70413 | valid_accuracy: 0.65385 |  0:00:00s\n",
      "epoch 10 | loss: 0.19295 | train_auc: 0.9657  | train_accuracy: 0.8783  | valid_auc: 0.90841 | valid_accuracy: 0.81579 |  0:00:09s\n",
      "epoch 20 | loss: 0.11566 | train_auc: 0.99182 | train_accuracy: 0.97211 | valid_auc: 0.94723 | valid_accuracy: 0.91296 |  0:00:18s\n",
      "epoch 30 | loss: 0.09205 | train_auc: 0.99663 | train_accuracy: 0.97566 | valid_auc: 0.9563  | valid_accuracy: 0.90081 |  0:00:26s\n",
      "\n",
      "Early stopping occurred at epoch 33 with best_epoch = 23 and best_valid_accuracy = 0.9251\n",
      "Best weights from best epoch are automatically used!\n"
     ]
    },
    {
     "name": "stderr",
     "output_type": "stream",
     "text": [
      "\u001b[32m[I 2022-07-05 09:31:20,380]\u001b[0m Trial 0 finished with value: 0.9251 and parameters: {'n_steps': 9, 'gamma': 1.3808223985047285}. Best is trial 0 with value: 0.9251.\u001b[0m\n"
     ]
    },
    {
     "name": "stdout",
     "output_type": "stream",
     "text": [
      "Device used : cpu\n",
      "Loading weights from unsupervised pretraining\n",
      "epoch 0  | loss: 0.71293 | train_auc: 0.73519 | train_accuracy: 0.67495 | valid_auc: 0.72744 | valid_accuracy: 0.66599 |  0:00:00s\n",
      "epoch 10 | loss: 0.21073 | train_auc: 0.97094 | train_accuracy: 0.92241 | valid_auc: 0.91135 | valid_accuracy: 0.8664  |  0:00:09s\n",
      "epoch 20 | loss: 0.11123 | train_auc: 0.98737 | train_accuracy: 0.9356  | valid_auc: 0.93921 | valid_accuracy: 0.88462 |  0:00:18s\n",
      "epoch 30 | loss: 0.05916 | train_auc: 0.99963 | train_accuracy: 0.99391 | valid_auc: 0.9596  | valid_accuracy: 0.89879 |  0:00:26s\n",
      "\n",
      "Early stopping occurred at epoch 35 with best_epoch = 25 and best_valid_accuracy = 0.92308\n",
      "Best weights from best epoch are automatically used!\n"
     ]
    },
    {
     "name": "stderr",
     "output_type": "stream",
     "text": [
      "\u001b[32m[I 2022-07-05 09:31:52,078]\u001b[0m Trial 1 finished with value: 0.92308 and parameters: {'n_steps': 2, 'gamma': 1.0398468117132853}. Best is trial 0 with value: 0.9251.\u001b[0m\n"
     ]
    },
    {
     "name": "stdout",
     "output_type": "stream",
     "text": [
      "Device used : cpu\n",
      "Loading weights from unsupervised pretraining\n",
      "epoch 0  | loss: 0.73727 | train_auc: 0.71266 | train_accuracy: 0.64909 | valid_auc: 0.68714 | valid_accuracy: 0.62551 |  0:00:00s\n",
      "epoch 10 | loss: 0.20233 | train_auc: 0.96031 | train_accuracy: 0.88235 | valid_auc: 0.91394 | valid_accuracy: 0.84008 |  0:00:09s\n",
      "epoch 20 | loss: 0.1268  | train_auc: 0.98599 | train_accuracy: 0.95335 | valid_auc: 0.92506 | valid_accuracy: 0.87652 |  0:00:18s\n",
      "epoch 30 | loss: 0.07004 | train_auc: 0.9987  | train_accuracy: 0.98479 | valid_auc: 0.95936 | valid_accuracy: 0.90283 |  0:00:26s\n",
      "epoch 40 | loss: 0.08562 | train_auc: 0.99842 | train_accuracy: 0.98631 | valid_auc: 0.94866 | valid_accuracy: 0.91093 |  0:00:35s\n",
      "\n",
      "Early stopping occurred at epoch 44 with best_epoch = 34 and best_valid_accuracy = 0.92713\n",
      "Best weights from best epoch are automatically used!\n"
     ]
    },
    {
     "name": "stderr",
     "output_type": "stream",
     "text": [
      "\u001b[32m[I 2022-07-05 09:32:31,731]\u001b[0m Trial 2 finished with value: 0.92713 and parameters: {'n_steps': 5, 'gamma': 1.6804153470298342}. Best is trial 2 with value: 0.92713.\u001b[0m\n"
     ]
    },
    {
     "name": "stdout",
     "output_type": "stream",
     "text": [
      "Device used : cpu\n",
      "Loading weights from unsupervised pretraining\n",
      "epoch 0  | loss: 0.72905 | train_auc: 0.69587 | train_accuracy: 0.64047 | valid_auc: 0.68161 | valid_accuracy: 0.6417  |  0:00:00s\n",
      "epoch 10 | loss: 0.21877 | train_auc: 0.97343 | train_accuracy: 0.89097 | valid_auc: 0.91684 | valid_accuracy: 0.81984 |  0:00:09s\n",
      "epoch 20 | loss: 0.11237 | train_auc: 0.99292 | train_accuracy: 0.96552 | valid_auc: 0.94116 | valid_accuracy: 0.89069 |  0:00:18s\n",
      "\n",
      "Early stopping occurred at epoch 27 with best_epoch = 17 and best_valid_accuracy = 0.90891\n",
      "Best weights from best epoch are automatically used!\n"
     ]
    },
    {
     "name": "stderr",
     "output_type": "stream",
     "text": [
      "\u001b[32m[I 2022-07-05 09:32:54,894]\u001b[0m Trial 3 finished with value: 0.90891 and parameters: {'n_steps': 10, 'gamma': 1.4639149033138008}. Best is trial 2 with value: 0.92713.\u001b[0m\n"
     ]
    },
    {
     "name": "stdout",
     "output_type": "stream",
     "text": [
      "Device used : cpu\n",
      "Loading weights from unsupervised pretraining\n",
      "epoch 0  | loss: 0.73793 | train_auc: 0.72116 | train_accuracy: 0.66633 | valid_auc: 0.69827 | valid_accuracy: 0.66802 |  0:00:00s\n",
      "epoch 10 | loss: 0.22604 | train_auc: 0.93605 | train_accuracy: 0.87018 | valid_auc: 0.88198 | valid_accuracy: 0.80769 |  0:00:07s\n",
      "epoch 20 | loss: 0.15289 | train_auc: 0.99222 | train_accuracy: 0.96856 | valid_auc: 0.93483 | valid_accuracy: 0.89271 |  0:00:13s\n",
      "epoch 30 | loss: 0.07815 | train_auc: 0.99875 | train_accuracy: 0.98783 | valid_auc: 0.95645 | valid_accuracy: 0.91498 |  0:00:19s\n",
      "epoch 40 | loss: 0.07608 | train_auc: 0.99965 | train_accuracy: 0.99189 | valid_auc: 0.96035 | valid_accuracy: 0.88664 |  0:00:26s\n",
      "\n",
      "Early stopping occurred at epoch 41 with best_epoch = 31 and best_valid_accuracy = 0.92308\n",
      "Best weights from best epoch are automatically used!\n"
     ]
    },
    {
     "name": "stderr",
     "output_type": "stream",
     "text": [
      "\u001b[32m[I 2022-07-05 09:33:22,204]\u001b[0m Trial 4 finished with value: 0.92308 and parameters: {'n_steps': 9, 'gamma': 1.9884809515316235}. Best is trial 2 with value: 0.92713.\u001b[0m\n"
     ]
    },
    {
     "name": "stdout",
     "output_type": "stream",
     "text": [
      "Device used : cpu\n",
      "Loading weights from unsupervised pretraining\n",
      "epoch 0  | loss: 0.73415 | train_auc: 0.72336 | train_accuracy: 0.66329 | valid_auc: 0.70496 | valid_accuracy: 0.65789 |  0:00:00s\n",
      "epoch 10 | loss: 0.23626 | train_auc: 0.96854 | train_accuracy: 0.88895 | valid_auc: 0.9141  | valid_accuracy: 0.81579 |  0:00:06s\n",
      "epoch 20 | loss: 0.12594 | train_auc: 0.99542 | train_accuracy: 0.97667 | valid_auc: 0.9428  | valid_accuracy: 0.88664 |  0:00:13s\n",
      "epoch 30 | loss: 0.07454 | train_auc: 0.99759 | train_accuracy: 0.98834 | valid_auc: 0.95888 | valid_accuracy: 0.90891 |  0:00:19s\n",
      "epoch 40 | loss: 0.09965 | train_auc: 0.99544 | train_accuracy: 0.97617 | valid_auc: 0.94402 | valid_accuracy: 0.88057 |  0:00:25s\n",
      "\n",
      "Early stopping occurred at epoch 44 with best_epoch = 34 and best_valid_accuracy = 0.92915\n",
      "Best weights from best epoch are automatically used!\n"
     ]
    },
    {
     "name": "stderr",
     "output_type": "stream",
     "text": [
      "\u001b[32m[I 2022-07-05 09:33:51,005]\u001b[0m Trial 5 finished with value: 0.92915 and parameters: {'n_steps': 2, 'gamma': 1.7543947826932837}. Best is trial 5 with value: 0.92915.\u001b[0m\n"
     ]
    },
    {
     "name": "stdout",
     "output_type": "stream",
     "text": [
      "Device used : cpu\n",
      "Loading weights from unsupervised pretraining\n",
      "epoch 0  | loss: 0.72861 | train_auc: 0.73953 | train_accuracy: 0.67343 | valid_auc: 0.74986 | valid_accuracy: 0.67814 |  0:00:00s\n",
      "epoch 10 | loss: 0.22398 | train_auc: 0.95337 | train_accuracy: 0.88032 | valid_auc: 0.87064 | valid_accuracy: 0.80972 |  0:00:06s\n",
      "epoch 20 | loss: 0.12502 | train_auc: 0.99424 | train_accuracy: 0.964   | valid_auc: 0.93995 | valid_accuracy: 0.88664 |  0:00:13s\n",
      "epoch 30 | loss: 0.0696  | train_auc: 0.99844 | train_accuracy: 0.98428 | valid_auc: 0.94333 | valid_accuracy: 0.89271 |  0:00:19s\n",
      "\n",
      "Early stopping occurred at epoch 31 with best_epoch = 21 and best_valid_accuracy = 0.91296\n",
      "Best weights from best epoch are automatically used!\n"
     ]
    },
    {
     "name": "stderr",
     "output_type": "stream",
     "text": [
      "\u001b[32m[I 2022-07-05 09:34:11,593]\u001b[0m Trial 6 finished with value: 0.91296 and parameters: {'n_steps': 8, 'gamma': 1.5384087502516142}. Best is trial 5 with value: 0.92915.\u001b[0m\n"
     ]
    },
    {
     "name": "stdout",
     "output_type": "stream",
     "text": [
      "Device used : cpu\n",
      "Loading weights from unsupervised pretraining\n",
      "epoch 0  | loss: 0.73646 | train_auc: 0.73738 | train_accuracy: 0.69726 | valid_auc: 0.73167 | valid_accuracy: 0.69028 |  0:00:00s\n",
      "epoch 10 | loss: 0.20187 | train_auc: 0.96773 | train_accuracy: 0.88945 | valid_auc: 0.89341 | valid_accuracy: 0.81781 |  0:00:07s\n",
      "epoch 20 | loss: 0.10532 | train_auc: 0.99896 | train_accuracy: 0.98529 | valid_auc: 0.94754 | valid_accuracy: 0.88866 |  0:00:13s\n",
      "epoch 30 | loss: 0.05926 | train_auc: 0.999   | train_accuracy: 0.98022 | valid_auc: 0.94213 | valid_accuracy: 0.88057 |  0:00:19s\n",
      "\n",
      "Early stopping occurred at epoch 38 with best_epoch = 28 and best_valid_accuracy = 0.92915\n",
      "Best weights from best epoch are automatically used!\n"
     ]
    },
    {
     "name": "stderr",
     "output_type": "stream",
     "text": [
      "\u001b[32m[I 2022-07-05 09:34:36,803]\u001b[0m Trial 7 finished with value: 0.92915 and parameters: {'n_steps': 7, 'gamma': 1.886983757224714}. Best is trial 5 with value: 0.92915.\u001b[0m\n"
     ]
    },
    {
     "name": "stdout",
     "output_type": "stream",
     "text": [
      "Device used : cpu\n",
      "Loading weights from unsupervised pretraining\n",
      "epoch 0  | loss: 0.71272 | train_auc: 0.75133 | train_accuracy: 0.69168 | valid_auc: 0.75576 | valid_accuracy: 0.67814 |  0:00:00s\n",
      "epoch 10 | loss: 0.19247 | train_auc: 0.98241 | train_accuracy: 0.91379 | valid_auc: 0.92188 | valid_accuracy: 0.8583  |  0:00:06s\n",
      "epoch 20 | loss: 0.11074 | train_auc: 0.99547 | train_accuracy: 0.98631 | valid_auc: 0.95511 | valid_accuracy: 0.88664 |  0:00:13s\n",
      "epoch 30 | loss: 0.07591 | train_auc: 0.99703 | train_accuracy: 0.98783 | valid_auc: 0.95025 | valid_accuracy: 0.90283 |  0:00:19s\n",
      "epoch 40 | loss: 0.0747  | train_auc: 0.99801 | train_accuracy: 0.97819 | valid_auc: 0.96602 | valid_accuracy: 0.90283 |  0:00:25s\n",
      "epoch 50 | loss: 0.06521 | train_auc: 0.99987 | train_accuracy: 0.99493 | valid_auc: 0.94638 | valid_accuracy: 0.89676 |  0:00:32s\n",
      "\n",
      "Early stopping occurred at epoch 53 with best_epoch = 43 and best_valid_accuracy = 0.92308\n",
      "Best weights from best epoch are automatically used!\n"
     ]
    },
    {
     "name": "stderr",
     "output_type": "stream",
     "text": [
      "\u001b[32m[I 2022-07-05 09:35:11,475]\u001b[0m Trial 8 finished with value: 0.92308 and parameters: {'n_steps': 2, 'gamma': 1.0572169541124192}. Best is trial 5 with value: 0.92915.\u001b[0m\n"
     ]
    },
    {
     "name": "stdout",
     "output_type": "stream",
     "text": [
      "Device used : cpu\n",
      "Loading weights from unsupervised pretraining\n",
      "epoch 0  | loss: 0.72637 | train_auc: 0.70279 | train_accuracy: 0.6572  | valid_auc: 0.69042 | valid_accuracy: 0.6498  |  0:00:00s\n",
      "epoch 10 | loss: 0.24139 | train_auc: 0.96469 | train_accuracy: 0.89807 | valid_auc: 0.9102  | valid_accuracy: 0.84413 |  0:00:07s\n",
      "epoch 20 | loss: 0.14574 | train_auc: 0.99621 | train_accuracy: 0.97617 | valid_auc: 0.93872 | valid_accuracy: 0.88259 |  0:00:13s\n",
      "epoch 30 | loss: 0.07442 | train_auc: 0.9953  | train_accuracy: 0.97008 | valid_auc: 0.92278 | valid_accuracy: 0.87854 |  0:00:19s\n",
      "epoch 40 | loss: 0.09106 | train_auc: 0.99668 | train_accuracy: 0.98225 | valid_auc: 0.93305 | valid_accuracy: 0.88866 |  0:00:25s\n",
      "\n",
      "Early stopping occurred at epoch 44 with best_epoch = 34 and best_valid_accuracy = 0.93117\n",
      "Best weights from best epoch are automatically used!\n"
     ]
    },
    {
     "name": "stderr",
     "output_type": "stream",
     "text": [
      "\u001b[32m[I 2022-07-05 09:35:40,438]\u001b[0m Trial 9 finished with value: 0.93117 and parameters: {'n_steps': 5, 'gamma': 1.9037201327662776}. Best is trial 9 with value: 0.93117.\u001b[0m\n"
     ]
    },
    {
     "name": "stdout",
     "output_type": "stream",
     "text": [
      "Device used : cpu\n",
      "Loading weights from unsupervised pretraining\n",
      "epoch 0  | loss: 0.71884 | train_auc: 0.70874 | train_accuracy: 0.66329 | valid_auc: 0.68582 | valid_accuracy: 0.63765 |  0:00:00s\n",
      "epoch 10 | loss: 0.24953 | train_auc: 0.97399 | train_accuracy: 0.91481 | valid_auc: 0.92178 | valid_accuracy: 0.84818 |  0:00:07s\n",
      "epoch 20 | loss: 0.12683 | train_auc: 0.99587 | train_accuracy: 0.97363 | valid_auc: 0.93963 | valid_accuracy: 0.88259 |  0:00:13s\n",
      "epoch 30 | loss: 0.08662 | train_auc: 0.99524 | train_accuracy: 0.96552 | valid_auc: 0.95641 | valid_accuracy: 0.89474 |  0:00:19s\n",
      "\n",
      "Early stopping occurred at epoch 39 with best_epoch = 29 and best_valid_accuracy = 0.9251\n",
      "Best weights from best epoch are automatically used!\n"
     ]
    },
    {
     "name": "stderr",
     "output_type": "stream",
     "text": [
      "\u001b[32m[I 2022-07-05 09:36:06,301]\u001b[0m Trial 10 finished with value: 0.9251 and parameters: {'n_steps': 5, 'gamma': 1.3136217289236705}. Best is trial 9 with value: 0.93117.\u001b[0m\n"
     ]
    },
    {
     "name": "stdout",
     "output_type": "stream",
     "text": [
      "Device used : cpu\n",
      "Loading weights from unsupervised pretraining\n",
      "epoch 0  | loss: 0.73155 | train_auc: 0.74686 | train_accuracy: 0.67495 | valid_auc: 0.7333  | valid_accuracy: 0.64777 |  0:00:00s\n",
      "epoch 10 | loss: 0.17768 | train_auc: 0.9753  | train_accuracy: 0.92596 | valid_auc: 0.91036 | valid_accuracy: 0.8502  |  0:00:07s\n",
      "epoch 20 | loss: 0.09895 | train_auc: 0.99635 | train_accuracy: 0.97972 | valid_auc: 0.96169 | valid_accuracy: 0.90081 |  0:00:13s\n",
      "epoch 30 | loss: 0.07301 | train_auc: 0.99662 | train_accuracy: 0.98073 | valid_auc: 0.95931 | valid_accuracy: 0.89879 |  0:00:19s\n",
      "\n",
      "Early stopping occurred at epoch 31 with best_epoch = 21 and best_valid_accuracy = 0.92713\n",
      "Best weights from best epoch are automatically used!\n"
     ]
    },
    {
     "name": "stderr",
     "output_type": "stream",
     "text": [
      "\u001b[32m[I 2022-07-05 09:36:26,957]\u001b[0m Trial 11 finished with value: 0.92713 and parameters: {'n_steps': 1, 'gamma': 1.7787051955743958}. Best is trial 9 with value: 0.93117.\u001b[0m\n"
     ]
    },
    {
     "name": "stdout",
     "output_type": "stream",
     "text": [
      "Device used : cpu\n",
      "Loading weights from unsupervised pretraining\n",
      "epoch 0  | loss: 0.73175 | train_auc: 0.74113 | train_accuracy: 0.66126 | valid_auc: 0.72992 | valid_accuracy: 0.63158 |  0:00:00s\n",
      "epoch 10 | loss: 0.21388 | train_auc: 0.97217 | train_accuracy: 0.92444 | valid_auc: 0.92065 | valid_accuracy: 0.85628 |  0:00:07s\n",
      "epoch 20 | loss: 0.13208 | train_auc: 0.99063 | train_accuracy: 0.96602 | valid_auc: 0.94754 | valid_accuracy: 0.89676 |  0:00:13s\n",
      "epoch 30 | loss: 0.09223 | train_auc: 0.99848 | train_accuracy: 0.98935 | valid_auc: 0.94858 | valid_accuracy: 0.89271 |  0:00:19s\n",
      "\n",
      "Early stopping occurred at epoch 31 with best_epoch = 21 and best_valid_accuracy = 0.91296\n",
      "Best weights from best epoch are automatically used!\n"
     ]
    },
    {
     "name": "stderr",
     "output_type": "stream",
     "text": [
      "\u001b[32m[I 2022-07-05 09:36:47,721]\u001b[0m Trial 12 finished with value: 0.91296 and parameters: {'n_steps': 4, 'gamma': 1.7171044677135545}. Best is trial 9 with value: 0.93117.\u001b[0m\n"
     ]
    },
    {
     "name": "stdout",
     "output_type": "stream",
     "text": [
      "Device used : cpu\n",
      "Loading weights from unsupervised pretraining\n",
      "epoch 0  | loss: 0.73716 | train_auc: 0.73941 | train_accuracy: 0.68408 | valid_auc: 0.72469 | valid_accuracy: 0.68016 |  0:00:00s\n",
      "epoch 10 | loss: 0.21548 | train_auc: 0.95226 | train_accuracy: 0.84888 | valid_auc: 0.89469 | valid_accuracy: 0.81174 |  0:00:06s\n",
      "epoch 20 | loss: 0.1207  | train_auc: 0.9986  | train_accuracy: 0.98073 | valid_auc: 0.94948 | valid_accuracy: 0.88057 |  0:00:13s\n",
      "epoch 30 | loss: 0.05029 | train_auc: 0.99983 | train_accuracy: 0.9929  | valid_auc: 0.9502  | valid_accuracy: 0.88866 |  0:00:19s\n",
      "\n",
      "Early stopping occurred at epoch 33 with best_epoch = 23 and best_valid_accuracy = 0.90891\n",
      "Best weights from best epoch are automatically used!\n"
     ]
    },
    {
     "name": "stderr",
     "output_type": "stream",
     "text": [
      "\u001b[32m[I 2022-07-05 09:37:09,506]\u001b[0m Trial 13 finished with value: 0.90891 and parameters: {'n_steps': 3, 'gamma': 1.9775534250080362}. Best is trial 9 with value: 0.93117.\u001b[0m\n"
     ]
    },
    {
     "name": "stdout",
     "output_type": "stream",
     "text": [
      "Device used : cpu\n",
      "Loading weights from unsupervised pretraining\n",
      "epoch 0  | loss: 0.73335 | train_auc: 0.7081  | train_accuracy: 0.65568 | valid_auc: 0.67774 | valid_accuracy: 0.6336  |  0:00:00s\n",
      "epoch 10 | loss: 0.21154 | train_auc: 0.97237 | train_accuracy: 0.92951 | valid_auc: 0.92562 | valid_accuracy: 0.87652 |  0:00:07s\n",
      "epoch 20 | loss: 0.12193 | train_auc: 0.99698 | train_accuracy: 0.9858  | valid_auc: 0.9632  | valid_accuracy: 0.91296 |  0:00:13s\n",
      "epoch 30 | loss: 0.07656 | train_auc: 0.99867 | train_accuracy: 0.9858  | valid_auc: 0.96541 | valid_accuracy: 0.9251  |  0:00:19s\n",
      "epoch 40 | loss: 0.06863 | train_auc: 0.99942 | train_accuracy: 0.99037 | valid_auc: 0.95153 | valid_accuracy: 0.90283 |  0:00:25s\n",
      "\n",
      "Early stopping occurred at epoch 41 with best_epoch = 31 and best_valid_accuracy = 0.93725\n",
      "Best weights from best epoch are automatically used!\n"
     ]
    },
    {
     "name": "stderr",
     "output_type": "stream",
     "text": [
      "\u001b[32m[I 2022-07-05 09:37:36,472]\u001b[0m Trial 14 finished with value: 0.93725 and parameters: {'n_steps': 6, 'gamma': 1.823432125206781}. Best is trial 14 with value: 0.93725.\u001b[0m\n"
     ]
    },
    {
     "name": "stdout",
     "output_type": "stream",
     "text": [
      "Device used : cpu\n",
      "Loading weights from unsupervised pretraining\n",
      "epoch 0  | loss: 0.73315 | train_auc: 0.71668 | train_accuracy: 0.65213 | valid_auc: 0.69305 | valid_accuracy: 0.62955 |  0:00:00s\n",
      "epoch 10 | loss: 0.20496 | train_auc: 0.96055 | train_accuracy: 0.85649 | valid_auc: 0.89889 | valid_accuracy: 0.80567 |  0:00:06s\n",
      "epoch 20 | loss: 0.1098  | train_auc: 0.993   | train_accuracy: 0.964   | valid_auc: 0.94365 | valid_accuracy: 0.87449 |  0:00:13s\n",
      "epoch 30 | loss: 0.07329 | train_auc: 0.99938 | train_accuracy: 0.98022 | valid_auc: 0.94733 | valid_accuracy: 0.87854 |  0:00:19s\n",
      "\n",
      "Early stopping occurred at epoch 35 with best_epoch = 25 and best_valid_accuracy = 0.91093\n",
      "Best weights from best epoch are automatically used!\n"
     ]
    },
    {
     "name": "stderr",
     "output_type": "stream",
     "text": [
      "\u001b[32m[I 2022-07-05 09:37:59,895]\u001b[0m Trial 15 finished with value: 0.91093 and parameters: {'n_steps': 6, 'gamma': 1.6070058010574575}. Best is trial 14 with value: 0.93725.\u001b[0m\n"
     ]
    },
    {
     "name": "stdout",
     "output_type": "stream",
     "text": [
      "Device used : cpu\n",
      "Loading weights from unsupervised pretraining\n",
      "epoch 0  | loss: 0.73447 | train_auc: 0.72034 | train_accuracy: 0.67292 | valid_auc: 0.70482 | valid_accuracy: 0.65182 |  0:00:00s\n",
      "epoch 10 | loss: 0.22789 | train_auc: 0.9496  | train_accuracy: 0.88438 | valid_auc: 0.90313 | valid_accuracy: 0.84008 |  0:00:07s\n",
      "epoch 20 | loss: 0.11984 | train_auc: 0.9964  | train_accuracy: 0.96856 | valid_auc: 0.93647 | valid_accuracy: 0.88664 |  0:00:13s\n",
      "epoch 30 | loss: 0.06991 | train_auc: 0.99649 | train_accuracy: 0.9787  | valid_auc: 0.92848 | valid_accuracy: 0.86437 |  0:00:20s\n",
      "epoch 40 | loss: 0.07888 | train_auc: 0.99876 | train_accuracy: 0.9858  | valid_auc: 0.946   | valid_accuracy: 0.89676 |  0:00:26s\n",
      "\n",
      "Early stopping occurred at epoch 45 with best_epoch = 35 and best_valid_accuracy = 0.917\n",
      "Best weights from best epoch are automatically used!\n"
     ]
    },
    {
     "name": "stderr",
     "output_type": "stream",
     "text": [
      "\u001b[32m[I 2022-07-05 09:38:30,031]\u001b[0m Trial 16 finished with value: 0.917 and parameters: {'n_steps': 6, 'gamma': 1.8528827125444858}. Best is trial 14 with value: 0.93725.\u001b[0m\n"
     ]
    },
    {
     "name": "stdout",
     "output_type": "stream",
     "text": [
      "Device used : cpu\n",
      "Loading weights from unsupervised pretraining\n",
      "epoch 0  | loss: 0.73524 | train_auc: 0.70409 | train_accuracy: 0.65264 | valid_auc: 0.69178 | valid_accuracy: 0.62955 |  0:00:00s\n",
      "epoch 10 | loss: 0.19666 | train_auc: 0.98032 | train_accuracy: 0.93408 | valid_auc: 0.9175  | valid_accuracy: 0.84818 |  0:00:07s\n",
      "epoch 20 | loss: 0.11012 | train_auc: 0.99576 | train_accuracy: 0.97972 | valid_auc: 0.94382 | valid_accuracy: 0.88866 |  0:00:13s\n",
      "\n",
      "Early stopping occurred at epoch 27 with best_epoch = 17 and best_valid_accuracy = 0.93117\n",
      "Best weights from best epoch are automatically used!\n"
     ]
    },
    {
     "name": "stderr",
     "output_type": "stream",
     "text": [
      "\u001b[32m[I 2022-07-05 09:38:48,782]\u001b[0m Trial 17 finished with value: 0.93117 and parameters: {'n_steps': 4, 'gamma': 1.866297910060952}. Best is trial 14 with value: 0.93725.\u001b[0m\n"
     ]
    },
    {
     "name": "stdout",
     "output_type": "stream",
     "text": [
      "Device used : cpu\n",
      "Loading weights from unsupervised pretraining\n",
      "epoch 0  | loss: 0.73441 | train_auc: 0.71508 | train_accuracy: 0.66278 | valid_auc: 0.67928 | valid_accuracy: 0.64777 |  0:00:00s\n",
      "epoch 10 | loss: 0.20421 | train_auc: 0.96104 | train_accuracy: 0.89199 | valid_auc: 0.91893 | valid_accuracy: 0.83198 |  0:00:07s\n",
      "epoch 20 | loss: 0.14688 | train_auc: 0.9878  | train_accuracy: 0.95132 | valid_auc: 0.91991 | valid_accuracy: 0.87449 |  0:00:13s\n",
      "\n",
      "Early stopping occurred at epoch 25 with best_epoch = 15 and best_valid_accuracy = 0.917\n",
      "Best weights from best epoch are automatically used!\n"
     ]
    },
    {
     "name": "stderr",
     "output_type": "stream",
     "text": [
      "\u001b[32m[I 2022-07-05 09:39:05,833]\u001b[0m Trial 18 finished with value: 0.917 and parameters: {'n_steps': 4, 'gamma': 1.6280263867928626}. Best is trial 14 with value: 0.93725.\u001b[0m\n"
     ]
    },
    {
     "name": "stdout",
     "output_type": "stream",
     "text": [
      "Device used : cpu\n",
      "Loading weights from unsupervised pretraining\n",
      "epoch 0  | loss: 0.70995 | train_auc: 0.73923 | train_accuracy: 0.65517 | valid_auc: 0.75386 | valid_accuracy: 0.65992 |  0:00:00s\n",
      "epoch 10 | loss: 0.21756 | train_auc: 0.95625 | train_accuracy: 0.89148 | valid_auc: 0.90711 | valid_accuracy: 0.81984 |  0:00:06s\n",
      "epoch 20 | loss: 0.13763 | train_auc: 0.98842 | train_accuracy: 0.95385 | valid_auc: 0.94774 | valid_accuracy: 0.87652 |  0:00:13s\n",
      "\n",
      "Early stopping occurred at epoch 28 with best_epoch = 18 and best_valid_accuracy = 0.90688\n",
      "Best weights from best epoch are automatically used!\n"
     ]
    },
    {
     "name": "stderr",
     "output_type": "stream",
     "text": [
      "\u001b[32m[I 2022-07-05 09:39:24,635]\u001b[0m Trial 19 finished with value: 0.90688 and parameters: {'n_steps': 7, 'gamma': 1.1779432532646972}. Best is trial 14 with value: 0.93725.\u001b[0m\n"
     ]
    }
   ],
   "source": [
    "#\n",
    "# cre<te an launch the study\n",
    "#\n",
    "study = optuna.create_study(direction=\"maximize\")\n",
    "\n",
    "study.optimize(objective, n_trials=20)"
   ]
  },
  {
   "cell_type": "code",
   "execution_count": 21,
   "id": "e07585d3",
   "metadata": {},
   "outputs": [
    {
     "data": {
      "text/plain": [
       "{'n_steps': 6, 'gamma': 1.823432125206781}"
      ]
     },
     "execution_count": 21,
     "metadata": {},
     "output_type": "execute_result"
    }
   ],
   "source": [
    "study.best_params"
   ]
  },
  {
   "cell_type": "code",
   "execution_count": 22,
   "id": "18c75462",
   "metadata": {},
   "outputs": [
    {
     "name": "stdout",
     "output_type": "stream",
     "text": [
      "Device used : cpu\n",
      "Loading weights from unsupervised pretraining\n",
      "epoch 0  | loss: 0.73335 | train_auc: 0.7081  | train_accuracy: 0.65568 | valid_auc: 0.67774 | valid_accuracy: 0.6336  |  0:00:00s\n",
      "epoch 5  | loss: 0.31904 | train_auc: 0.91387 | train_accuracy: 0.82961 | valid_auc: 0.87193 | valid_accuracy: 0.7915  |  0:00:03s\n",
      "epoch 10 | loss: 0.21154 | train_auc: 0.97237 | train_accuracy: 0.92951 | valid_auc: 0.92562 | valid_accuracy: 0.87652 |  0:00:07s\n",
      "epoch 15 | loss: 0.15628 | train_auc: 0.99101 | train_accuracy: 0.95892 | valid_auc: 0.94251 | valid_accuracy: 0.87652 |  0:00:10s\n",
      "epoch 20 | loss: 0.12193 | train_auc: 0.99698 | train_accuracy: 0.9858  | valid_auc: 0.9632  | valid_accuracy: 0.91296 |  0:00:13s\n",
      "epoch 25 | loss: 0.07446 | train_auc: 0.99793 | train_accuracy: 0.98884 | valid_auc: 0.95975 | valid_accuracy: 0.91093 |  0:00:16s\n",
      "epoch 30 | loss: 0.07656 | train_auc: 0.99867 | train_accuracy: 0.9858  | valid_auc: 0.96541 | valid_accuracy: 0.9251  |  0:00:19s\n",
      "epoch 35 | loss: 0.07427 | train_auc: 0.99838 | train_accuracy: 0.98986 | valid_auc: 0.95319 | valid_accuracy: 0.90081 |  0:00:22s\n",
      "epoch 40 | loss: 0.06863 | train_auc: 0.99942 | train_accuracy: 0.99037 | valid_auc: 0.95153 | valid_accuracy: 0.90283 |  0:00:26s\n",
      "\n",
      "Early stopping occurred at epoch 41 with best_epoch = 31 and best_valid_accuracy = 0.93725\n",
      "Best weights from best epoch are automatically used!\n"
     ]
    }
   ],
   "source": [
    "# train with best params: {'n_steps': 6, 'gamma': 1.823432125206781}\n",
    "# il risultato è riproducibile\n",
    "\n",
    "params = {\n",
    "    \"cat_idxs\" : cat_idxs,\n",
    "    \"cat_dims\" : cat_dims,\n",
    "    \"n_steps\" : study.best_params['n_steps'],\n",
    "    \"gamma\" : study.best_params['gamma'],\n",
    "    \"verbose\" : 5\n",
    "    }\n",
    "clf = TabNetClassifier(**params)\n",
    "\n",
    "clf.fit(\n",
    "    X_train=X_train, y_train=y_train,\n",
    "    eval_set=[(X_train, y_train), (X_test, y_test)],\n",
    "    eval_name=['train', 'valid'],\n",
    "    eval_metric=['auc', 'accuracy'],\n",
    "    from_unsupervised=unsupervised_model,\n",
    "    batch_size=128, \n",
    "    max_epochs = 50\n",
    ")"
   ]
  },
  {
   "cell_type": "code",
   "execution_count": 23,
   "id": "cca14cde",
   "metadata": {},
   "outputs": [
    {
     "name": "stdout",
     "output_type": "stream",
     "text": [
      "Test set Classification Report:\n",
      "              precision    recall  f1-score   support\n",
      "\n",
      "           0     0.9828    0.8941    0.9363       255\n",
      "           1     0.8969    0.9833    0.9381       239\n",
      "\n",
      "    accuracy                         0.9372       494\n",
      "   macro avg     0.9399    0.9387    0.9372       494\n",
      "weighted avg     0.9412    0.9372    0.9372       494\n",
      "\n",
      "ROC AUC 0.968\n"
     ]
    }
   ],
   "source": [
    "# migliorata significativamente con la gestione delle categoriche e sopratutto pre-training\n",
    "\n",
    "test_pred = clf.predict(X_test)\n",
    "test_probas = clf.predict_proba(X_test)\n",
    "\n",
    "print('Test set Classification Report:')\n",
    "print(classification_report(y_test, test_pred, digits=4))\n",
    "\n",
    "print(\"ROC AUC\",round(roc_auc_score(y_test, test_probas[:,1]), 3))"
   ]
  },
  {
   "cell_type": "code",
   "execution_count": 24,
   "id": "9d579346",
   "metadata": {},
   "outputs": [
    {
     "data": {
      "image/png": "[encoded data removed]",
      "text/plain": [
       "<Figure size 432x288 with 2 Axes>"
      ]
     },
     "metadata": {
      "needs_background": "light"
     },
     "output_type": "display_data"
    }
   ],
   "source": [
    "def plot_cm(model, x_test, y_test):\n",
    "    y_pred_labels = model.predict(x_test)\n",
    "    cm = confusion_matrix(y_test, y_pred_labels)\n",
    "    disp = ConfusionMatrixDisplay(confusion_matrix=cm)\n",
    "    disp.plot();\n",
    "    \n",
    "plot_cm(clf, X_test, y_test)"
   ]
  },
  {
   "cell_type": "code",
   "execution_count": 25,
   "id": "29f8bc56",
   "metadata": {},
   "outputs": [
    {
     "data": {
      "image/png": "[encoded data removed]",
      "text/plain": [
       "<Figure size 864x648 with 1 Axes>"
      ]
     },
     "metadata": {
      "needs_background": "light"
     },
     "output_type": "display_data"
    }
   ],
   "source": [
    "plt.figure(figsize=(12,9))\n",
    "plt.bar(x=features, height=clf.feature_importances_)\n",
    "plt.xticks(rotation=90)\n",
    "plt.grid(True)\n",
    "plt.show();"
   ]
  },
  {
   "cell_type": "code",
   "execution_count": 27,
   "id": "5e072aa9",
   "metadata": {},
   "outputs": [
    {
     "name": "stdout",
     "output_type": "stream",
     "text": [
      "Successfully saved model at ./tabnet_model/tabnet_model.zip\n"
     ]
    }
   ],
   "source": [
    "saving_path_name = \"./tabnet_model/tabnet_model\"\n",
    "saved_filepath = clf.save_model(saving_path_name)"
   ]
  },
  {
   "cell_type": "code",
   "execution_count": 37,
   "id": "d4bd95ac",
   "metadata": {},
   "outputs": [],
   "source": [
    "ads_model = GenericModel(estimator=clf,\n",
    "                artifact_dir=\"./artifact_dir\"\n",
    "            )"
   ]
  },
  {
   "cell_type": "code",
   "execution_count": 44,
   "id": "18ac9f10",
   "metadata": {},
   "outputs": [],
   "source": [
    "# here we should put the custom conda env\n",
    "ads_model.prepare(inference_conda_env=\"pytorch110_p37_cpu_v1\", force_overwrite=True)"
   ]
  },
  {
   "cell_type": "code",
   "execution_count": null,
   "id": "ee79bc7b",
   "metadata": {},
   "outputs": [],
   "source": []
  }
 ],
 "metadata": {
  "kernelspec": {
   "display_name": "Python [conda env:mypytorch110_p37_cpu_v1_0]",
   "language": "python",
   "name": "conda-env-mypytorch110_p37_cpu_v1_0-py"
  },
  "language_info": {
   "codemirror_mode": {
    "name": "ipython",
    "version": 3
   },
   "file_extension": ".py",
   "mimetype": "text/x-python",
   "name": "python",
   "nbconvert_exporter": "python",
   "pygments_lexer": "ipython3",
   "version": "3.7.12"
  }
 },
 "nbformat": 4,
 "nbformat_minor": 5
}
