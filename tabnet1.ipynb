{
 "cells": [
  {
   "cell_type": "markdown",
   "id": "e643af00",
   "metadata": {},
   "source": [
    "### Test Tabnet on Employee Attrition Data"
   ]
  },
  {
   "cell_type": "code",
   "execution_count": 1,
   "id": "eaf4ee65",
   "metadata": {},
   "outputs": [],
   "source": [
    "import pandas as pd\n",
    "import numpy as np\n",
    "import ads\n",
    "\n",
    "import torch\n",
    "from pytorch_tabnet.tab_model import TabNetClassifier\n",
    "from pytorch_tabnet.pretraining import TabNetPretrainer\n",
    "\n",
    "from pytorch_tabnet.metrics import Metric\n",
    "\n",
    "from sklearn.metrics import classification_report\n",
    "from sklearn.metrics import get_scorer, make_scorer, f1_score\n",
    "from sklearn.metrics import roc_auc_score, accuracy_score, confusion_matrix, ConfusionMatrixDisplay\n",
    "from sklearn.model_selection import train_test_split\n",
    "\n",
    "from ads.dataset.factory import DatasetFactory\n",
    "\n",
    "import optuna\n",
    "\n",
    "from sklearn.preprocessing import OrdinalEncoder\n",
    "from sklearn.preprocessing import OneHotEncoder, LabelEncoder\n",
    "import logging\n",
    "import warnings\n",
    "\n",
    "import matplotlib.pyplot as plt\n",
    "\n",
    "warnings.filterwarnings('ignore')\n",
    "logging.basicConfig(format='%(levelname)s:%(message)s', level=logging.ERROR)\n",
    "\n",
    "%matplotlib inline"
   ]
  },
  {
   "cell_type": "code",
   "execution_count": 2,
   "id": "020ec165",
   "metadata": {},
   "outputs": [
    {
     "name": "stdout",
     "output_type": "stream",
     "text": [
      "2.6.2\n"
     ]
    }
   ],
   "source": [
    "print(ads.__version__)"
   ]
  },
  {
   "cell_type": "code",
   "execution_count": 3,
   "id": "56e74c73",
   "metadata": {},
   "outputs": [
    {
     "data": {
      "application/vnd.jupyter.widget-view+json": {
       "model_id": "",
       "version_major": 2,
       "version_minor": 0
      },
      "text/plain": [
       "loop1:   0%|          | 0/4 [00:00<?, ?it/s]"
      ]
     },
     "metadata": {},
     "output_type": "display_data"
    }
   ],
   "source": [
    "attrition_path = \"/opt/notebooks/ads-examples/oracle_data/orcl_attrition.csv\"\n",
    "\n",
    "# uso ancora la classe dataset per fare l'upsampling\n",
    "\n",
    "ds = DatasetFactory.open(\n",
    "      attrition_path,\n",
    "      target=\"Attrition\").set_positive_class('Yes')"
   ]
  },
  {
   "cell_type": "code",
   "execution_count": 4,
   "id": "4ca6fdde",
   "metadata": {},
   "outputs": [],
   "source": [
    "# lavoro ancora sul dataset up sampled\n",
    "\n",
    "ds_up = ds.up_sample()"
   ]
  },
  {
   "cell_type": "code",
   "execution_count": 5,
   "id": "49575012",
   "metadata": {},
   "outputs": [],
   "source": [
    "cols_to_drop = ['Directs','name', 'Over18','WeeklyWorkedHours','EmployeeNumber']\n",
    "\n",
    "ds_used = ds_up.drop(columns=cols_to_drop)"
   ]
  },
  {
   "cell_type": "code",
   "execution_count": 6,
   "id": "ea07e05e",
   "metadata": {},
   "outputs": [
    {
     "data": {
      "text/plain": [
       "['SalaryLevel',\n",
       " 'EducationalLevel',\n",
       " 'CommuteLength',\n",
       " 'OverTime',\n",
       " 'StockOptionLevel',\n",
       " 'TrainingTimesLastYear',\n",
       " 'YearsWithCurrManager',\n",
       " 'MonthlyIncome',\n",
       " 'RelationshipSatisfaction',\n",
       " 'WorkLifeBalance',\n",
       " 'YearsSinceLastPromotion',\n",
       " 'JobRole',\n",
       " 'NumCompaniesWorked',\n",
       " 'HourlyRate',\n",
       " 'EnvironmentSatisfaction',\n",
       " 'Gender',\n",
       " 'EducationField',\n",
       " 'MonthlyRate',\n",
       " 'JobLevel',\n",
       " 'MaritalStatus',\n",
       " 'Age',\n",
       " 'JobInvolvement',\n",
       " 'JobFunction',\n",
       " 'YearsinIndustry',\n",
       " 'PerformanceRating',\n",
       " 'PercentSalaryHike',\n",
       " 'JobSatisfaction',\n",
       " 'YearsAtCurrentLevel',\n",
       " 'YearsOnJob',\n",
       " 'TravelForWork']"
      ]
     },
     "execution_count": 6,
     "metadata": {},
     "output_type": "execute_result"
    }
   ],
   "source": [
    "TARGET = 'Attrition'\n",
    "\n",
    "features = list(set(ds_used.columns) - set([TARGET]))\n",
    "\n",
    "features"
   ]
  },
  {
   "cell_type": "code",
   "execution_count": 8,
   "id": "659a822a",
   "metadata": {},
   "outputs": [],
   "source": [
    "# take the Pandas DataFRame out\n",
    "\n",
    "# versione differente di ADS (2.0... il metodo ha altro nome)\n",
    "df_used = ds_used.to_pandas()"
   ]
  },
  {
   "cell_type": "markdown",
   "id": "2a90a965",
   "metadata": {},
   "source": [
    "### lavorando direttamente senza AutoML dobbiamo provvedere noi a tutta la data preparation"
   ]
  },
  {
   "cell_type": "code",
   "execution_count": 9,
   "id": "fb146f15",
   "metadata": {},
   "outputs": [
    {
     "name": "stdout",
     "output_type": "stream",
     "text": [
      "TravelForWork 3\n",
      "JobFunction 3\n",
      "EducationalLevel 5\n",
      "EducationField 6\n",
      "EnvironmentSatisfaction 4\n",
      "Gender 2\n",
      "JobInvolvement 4\n",
      "JobLevel 5\n",
      "JobRole 9\n",
      "JobSatisfaction 4\n",
      "MaritalStatus 3\n",
      "OverTime 2\n",
      "PerformanceRating 2\n",
      "RelationshipSatisfaction 4\n",
      "StockOptionLevel 4\n",
      "TrainingTimesLastYear 7\n",
      "WorkLifeBalance 4\n",
      "Attrition 2\n"
     ]
    }
   ],
   "source": [
    "THR = 10\n",
    "\n",
    "nunique = df_used.nunique()\n",
    "types = df_used.dtypes\n",
    "\n",
    "categorical_columns = []\n",
    "categorical_dims =  {}\n",
    "for col in df_used.columns:\n",
    "    \n",
    "    # identifichiamo come categoriche tutte le colonne che soddisfano questa condizione !!!\n",
    "    # la soglia la possiamo cambiare\n",
    "    if types[col] == 'object' or nunique[col] < THR:\n",
    "        print(col, df_used[col].nunique())\n",
    "        \n",
    "        # codifichiamo i categorici con LabelEncoder\n",
    "        l_enc = LabelEncoder()\n",
    "        df_used[col] = l_enc.fit_transform(df_used[col].values)\n",
    "        \n",
    "        categorical_columns.append(col)\n",
    "        categorical_dims[col] = len(l_enc.classes_)"
   ]
  },
  {
   "cell_type": "code",
   "execution_count": 10,
   "id": "b08dc292",
   "metadata": {},
   "outputs": [],
   "source": [
    "cat_idxs = [ i for i, f in enumerate(features) if f in categorical_columns]\n",
    "\n",
    "cat_dims = [ categorical_dims[f] for i, f in enumerate(features) if f in categorical_columns]"
   ]
  },
  {
   "cell_type": "code",
   "execution_count": 11,
   "id": "5cd2dff7",
   "metadata": {},
   "outputs": [],
   "source": [
    "# now we have codified everything, are ready"
   ]
  },
  {
   "cell_type": "code",
   "execution_count": 12,
   "id": "35779f6b",
   "metadata": {},
   "outputs": [
    {
     "data": {
      "text/plain": [
       "(2466, 30)"
      ]
     },
     "execution_count": 12,
     "metadata": {},
     "output_type": "execute_result"
    }
   ],
   "source": [
    "X = df_used[features].values\n",
    "y = df_used[TARGET].values\n",
    "\n",
    "X.shape"
   ]
  },
  {
   "cell_type": "code",
   "execution_count": 13,
   "id": "c2574d1d",
   "metadata": {},
   "outputs": [
    {
     "name": "stdout",
     "output_type": "stream",
     "text": [
      "# of samples in train set 1972\n",
      "# of samples in test set 494\n"
     ]
    }
   ],
   "source": [
    "# train, test split\n",
    "X_train, X_test, y_train, y_test = train_test_split(X, y, shuffle=True, test_size=0.2, random_state = 1234)\n",
    "\n",
    "print(\"# of samples in train set\", X_train.shape[0])\n",
    "print(\"# of samples in test set\", X_test.shape[0])"
   ]
  },
  {
   "cell_type": "code",
   "execution_count": 14,
   "id": "f2f32ef6",
   "metadata": {},
   "outputs": [],
   "source": [
    "#\n",
    "# if we need F we need a custom implementation for F1 in Tabnet\n",
    "#\n",
    "class F1(Metric):\n",
    "    def __init__(self):\n",
    "        self._name = \"f1\"\n",
    "        self._maximize = True\n",
    "        # potremmo lavorare siu questa soglia\n",
    "        self.thr = 0.55\n",
    "    \n",
    "    # the input are probs, must be converted to 0, 1\n",
    "    def __call__(self, y_true, p_score):\n",
    "        \n",
    "        # here we have labels\n",
    "        y_score = (p_score[:, 1] >= self.thr).astype(int)\n",
    "        \n",
    "        return f1_score(y_true, y_score)"
   ]
  },
  {
   "cell_type": "code",
   "execution_count": 15,
   "id": "6fd5b86c",
   "metadata": {},
   "outputs": [
    {
     "name": "stdout",
     "output_type": "stream",
     "text": [
      "Device used : cpu\n",
      "epoch 0  | loss: 5.87444 | val_0_unsup_loss: 133.1254|  0:00:00s\n",
      "epoch 1  | loss: 4.82121 | val_0_unsup_loss: 35.21624|  0:00:00s\n",
      "epoch 2  | loss: 4.30497 | val_0_unsup_loss: 9.50589 |  0:00:00s\n",
      "epoch 3  | loss: 3.9544  | val_0_unsup_loss: 5.79228 |  0:00:01s\n",
      "epoch 4  | loss: 3.67798 | val_0_unsup_loss: 4.60301 |  0:00:01s\n",
      "epoch 5  | loss: 3.42022 | val_0_unsup_loss: 4.11686 |  0:00:01s\n",
      "epoch 6  | loss: 3.27431 | val_0_unsup_loss: 3.95514 |  0:00:02s\n",
      "epoch 7  | loss: 3.12567 | val_0_unsup_loss: 3.76365 |  0:00:02s\n",
      "epoch 8  | loss: 3.01629 | val_0_unsup_loss: 3.58573 |  0:00:02s\n",
      "epoch 9  | loss: 2.93043 | val_0_unsup_loss: 3.37127 |  0:00:03s\n",
      "epoch 10 | loss: 2.84778 | val_0_unsup_loss: 3.07771 |  0:00:03s\n",
      "epoch 11 | loss: 2.72424 | val_0_unsup_loss: 2.91882 |  0:00:03s\n",
      "epoch 12 | loss: 2.67555 | val_0_unsup_loss: 2.81065 |  0:00:03s\n",
      "epoch 13 | loss: 2.60879 | val_0_unsup_loss: 2.73115 |  0:00:04s\n",
      "epoch 14 | loss: 2.56541 | val_0_unsup_loss: 2.65398 |  0:00:04s\n",
      "epoch 15 | loss: 2.51618 | val_0_unsup_loss: 2.56763 |  0:00:04s\n",
      "epoch 16 | loss: 2.42872 | val_0_unsup_loss: 2.50247 |  0:00:05s\n",
      "epoch 17 | loss: 2.41684 | val_0_unsup_loss: 2.436   |  0:00:05s\n",
      "epoch 18 | loss: 2.33332 | val_0_unsup_loss: 2.37597 |  0:00:06s\n",
      "epoch 19 | loss: 2.31612 | val_0_unsup_loss: 2.3229  |  0:00:06s\n",
      "epoch 20 | loss: 2.27737 | val_0_unsup_loss: 2.26379 |  0:00:06s\n",
      "epoch 21 | loss: 2.20414 | val_0_unsup_loss: 2.21127 |  0:00:07s\n",
      "epoch 22 | loss: 2.14486 | val_0_unsup_loss: 2.17162 |  0:00:07s\n",
      "epoch 23 | loss: 2.12957 | val_0_unsup_loss: 2.12436 |  0:00:07s\n",
      "epoch 24 | loss: 2.06413 | val_0_unsup_loss: 2.06223 |  0:00:07s\n",
      "epoch 25 | loss: 2.01302 | val_0_unsup_loss: 2.00921 |  0:00:08s\n",
      "epoch 26 | loss: 1.96013 | val_0_unsup_loss: 1.95882 |  0:00:08s\n",
      "epoch 27 | loss: 1.90678 | val_0_unsup_loss: 1.9149  |  0:00:08s\n",
      "epoch 28 | loss: 1.8726  | val_0_unsup_loss: 1.86746 |  0:00:09s\n",
      "epoch 29 | loss: 1.83506 | val_0_unsup_loss: 1.83723 |  0:00:09s\n",
      "epoch 30 | loss: 1.79837 | val_0_unsup_loss: 1.80545 |  0:00:09s\n",
      "epoch 31 | loss: 1.7844  | val_0_unsup_loss: 1.77514 |  0:00:10s\n",
      "epoch 32 | loss: 1.73394 | val_0_unsup_loss: 1.74263 |  0:00:10s\n",
      "epoch 33 | loss: 1.70518 | val_0_unsup_loss: 1.71598 |  0:00:10s\n",
      "epoch 34 | loss: 1.67435 | val_0_unsup_loss: 1.69457 |  0:00:11s\n",
      "epoch 35 | loss: 1.66917 | val_0_unsup_loss: 1.67236 |  0:00:11s\n",
      "epoch 36 | loss: 1.61975 | val_0_unsup_loss: 1.64604 |  0:00:11s\n",
      "epoch 37 | loss: 1.61955 | val_0_unsup_loss: 1.61854 |  0:00:11s\n",
      "epoch 38 | loss: 1.57969 | val_0_unsup_loss: 1.59885 |  0:00:12s\n",
      "epoch 39 | loss: 1.56906 | val_0_unsup_loss: 1.5755  |  0:00:12s\n",
      "epoch 40 | loss: 1.56512 | val_0_unsup_loss: 1.55628 |  0:00:12s\n",
      "epoch 41 | loss: 1.5204  | val_0_unsup_loss: 1.53671 |  0:00:13s\n",
      "epoch 42 | loss: 1.50091 | val_0_unsup_loss: 1.52267 |  0:00:13s\n",
      "epoch 43 | loss: 1.48069 | val_0_unsup_loss: 1.50585 |  0:00:13s\n",
      "epoch 44 | loss: 1.47659 | val_0_unsup_loss: 1.48635 |  0:00:14s\n",
      "epoch 45 | loss: 1.43377 | val_0_unsup_loss: 1.47161 |  0:00:14s\n",
      "epoch 46 | loss: 1.42292 | val_0_unsup_loss: 1.45782 |  0:00:14s\n",
      "epoch 47 | loss: 1.41242 | val_0_unsup_loss: 1.44075 |  0:00:14s\n",
      "epoch 48 | loss: 1.39426 | val_0_unsup_loss: 1.42628 |  0:00:14s\n",
      "epoch 49 | loss: 1.38299 | val_0_unsup_loss: 1.41442 |  0:00:15s\n",
      "epoch 50 | loss: 1.37225 | val_0_unsup_loss: 1.40304 |  0:00:15s\n",
      "epoch 51 | loss: 1.36306 | val_0_unsup_loss: 1.39475 |  0:00:15s\n",
      "epoch 52 | loss: 1.34482 | val_0_unsup_loss: 1.37698 |  0:00:15s\n",
      "epoch 53 | loss: 1.33493 | val_0_unsup_loss: 1.36619 |  0:00:16s\n",
      "epoch 54 | loss: 1.34058 | val_0_unsup_loss: 1.35873 |  0:00:16s\n",
      "epoch 55 | loss: 1.3302  | val_0_unsup_loss: 1.34591 |  0:00:16s\n",
      "epoch 56 | loss: 1.32982 | val_0_unsup_loss: 1.33823 |  0:00:16s\n",
      "epoch 57 | loss: 1.32515 | val_0_unsup_loss: 1.32978 |  0:00:17s\n",
      "epoch 58 | loss: 1.30579 | val_0_unsup_loss: 1.32398 |  0:00:17s\n",
      "epoch 59 | loss: 1.31373 | val_0_unsup_loss: 1.32457 |  0:00:17s\n",
      "epoch 60 | loss: 1.30361 | val_0_unsup_loss: 1.31576 |  0:00:17s\n",
      "epoch 61 | loss: 1.31644 | val_0_unsup_loss: 1.30765 |  0:00:17s\n",
      "epoch 62 | loss: 1.2952  | val_0_unsup_loss: 1.30587 |  0:00:18s\n",
      "epoch 63 | loss: 1.29672 | val_0_unsup_loss: 1.30029 |  0:00:18s\n",
      "epoch 64 | loss: 1.3061  | val_0_unsup_loss: 1.29141 |  0:00:18s\n",
      "epoch 65 | loss: 1.29101 | val_0_unsup_loss: 1.28525 |  0:00:18s\n",
      "epoch 66 | loss: 1.28425 | val_0_unsup_loss: 1.28336 |  0:00:19s\n",
      "epoch 67 | loss: 1.28756 | val_0_unsup_loss: 1.28295 |  0:00:19s\n",
      "epoch 68 | loss: 1.28406 | val_0_unsup_loss: 1.28005 |  0:00:19s\n",
      "epoch 69 | loss: 1.29766 | val_0_unsup_loss: 1.27763 |  0:00:19s\n",
      "epoch 70 | loss: 1.2759  | val_0_unsup_loss: 1.27456 |  0:00:19s\n",
      "epoch 71 | loss: 1.27698 | val_0_unsup_loss: 1.27401 |  0:00:20s\n",
      "epoch 72 | loss: 1.27562 | val_0_unsup_loss: 1.27309 |  0:00:20s\n",
      "epoch 73 | loss: 1.25317 | val_0_unsup_loss: 1.26556 |  0:00:20s\n",
      "epoch 74 | loss: 1.27683 | val_0_unsup_loss: 1.26583 |  0:00:20s\n",
      "epoch 75 | loss: 1.26281 | val_0_unsup_loss: 1.26787 |  0:00:21s\n",
      "epoch 76 | loss: 1.26747 | val_0_unsup_loss: 1.26537 |  0:00:21s\n",
      "epoch 77 | loss: 1.26246 | val_0_unsup_loss: 1.25075 |  0:00:21s\n",
      "epoch 78 | loss: 1.24233 | val_0_unsup_loss: 1.24797 |  0:00:21s\n",
      "epoch 79 | loss: 1.23929 | val_0_unsup_loss: 1.24619 |  0:00:21s\n",
      "epoch 80 | loss: 1.24001 | val_0_unsup_loss: 1.24582 |  0:00:22s\n",
      "epoch 81 | loss: 1.2458  | val_0_unsup_loss: 1.24199 |  0:00:22s\n",
      "epoch 82 | loss: 1.23875 | val_0_unsup_loss: 1.23921 |  0:00:22s\n",
      "epoch 83 | loss: 1.23834 | val_0_unsup_loss: 1.23745 |  0:00:22s\n",
      "epoch 84 | loss: 1.24863 | val_0_unsup_loss: 1.23542 |  0:00:23s\n",
      "epoch 85 | loss: 1.24786 | val_0_unsup_loss: 1.23    |  0:00:23s\n",
      "epoch 86 | loss: 1.2518  | val_0_unsup_loss: 1.23372 |  0:00:23s\n",
      "epoch 87 | loss: 1.23756 | val_0_unsup_loss: 1.24017 |  0:00:23s\n",
      "epoch 88 | loss: 1.24106 | val_0_unsup_loss: 1.24318 |  0:00:23s\n",
      "epoch 89 | loss: 1.23167 | val_0_unsup_loss: 1.24594 |  0:00:24s\n",
      "epoch 90 | loss: 1.24401 | val_0_unsup_loss: 1.24461 |  0:00:24s\n",
      "epoch 91 | loss: 1.24217 | val_0_unsup_loss: 1.24186 |  0:00:24s\n",
      "epoch 92 | loss: 1.22972 | val_0_unsup_loss: 1.23578 |  0:00:24s\n",
      "epoch 93 | loss: 1.24276 | val_0_unsup_loss: 1.23464 |  0:00:25s\n",
      "epoch 94 | loss: 1.2253  | val_0_unsup_loss: 1.22729 |  0:00:25s\n",
      "epoch 95 | loss: 1.2375  | val_0_unsup_loss: 1.2236  |  0:00:25s\n",
      "epoch 96 | loss: 1.2305  | val_0_unsup_loss: 1.22582 |  0:00:25s\n",
      "epoch 97 | loss: 1.22697 | val_0_unsup_loss: 1.22346 |  0:00:25s\n",
      "epoch 98 | loss: 1.22889 | val_0_unsup_loss: 1.22525 |  0:00:26s\n",
      "epoch 99 | loss: 1.22652 | val_0_unsup_loss: 1.22682 |  0:00:26s\n",
      "epoch 100| loss: 1.21646 | val_0_unsup_loss: 1.21714 |  0:00:26s\n",
      "epoch 101| loss: 1.23432 | val_0_unsup_loss: 1.21408 |  0:00:26s\n",
      "epoch 102| loss: 1.20695 | val_0_unsup_loss: 1.21461 |  0:00:27s\n",
      "epoch 103| loss: 1.21534 | val_0_unsup_loss: 1.21388 |  0:00:27s\n",
      "epoch 104| loss: 1.21895 | val_0_unsup_loss: 1.21586 |  0:00:27s\n",
      "epoch 105| loss: 1.21442 | val_0_unsup_loss: 1.21538 |  0:00:28s\n",
      "epoch 106| loss: 1.21599 | val_0_unsup_loss: 1.21252 |  0:00:28s\n",
      "epoch 107| loss: 1.22733 | val_0_unsup_loss: 1.20406 |  0:00:28s\n",
      "epoch 108| loss: 1.23022 | val_0_unsup_loss: 1.2014  |  0:00:28s\n",
      "epoch 109| loss: 1.22018 | val_0_unsup_loss: 1.19065 |  0:00:29s\n",
      "epoch 110| loss: 1.20614 | val_0_unsup_loss: 1.18621 |  0:00:29s\n",
      "epoch 111| loss: 1.2075  | val_0_unsup_loss: 1.18678 |  0:00:29s\n",
      "epoch 112| loss: 1.22121 | val_0_unsup_loss: 1.19344 |  0:00:29s\n",
      "epoch 113| loss: 1.21578 | val_0_unsup_loss: 1.20142 |  0:00:29s\n",
      "epoch 114| loss: 1.20556 | val_0_unsup_loss: 1.20664 |  0:00:30s\n",
      "epoch 115| loss: 1.20806 | val_0_unsup_loss: 1.21862 |  0:00:30s\n",
      "epoch 116| loss: 1.22192 | val_0_unsup_loss: 1.21545 |  0:00:30s\n",
      "epoch 117| loss: 1.20599 | val_0_unsup_loss: 1.20015 |  0:00:30s\n",
      "epoch 118| loss: 1.20151 | val_0_unsup_loss: 1.19326 |  0:00:30s\n",
      "epoch 119| loss: 1.21704 | val_0_unsup_loss: 1.19143 |  0:00:31s\n",
      "epoch 120| loss: 1.20689 | val_0_unsup_loss: 1.19439 |  0:00:31s\n",
      "\n",
      "Early stopping occurred at epoch 120 with best_epoch = 110 and best_val_0_unsup_loss = 1.18621\n",
      "Best weights from best epoch are automatically used!\n",
      "CPU times: user 7min 31s, sys: 46.1 s, total: 8min 17s\n",
      "Wall time: 31.5 s\n"
     ]
    }
   ],
   "source": [
    "%%time\n",
    "# see: https://github.com/dreamquark-ai/tabnet\n",
    "\n",
    "# TabNetPretrainer\n",
    "unsupervised_model = TabNetPretrainer(\n",
    "    optimizer_fn=torch.optim.Adam,\n",
    "    optimizer_params=dict(lr=2e-2),\n",
    "    mask_type='entmax' # \"sparsemax\"\n",
    ")\n",
    "\n",
    "unsupervised_model.fit(\n",
    "    X_train=X_train,\n",
    "    eval_set=[X_test],\n",
    "    pretraining_ratio=0.6,\n",
    "    max_epochs = 200\n",
    ")"
   ]
  },
  {
   "cell_type": "code",
   "execution_count": 16,
   "id": "f95ecf0a",
   "metadata": {},
   "outputs": [],
   "source": [
    "#\n",
    "# In questo caso ho preferito utilizzare direttamente Optuna (su cui è basato ADSTuner)\n",
    "#\n",
    "\n",
    "# split in due parti la seconda ottimizzo con Optuna\n",
    "\n",
    "# la valutazione la facciamo sull'accuracy\n",
    "\n",
    "def objective(trial):\n",
    "    n_steps = trial.suggest_int(\"n_steps\", 1, 10)\n",
    "    gamma = trial.suggest_float(\"gamma\", 1.0, 2.0)\n",
    "    \n",
    "    params = {\n",
    "        \"cat_idxs\" : cat_idxs,\n",
    "        \"cat_dims\" : cat_dims,\n",
    "        \"n_steps\" : n_steps,\n",
    "        \"gamma\" : gamma,\n",
    "        \"seed\" : 0,\n",
    "        \"verbose\" : 10\n",
    "    }\n",
    "    clf = TabNetClassifier(**params)\n",
    "\n",
    "    clf.fit(\n",
    "        X_train=X_train, y_train=y_train,\n",
    "        eval_set=[(X_train, y_train), (X_test, y_test)],\n",
    "        eval_name=['train', 'valid'],\n",
    "        eval_metric=['auc', 'accuracy'],\n",
    "        from_unsupervised=unsupervised_model,\n",
    "        batch_size=128, \n",
    "        max_epochs = 100\n",
    "    )\n",
    "    \n",
    "    y_pred = clf.predict(X_test)\n",
    "    \n",
    "    return round(accuracy_score(y_test, y_pred), 5)"
   ]
  },
  {
   "cell_type": "code",
   "execution_count": 17,
   "id": "37bb69f6",
   "metadata": {},
   "outputs": [
    {
     "name": "stderr",
     "output_type": "stream",
     "text": [
      "\u001b[32m[I 2022-07-04 15:59:13,108]\u001b[0m A new study created in memory with name: no-name-54c941b0-02f2-4699-a0be-47be4eccdaa8\u001b[0m\n"
     ]
    },
    {
     "name": "stdout",
     "output_type": "stream",
     "text": [
      "Device used : cpu\n",
      "Loading weights from unsupervised pretraining\n",
      "epoch 0  | loss: 0.90443 | train_auc: 0.67825 | train_accuracy: 0.61359 | valid_auc: 0.68993 | valid_accuracy: 0.59717 |  0:00:00s\n",
      "epoch 10 | loss: 0.21839 | train_auc: 0.9466  | train_accuracy: 0.82404 | valid_auc: 0.89194 | valid_accuracy: 0.77126 |  0:00:08s\n",
      "epoch 20 | loss: 0.14445 | train_auc: 0.99363 | train_accuracy: 0.964   | valid_auc: 0.95676 | valid_accuracy: 0.91903 |  0:00:14s\n",
      "epoch 30 | loss: 0.11199 | train_auc: 0.99876 | train_accuracy: 0.98529 | valid_auc: 0.95632 | valid_accuracy: 0.9251  |  0:00:20s\n"
     ]
    },
    {
     "name": "stderr",
     "output_type": "stream",
     "text": [
      "\u001b[32m[I 2022-07-04 15:59:34,376]\u001b[0m Trial 0 finished with value: 0.9251 and parameters: {'n_steps': 2, 'gamma': 1.870786850654723}. Best is trial 0 with value: 0.9251.\u001b[0m\n"
     ]
    },
    {
     "name": "stdout",
     "output_type": "stream",
     "text": [
      "\n",
      "Early stopping occurred at epoch 31 with best_epoch = 21 and best_valid_accuracy = 0.9251\n",
      "Best weights from best epoch are automatically used!\n",
      "Device used : cpu\n",
      "Loading weights from unsupervised pretraining\n",
      "epoch 0  | loss: 0.90632 | train_auc: 0.66376 | train_accuracy: 0.59584 | valid_auc: 0.67596 | valid_accuracy: 0.61538 |  0:00:00s\n",
      "epoch 10 | loss: 0.27623 | train_auc: 0.94124 | train_accuracy: 0.81085 | valid_auc: 0.88417 | valid_accuracy: 0.78543 |  0:00:06s\n",
      "epoch 20 | loss: 0.14925 | train_auc: 0.98857 | train_accuracy: 0.94777 | valid_auc: 0.93535 | valid_accuracy: 0.86235 |  0:00:12s\n",
      "epoch 30 | loss: 0.10674 | train_auc: 0.9959  | train_accuracy: 0.97312 | valid_auc: 0.94977 | valid_accuracy: 0.90081 |  0:00:18s\n"
     ]
    },
    {
     "name": "stderr",
     "output_type": "stream",
     "text": [
      "\u001b[32m[I 2022-07-04 15:59:56,745]\u001b[0m Trial 1 finished with value: 0.91903 and parameters: {'n_steps': 1, 'gamma': 1.7668838877066828}. Best is trial 0 with value: 0.9251.\u001b[0m\n"
     ]
    },
    {
     "name": "stdout",
     "output_type": "stream",
     "text": [
      "\n",
      "Early stopping occurred at epoch 35 with best_epoch = 25 and best_valid_accuracy = 0.91903\n",
      "Best weights from best epoch are automatically used!\n",
      "Device used : cpu\n",
      "Loading weights from unsupervised pretraining\n",
      "epoch 0  | loss: 0.90788 | train_auc: 0.58699 | train_accuracy: 0.54108 | valid_auc: 0.58006 | valid_accuracy: 0.53239 |  0:00:00s\n",
      "epoch 10 | loss: 0.27796 | train_auc: 0.96459 | train_accuracy: 0.85091 | valid_auc: 0.9282  | valid_accuracy: 0.80364 |  0:00:06s\n",
      "epoch 20 | loss: 0.13747 | train_auc: 0.9941  | train_accuracy: 0.9645  | valid_auc: 0.97138 | valid_accuracy: 0.91498 |  0:00:12s\n",
      "epoch 30 | loss: 0.08893 | train_auc: 0.99884 | train_accuracy: 0.98479 | valid_auc: 0.97034 | valid_accuracy: 0.9251  |  0:00:19s\n",
      "epoch 40 | loss: 0.10595 | train_auc: 0.99826 | train_accuracy: 0.98327 | valid_auc: 0.96811 | valid_accuracy: 0.91093 |  0:00:25s\n"
     ]
    },
    {
     "name": "stderr",
     "output_type": "stream",
     "text": [
      "\u001b[32m[I 2022-07-04 16:00:25,505]\u001b[0m Trial 2 finished with value: 0.94737 and parameters: {'n_steps': 6, 'gamma': 1.6392899577547018}. Best is trial 2 with value: 0.94737.\u001b[0m\n"
     ]
    },
    {
     "name": "stdout",
     "output_type": "stream",
     "text": [
      "\n",
      "Early stopping occurred at epoch 45 with best_epoch = 35 and best_valid_accuracy = 0.94737\n",
      "Best weights from best epoch are automatically used!\n",
      "Device used : cpu\n",
      "Loading weights from unsupervised pretraining\n",
      "epoch 0  | loss: 0.90683 | train_auc: 0.63495 | train_accuracy: 0.59635 | valid_auc: 0.65955 | valid_accuracy: 0.61538 |  0:00:00s\n",
      "epoch 10 | loss: 0.23664 | train_auc: 0.92879 | train_accuracy: 0.83671 | valid_auc: 0.89742 | valid_accuracy: 0.80972 |  0:00:06s\n",
      "epoch 20 | loss: 0.17715 | train_auc: 0.98828 | train_accuracy: 0.9503  | valid_auc: 0.94549 | valid_accuracy: 0.89069 |  0:00:12s\n",
      "epoch 30 | loss: 0.09946 | train_auc: 0.99875 | train_accuracy: 0.98834 | valid_auc: 0.96633 | valid_accuracy: 0.917   |  0:00:18s\n",
      "epoch 40 | loss: 0.08151 | train_auc: 0.9996  | train_accuracy: 0.98682 | valid_auc: 0.96365 | valid_accuracy: 0.92105 |  0:00:25s\n",
      "\n",
      "Early stopping occurred at epoch 44 with best_epoch = 34 and best_valid_accuracy = 0.93522\n",
      "Best weights from best epoch are automatically used!\n"
     ]
    },
    {
     "name": "stderr",
     "output_type": "stream",
     "text": [
      "\u001b[32m[I 2022-07-04 16:00:53,656]\u001b[0m Trial 3 finished with value: 0.93522 and parameters: {'n_steps': 2, 'gamma': 1.714969818423346}. Best is trial 2 with value: 0.94737.\u001b[0m\n"
     ]
    },
    {
     "name": "stdout",
     "output_type": "stream",
     "text": [
      "Device used : cpu\n",
      "Loading weights from unsupervised pretraining\n",
      "epoch 0  | loss: 0.89675 | train_auc: 0.62506 | train_accuracy: 0.55223 | valid_auc: 0.63844 | valid_accuracy: 0.5668  |  0:00:00s\n",
      "epoch 10 | loss: 0.31902 | train_auc: 0.95237 | train_accuracy: 0.87982 | valid_auc: 0.92244 | valid_accuracy: 0.8502  |  0:00:06s\n",
      "epoch 20 | loss: 0.14112 | train_auc: 0.99174 | train_accuracy: 0.964   | valid_auc: 0.94638 | valid_accuracy: 0.88462 |  0:00:12s\n",
      "epoch 30 | loss: 0.08734 | train_auc: 0.9991  | train_accuracy: 0.98479 | valid_auc: 0.97759 | valid_accuracy: 0.9251  |  0:00:18s\n",
      "\n",
      "Early stopping occurred at epoch 38 with best_epoch = 28 and best_valid_accuracy = 0.93117\n",
      "Best weights from best epoch are automatically used!\n"
     ]
    },
    {
     "name": "stderr",
     "output_type": "stream",
     "text": [
      "\u001b[32m[I 2022-07-04 16:01:18,095]\u001b[0m Trial 4 finished with value: 0.93117 and parameters: {'n_steps': 6, 'gamma': 1.4959605949240915}. Best is trial 2 with value: 0.94737.\u001b[0m\n"
     ]
    },
    {
     "name": "stdout",
     "output_type": "stream",
     "text": [
      "Device used : cpu\n",
      "Loading weights from unsupervised pretraining\n",
      "epoch 0  | loss: 0.92711 | train_auc: 0.65957 | train_accuracy: 0.60548 | valid_auc: 0.65932 | valid_accuracy: 0.59312 |  0:00:00s\n",
      "epoch 10 | loss: 0.31123 | train_auc: 0.94813 | train_accuracy: 0.84381 | valid_auc: 0.90222 | valid_accuracy: 0.81781 |  0:00:09s\n",
      "epoch 20 | loss: 0.15254 | train_auc: 0.99303 | train_accuracy: 0.96653 | valid_auc: 0.96351 | valid_accuracy: 0.91296 |  0:00:17s\n",
      "\n",
      "Early stopping occurred at epoch 27 with best_epoch = 17 and best_valid_accuracy = 0.92713\n",
      "Best weights from best epoch are automatically used!\n"
     ]
    },
    {
     "name": "stderr",
     "output_type": "stream",
     "text": [
      "\u001b[32m[I 2022-07-04 16:01:42,045]\u001b[0m Trial 5 finished with value: 0.92713 and parameters: {'n_steps': 5, 'gamma': 1.8736211964097143}. Best is trial 2 with value: 0.94737.\u001b[0m\n"
     ]
    },
    {
     "name": "stdout",
     "output_type": "stream",
     "text": [
      "Device used : cpu\n",
      "Loading weights from unsupervised pretraining\n",
      "epoch 0  | loss: 0.90701 | train_auc: 0.60412 | train_accuracy: 0.55781 | valid_auc: 0.60002 | valid_accuracy: 0.53644 |  0:00:00s\n",
      "epoch 10 | loss: 0.25542 | train_auc: 0.95589 | train_accuracy: 0.84686 | valid_auc: 0.893   | valid_accuracy: 0.7753  |  0:00:09s\n",
      "epoch 20 | loss: 0.14614 | train_auc: 0.99416 | train_accuracy: 0.96957 | valid_auc: 0.94237 | valid_accuracy: 0.89879 |  0:00:17s\n",
      "\n",
      "Early stopping occurred at epoch 28 with best_epoch = 18 and best_valid_accuracy = 0.91498\n",
      "Best weights from best epoch are automatically used!\n"
     ]
    },
    {
     "name": "stderr",
     "output_type": "stream",
     "text": [
      "\u001b[32m[I 2022-07-04 16:02:07,003]\u001b[0m Trial 6 finished with value: 0.91498 and parameters: {'n_steps': 6, 'gamma': 1.6395307471795966}. Best is trial 2 with value: 0.94737.\u001b[0m\n"
     ]
    },
    {
     "name": "stdout",
     "output_type": "stream",
     "text": [
      "Device used : cpu\n",
      "Loading weights from unsupervised pretraining\n",
      "epoch 0  | loss: 0.86289 | train_auc: 0.62047 | train_accuracy: 0.59432 | valid_auc: 0.6537  | valid_accuracy: 0.62551 |  0:00:00s\n",
      "epoch 10 | loss: 0.2663  | train_auc: 0.97095 | train_accuracy: 0.89452 | valid_auc: 0.93816 | valid_accuracy: 0.87652 |  0:00:09s\n",
      "epoch 20 | loss: 0.11798 | train_auc: 0.99272 | train_accuracy: 0.97363 | valid_auc: 0.9749  | valid_accuracy: 0.9413  |  0:00:17s\n",
      "epoch 30 | loss: 0.11402 | train_auc: 0.99623 | train_accuracy: 0.96704 | valid_auc: 0.97024 | valid_accuracy: 0.90486 |  0:00:25s\n",
      "\n",
      "Early stopping occurred at epoch 30 with best_epoch = 20 and best_valid_accuracy = 0.9413\n",
      "Best weights from best epoch are automatically used!\n"
     ]
    },
    {
     "name": "stderr",
     "output_type": "stream",
     "text": [
      "\u001b[32m[I 2022-07-04 16:02:33,499]\u001b[0m Trial 7 finished with value: 0.9413 and parameters: {'n_steps': 3, 'gamma': 1.0266874831986215}. Best is trial 2 with value: 0.94737.\u001b[0m\n"
     ]
    },
    {
     "name": "stdout",
     "output_type": "stream",
     "text": [
      "Device used : cpu\n",
      "Loading weights from unsupervised pretraining\n",
      "epoch 0  | loss: 0.87633 | train_auc: 0.70058 | train_accuracy: 0.64554 | valid_auc: 0.69461 | valid_accuracy: 0.66194 |  0:00:00s\n",
      "epoch 10 | loss: 0.25435 | train_auc: 0.96653 | train_accuracy: 0.88083 | valid_auc: 0.92024 | valid_accuracy: 0.8502  |  0:00:09s\n",
      "epoch 20 | loss: 0.1448  | train_auc: 0.99213 | train_accuracy: 0.96197 | valid_auc: 0.95361 | valid_accuracy: 0.89069 |  0:00:17s\n",
      "epoch 30 | loss: 0.09489 | train_auc: 0.99881 | train_accuracy: 0.9858  | valid_auc: 0.97329 | valid_accuracy: 0.94332 |  0:00:24s\n",
      "epoch 40 | loss: 0.06751 | train_auc: 0.99921 | train_accuracy: 0.99239 | valid_auc: 0.97424 | valid_accuracy: 0.94534 |  0:00:30s\n",
      "epoch 50 | loss: 0.08202 | train_auc: 0.99632 | train_accuracy: 0.97819 | valid_auc: 0.97573 | valid_accuracy: 0.90688 |  0:00:36s\n",
      "\n",
      "Early stopping occurred at epoch 50 with best_epoch = 40 and best_valid_accuracy = 0.94534\n",
      "Best weights from best epoch are automatically used!\n"
     ]
    },
    {
     "name": "stderr",
     "output_type": "stream",
     "text": [
      "\u001b[32m[I 2022-07-04 16:03:10,107]\u001b[0m Trial 8 finished with value: 0.94534 and parameters: {'n_steps': 6, 'gamma': 1.3602117452045304}. Best is trial 2 with value: 0.94737.\u001b[0m\n"
     ]
    },
    {
     "name": "stdout",
     "output_type": "stream",
     "text": [
      "Device used : cpu\n",
      "Loading weights from unsupervised pretraining\n",
      "epoch 0  | loss: 0.90622 | train_auc: 0.6372  | train_accuracy: 0.58114 | valid_auc: 0.64363 | valid_accuracy: 0.58502 |  0:00:00s\n",
      "epoch 10 | loss: 0.30067 | train_auc: 0.95717 | train_accuracy: 0.81846 | valid_auc: 0.91113 | valid_accuracy: 0.78745 |  0:00:06s\n",
      "epoch 20 | loss: 0.13187 | train_auc: 0.99098 | train_accuracy: 0.94878 | valid_auc: 0.96077 | valid_accuracy: 0.90081 |  0:00:12s\n",
      "epoch 30 | loss: 0.07141 | train_auc: 0.99875 | train_accuracy: 0.9858  | valid_auc: 0.97583 | valid_accuracy: 0.92105 |  0:00:19s\n",
      "epoch 40 | loss: 0.07921 | train_auc: 0.99889 | train_accuracy: 0.98682 | valid_auc: 0.97047 | valid_accuracy: 0.91498 |  0:00:25s\n",
      "epoch 50 | loss: 0.08259 | train_auc: 0.99963 | train_accuracy: 0.99138 | valid_auc: 0.9745  | valid_accuracy: 0.92915 |  0:00:31s\n"
     ]
    },
    {
     "name": "stderr",
     "output_type": "stream",
     "text": [
      "\u001b[32m[I 2022-07-04 16:03:42,497]\u001b[0m Trial 9 finished with value: 0.95749 and parameters: {'n_steps': 2, 'gamma': 1.7124332899360604}. Best is trial 9 with value: 0.95749.\u001b[0m\n"
     ]
    },
    {
     "name": "stdout",
     "output_type": "stream",
     "text": [
      "\n",
      "Early stopping occurred at epoch 51 with best_epoch = 41 and best_valid_accuracy = 0.95749\n",
      "Best weights from best epoch are automatically used!\n",
      "Device used : cpu\n",
      "Loading weights from unsupervised pretraining\n",
      "epoch 0  | loss: 0.87595 | train_auc: 0.66187 | train_accuracy: 0.59533 | valid_auc: 0.68067 | valid_accuracy: 0.62551 |  0:00:00s\n",
      "epoch 10 | loss: 0.22428 | train_auc: 0.96646 | train_accuracy: 0.8646  | valid_auc: 0.93581 | valid_accuracy: 0.84211 |  0:00:06s\n",
      "epoch 20 | loss: 0.11344 | train_auc: 0.99788 | train_accuracy: 0.98073 | valid_auc: 0.96174 | valid_accuracy: 0.90891 |  0:00:12s\n"
     ]
    },
    {
     "name": "stderr",
     "output_type": "stream",
     "text": [
      "\u001b[32m[I 2022-07-04 16:04:01,215]\u001b[0m Trial 10 finished with value: 0.93522 and parameters: {'n_steps': 10, 'gamma': 1.2661764290079767}. Best is trial 9 with value: 0.95749.\u001b[0m\n"
     ]
    },
    {
     "name": "stdout",
     "output_type": "stream",
     "text": [
      "\n",
      "Early stopping occurred at epoch 29 with best_epoch = 19 and best_valid_accuracy = 0.93522\n",
      "Best weights from best epoch are automatically used!\n",
      "Device used : cpu\n",
      "Loading weights from unsupervised pretraining\n",
      "epoch 0  | loss: 0.90097 | train_auc: 0.64069 | train_accuracy: 0.56491 | valid_auc: 0.64778 | valid_accuracy: 0.55668 |  0:00:00s\n",
      "epoch 10 | loss: 0.26839 | train_auc: 0.90931 | train_accuracy: 0.79564 | valid_auc: 0.85536 | valid_accuracy: 0.75304 |  0:00:06s\n",
      "epoch 20 | loss: 0.16103 | train_auc: 0.99214 | train_accuracy: 0.96298 | valid_auc: 0.9669  | valid_accuracy: 0.90688 |  0:00:12s\n",
      "epoch 30 | loss: 0.11058 | train_auc: 0.99926 | train_accuracy: 0.99087 | valid_auc: 0.96863 | valid_accuracy: 0.9251  |  0:00:18s\n",
      "epoch 40 | loss: 0.08605 | train_auc: 0.99973 | train_accuracy: 0.99391 | valid_auc: 0.97805 | valid_accuracy: 0.9332  |  0:00:24s\n",
      "epoch 50 | loss: 0.04296 | train_auc: 0.99997 | train_accuracy: 0.99696 | valid_auc: 0.97352 | valid_accuracy: 0.93117 |  0:00:30s\n",
      "epoch 60 | loss: 0.04497 | train_auc: 0.99993 | train_accuracy: 0.99442 | valid_auc: 0.9749  | valid_accuracy: 0.93522 |  0:00:36s\n",
      "epoch 70 | loss: 0.04058 | train_auc: 1.0     | train_accuracy: 0.99899 | valid_auc: 0.97579 | valid_accuracy: 0.92713 |  0:00:42s\n"
     ]
    },
    {
     "name": "stderr",
     "output_type": "stream",
     "text": [
      "\u001b[32m[I 2022-07-04 16:04:45,766]\u001b[0m Trial 11 finished with value: 0.95142 and parameters: {'n_steps': 9, 'gamma': 1.5458033772521698}. Best is trial 9 with value: 0.95749.\u001b[0m\n"
     ]
    },
    {
     "name": "stdout",
     "output_type": "stream",
     "text": [
      "\n",
      "Early stopping occurred at epoch 72 with best_epoch = 62 and best_valid_accuracy = 0.95142\n",
      "Best weights from best epoch are automatically used!\n",
      "Device used : cpu\n",
      "Loading weights from unsupervised pretraining\n",
      "epoch 0  | loss: 0.89743 | train_auc: 0.64152 | train_accuracy: 0.5573  | valid_auc: 0.65884 | valid_accuracy: 0.54858 |  0:00:00s\n",
      "epoch 10 | loss: 0.28041 | train_auc: 0.91685 | train_accuracy: 0.84533 | valid_auc: 0.87315 | valid_accuracy: 0.80162 |  0:00:06s\n",
      "epoch 20 | loss: 0.16456 | train_auc: 0.98183 | train_accuracy: 0.93813 | valid_auc: 0.91072 | valid_accuracy: 0.85425 |  0:00:12s\n",
      "epoch 30 | loss: 0.10993 | train_auc: 0.99597 | train_accuracy: 0.97718 | valid_auc: 0.93881 | valid_accuracy: 0.88259 |  0:00:18s\n"
     ]
    },
    {
     "name": "stderr",
     "output_type": "stream",
     "text": [
      "\u001b[32m[I 2022-07-04 16:05:08,806]\u001b[0m Trial 12 finished with value: 0.91498 and parameters: {'n_steps': 10, 'gamma': 1.4787911429129939}. Best is trial 9 with value: 0.95749.\u001b[0m\n"
     ]
    },
    {
     "name": "stdout",
     "output_type": "stream",
     "text": [
      "\n",
      "Early stopping occurred at epoch 36 with best_epoch = 26 and best_valid_accuracy = 0.91498\n",
      "Best weights from best epoch are automatically used!\n",
      "Device used : cpu\n",
      "Loading weights from unsupervised pretraining\n",
      "epoch 0  | loss: 0.93814 | train_auc: 0.63639 | train_accuracy: 0.5502  | valid_auc: 0.65206 | valid_accuracy: 0.54251 |  0:00:00s\n",
      "epoch 10 | loss: 0.29125 | train_auc: 0.95208 | train_accuracy: 0.85903 | valid_auc: 0.90764 | valid_accuracy: 0.83401 |  0:00:06s\n",
      "epoch 20 | loss: 0.15892 | train_auc: 0.99149 | train_accuracy: 0.96805 | valid_auc: 0.94564 | valid_accuracy: 0.89271 |  0:00:12s\n",
      "epoch 30 | loss: 0.09629 | train_auc: 0.99742 | train_accuracy: 0.97667 | valid_auc: 0.95619 | valid_accuracy: 0.90891 |  0:00:18s\n",
      "epoch 40 | loss: 0.08551 | train_auc: 0.99856 | train_accuracy: 0.9858  | valid_auc: 0.9633  | valid_accuracy: 0.92105 |  0:00:24s\n"
     ]
    },
    {
     "name": "stderr",
     "output_type": "stream",
     "text": [
      "\u001b[32m[I 2022-07-04 16:05:36,891]\u001b[0m Trial 13 finished with value: 0.93522 and parameters: {'n_steps': 8, 'gamma': 1.9850617902821561}. Best is trial 9 with value: 0.95749.\u001b[0m\n"
     ]
    },
    {
     "name": "stdout",
     "output_type": "stream",
     "text": [
      "\n",
      "Early stopping occurred at epoch 45 with best_epoch = 35 and best_valid_accuracy = 0.93522\n",
      "Best weights from best epoch are automatically used!\n",
      "Device used : cpu\n",
      "Loading weights from unsupervised pretraining\n",
      "epoch 0  | loss: 0.88303 | train_auc: 0.67273 | train_accuracy: 0.60497 | valid_auc: 0.68461 | valid_accuracy: 0.6336  |  0:00:00s\n",
      "epoch 10 | loss: 0.25407 | train_auc: 0.95948 | train_accuracy: 0.88438 | valid_auc: 0.91978 | valid_accuracy: 0.84615 |  0:00:06s\n",
      "epoch 20 | loss: 0.16571 | train_auc: 0.99378 | train_accuracy: 0.96247 | valid_auc: 0.94021 | valid_accuracy: 0.89271 |  0:00:12s\n",
      "epoch 30 | loss: 0.09762 | train_auc: 0.99547 | train_accuracy: 0.97008 | valid_auc: 0.94682 | valid_accuracy: 0.86842 |  0:00:18s\n",
      "epoch 40 | loss: 0.05542 | train_auc: 0.99959 | train_accuracy: 0.99493 | valid_auc: 0.95699 | valid_accuracy: 0.90486 |  0:00:25s\n",
      "\n",
      "Early stopping occurred at epoch 47 with best_epoch = 37 and best_valid_accuracy = 0.92713\n",
      "Best weights from best epoch are automatically used!\n"
     ]
    },
    {
     "name": "stderr",
     "output_type": "stream",
     "text": [
      "\u001b[32m[I 2022-07-04 16:06:06,843]\u001b[0m Trial 14 finished with value: 0.92713 and parameters: {'n_steps': 8, 'gamma': 1.3273764106715933}. Best is trial 9 with value: 0.95749.\u001b[0m\n"
     ]
    },
    {
     "name": "stdout",
     "output_type": "stream",
     "text": [
      "Device used : cpu\n",
      "Loading weights from unsupervised pretraining\n",
      "epoch 0  | loss: 0.90663 | train_auc: 0.63064 | train_accuracy: 0.60548 | valid_auc: 0.64219 | valid_accuracy: 0.61943 |  0:00:00s\n",
      "epoch 10 | loss: 0.33209 | train_auc: 0.91534 | train_accuracy: 0.81389 | valid_auc: 0.85515 | valid_accuracy: 0.76113 |  0:00:06s\n",
      "epoch 20 | loss: 0.20528 | train_auc: 0.98118 | train_accuracy: 0.93458 | valid_auc: 0.90772 | valid_accuracy: 0.83806 |  0:00:13s\n",
      "epoch 30 | loss: 0.11992 | train_auc: 0.98978 | train_accuracy: 0.96197 | valid_auc: 0.95373 | valid_accuracy: 0.90688 |  0:00:19s\n",
      "epoch 40 | loss: 0.10464 | train_auc: 0.996   | train_accuracy: 0.97312 | valid_auc: 0.96372 | valid_accuracy: 0.92713 |  0:00:25s\n",
      "epoch 50 | loss: 0.08455 | train_auc: 0.99936 | train_accuracy: 0.99087 | valid_auc: 0.97685 | valid_accuracy: 0.94332 |  0:00:32s\n",
      "\n",
      "Early stopping occurred at epoch 53 with best_epoch = 43 and best_valid_accuracy = 0.95547\n",
      "Best weights from best epoch are automatically used!\n"
     ]
    },
    {
     "name": "stderr",
     "output_type": "stream",
     "text": [
      "\u001b[32m[I 2022-07-04 16:06:41,422]\u001b[0m Trial 15 finished with value: 0.95547 and parameters: {'n_steps': 4, 'gamma': 1.579907829642157}. Best is trial 9 with value: 0.95749.\u001b[0m\n"
     ]
    },
    {
     "name": "stdout",
     "output_type": "stream",
     "text": [
      "Device used : cpu\n",
      "Loading weights from unsupervised pretraining\n",
      "epoch 0  | loss: 0.87572 | train_auc: 0.69216 | train_accuracy: 0.6212  | valid_auc: 0.72027 | valid_accuracy: 0.66599 |  0:00:00s\n",
      "epoch 10 | loss: 0.23108 | train_auc: 0.95702 | train_accuracy: 0.81947 | valid_auc: 0.905   | valid_accuracy: 0.76721 |  0:00:08s\n",
      "epoch 20 | loss: 0.15256 | train_auc: 0.9968  | train_accuracy: 0.97819 | valid_auc: 0.96049 | valid_accuracy: 0.90891 |  0:00:17s\n",
      "epoch 30 | loss: 0.06505 | train_auc: 0.99954 | train_accuracy: 0.99239 | valid_auc: 0.96061 | valid_accuracy: 0.91903 |  0:00:25s\n",
      "\n",
      "Early stopping occurred at epoch 38 with best_epoch = 28 and best_valid_accuracy = 0.93117\n",
      "Best weights from best epoch are automatically used!\n"
     ]
    },
    {
     "name": "stderr",
     "output_type": "stream",
     "text": [
      "\u001b[32m[I 2022-07-04 16:07:14,009]\u001b[0m Trial 16 finished with value: 0.93117 and parameters: {'n_steps': 4, 'gamma': 1.1855047806805292}. Best is trial 9 with value: 0.95749.\u001b[0m\n"
     ]
    },
    {
     "name": "stdout",
     "output_type": "stream",
     "text": [
      "Device used : cpu\n",
      "Loading weights from unsupervised pretraining\n",
      "epoch 0  | loss: 0.9123  | train_auc: 0.63964 | train_accuracy: 0.57201 | valid_auc: 0.6405  | valid_accuracy: 0.5587  |  0:00:00s\n",
      "epoch 10 | loss: 0.29475 | train_auc: 0.95061 | train_accuracy: 0.78955 | valid_auc: 0.89879 | valid_accuracy: 0.76113 |  0:00:09s\n",
      "epoch 20 | loss: 0.17985 | train_auc: 0.98092 | train_accuracy: 0.92343 | valid_auc: 0.93108 | valid_accuracy: 0.85425 |  0:00:17s\n",
      "epoch 30 | loss: 0.11455 | train_auc: 0.99493 | train_accuracy: 0.96704 | valid_auc: 0.95635 | valid_accuracy: 0.91296 |  0:00:25s\n",
      "epoch 40 | loss: 0.11647 | train_auc: 0.99553 | train_accuracy: 0.97617 | valid_auc: 0.96395 | valid_accuracy: 0.92713 |  0:00:33s\n"
     ]
    },
    {
     "name": "stderr",
     "output_type": "stream",
     "text": [
      "\u001b[32m[I 2022-07-04 16:07:51,885]\u001b[0m Trial 17 finished with value: 0.93725 and parameters: {'n_steps': 4, 'gamma': 1.7990703980472216}. Best is trial 9 with value: 0.95749.\u001b[0m\n"
     ]
    },
    {
     "name": "stdout",
     "output_type": "stream",
     "text": [
      "\n",
      "Early stopping occurred at epoch 45 with best_epoch = 35 and best_valid_accuracy = 0.93725\n",
      "Best weights from best epoch are automatically used!\n",
      "Device used : cpu\n",
      "Loading weights from unsupervised pretraining\n",
      "epoch 0  | loss: 0.90868 | train_auc: 0.66032 | train_accuracy: 0.60953 | valid_auc: 0.65439 | valid_accuracy: 0.61538 |  0:00:00s\n",
      "epoch 10 | loss: 0.2691  | train_auc: 0.95447 | train_accuracy: 0.86359 | valid_auc: 0.89737 | valid_accuracy: 0.81174 |  0:00:06s\n",
      "epoch 20 | loss: 0.18164 | train_auc: 0.97546 | train_accuracy: 0.91075 | valid_auc: 0.91034 | valid_accuracy: 0.86235 |  0:00:12s\n",
      "epoch 30 | loss: 0.09728 | train_auc: 0.9972  | train_accuracy: 0.9787  | valid_auc: 0.95255 | valid_accuracy: 0.89474 |  0:00:18s\n",
      "epoch 40 | loss: 0.08346 | train_auc: 0.99932 | train_accuracy: 0.9929  | valid_auc: 0.96843 | valid_accuracy: 0.91498 |  0:00:24s\n",
      "epoch 50 | loss: 0.05777 | train_auc: 0.99915 | train_accuracy: 0.99493 | valid_auc: 0.9613  | valid_accuracy: 0.91498 |  0:00:30s\n",
      "\n",
      "Early stopping occurred at epoch 51 with best_epoch = 41 and best_valid_accuracy = 0.94737\n",
      "Best weights from best epoch are automatically used!\n"
     ]
    },
    {
     "name": "stderr",
     "output_type": "stream",
     "text": [
      "\u001b[32m[I 2022-07-04 16:08:23,912]\u001b[0m Trial 18 finished with value: 0.94737 and parameters: {'n_steps': 1, 'gamma': 1.6320375492455614}. Best is trial 9 with value: 0.95749.\u001b[0m\n"
     ]
    },
    {
     "name": "stdout",
     "output_type": "stream",
     "text": [
      "Device used : cpu\n",
      "Loading weights from unsupervised pretraining\n",
      "epoch 0  | loss: 0.88514 | train_auc: 0.62251 | train_accuracy: 0.55477 | valid_auc: 0.64251 | valid_accuracy: 0.59109 |  0:00:00s\n",
      "epoch 10 | loss: 0.22257 | train_auc: 0.96089 | train_accuracy: 0.88185 | valid_auc: 0.9195  | valid_accuracy: 0.83806 |  0:00:06s\n",
      "epoch 20 | loss: 0.1243  | train_auc: 0.99688 | train_accuracy: 0.97465 | valid_auc: 0.96736 | valid_accuracy: 0.91498 |  0:00:12s\n",
      "epoch 30 | loss: 0.06255 | train_auc: 0.9985  | train_accuracy: 0.98986 | valid_auc: 0.97437 | valid_accuracy: 0.93117 |  0:00:19s\n",
      "\n",
      "Early stopping occurred at epoch 39 with best_epoch = 29 and best_valid_accuracy = 0.94939\n",
      "Best weights from best epoch are automatically used!\n"
     ]
    },
    {
     "name": "stderr",
     "output_type": "stream",
     "text": [
      "\u001b[32m[I 2022-07-04 16:08:49,092]\u001b[0m Trial 19 finished with value: 0.94939 and parameters: {'n_steps': 3, 'gamma': 1.4334530965367884}. Best is trial 9 with value: 0.95749.\u001b[0m\n"
     ]
    }
   ],
   "source": [
    "#\n",
    "# cre<te an launch the study\n",
    "#\n",
    "study = optuna.create_study(direction=\"maximize\")\n",
    "\n",
    "study.optimize(objective, n_trials=20)"
   ]
  },
  {
   "cell_type": "code",
   "execution_count": 18,
   "id": "7ddfb3d0",
   "metadata": {},
   "outputs": [
    {
     "data": {
      "text/plain": [
       "{'n_steps': 2, 'gamma': 1.7124332899360604}"
      ]
     },
     "execution_count": 18,
     "metadata": {},
     "output_type": "execute_result"
    }
   ],
   "source": [
    "study.best_params"
   ]
  },
  {
   "cell_type": "code",
   "execution_count": 19,
   "id": "3c2cc31f",
   "metadata": {},
   "outputs": [
    {
     "name": "stdout",
     "output_type": "stream",
     "text": [
      "Device used : cpu\n",
      "Loading weights from unsupervised pretraining\n",
      "epoch 0  | loss: 0.90622 | train_auc: 0.6372  | train_accuracy: 0.58114 | valid_auc: 0.64363 | valid_accuracy: 0.58502 |  0:00:00s\n",
      "epoch 5  | loss: 0.39764 | train_auc: 0.88407 | train_accuracy: 0.81136 | valid_auc: 0.85134 | valid_accuracy: 0.77935 |  0:00:05s\n",
      "epoch 10 | loss: 0.30067 | train_auc: 0.95717 | train_accuracy: 0.81846 | valid_auc: 0.91113 | valid_accuracy: 0.78745 |  0:00:09s\n",
      "epoch 15 | loss: 0.20238 | train_auc: 0.98078 | train_accuracy: 0.91024 | valid_auc: 0.95957 | valid_accuracy: 0.88462 |  0:00:13s\n",
      "epoch 20 | loss: 0.13187 | train_auc: 0.99098 | train_accuracy: 0.94878 | valid_auc: 0.96077 | valid_accuracy: 0.90081 |  0:00:17s\n",
      "epoch 25 | loss: 0.08923 | train_auc: 0.99647 | train_accuracy: 0.97718 | valid_auc: 0.9632  | valid_accuracy: 0.92308 |  0:00:21s\n",
      "epoch 30 | loss: 0.07141 | train_auc: 0.99875 | train_accuracy: 0.9858  | valid_auc: 0.97583 | valid_accuracy: 0.92105 |  0:00:25s\n",
      "epoch 35 | loss: 0.05272 | train_auc: 0.99992 | train_accuracy: 0.99544 | valid_auc: 0.98182 | valid_accuracy: 0.93927 |  0:00:29s\n",
      "epoch 40 | loss: 0.07921 | train_auc: 0.99889 | train_accuracy: 0.98682 | valid_auc: 0.97047 | valid_accuracy: 0.91498 |  0:00:34s\n",
      "epoch 45 | loss: 0.06623 | train_auc: 0.99859 | train_accuracy: 0.96805 | valid_auc: 0.97061 | valid_accuracy: 0.91296 |  0:00:38s\n",
      "Stop training because you reached max_epochs = 50 with best_epoch = 41 and best_valid_accuracy = 0.95749\n",
      "Best weights from best epoch are automatically used!\n"
     ]
    }
   ],
   "source": [
    "# train with best params: {'n_steps': 2, 'gamma': 1.7124332899360604}\n",
    "# il risultato è riproducibile\n",
    "\n",
    "params = {\n",
    "    \"cat_idxs\" : cat_idxs,\n",
    "    \"cat_dims\" : cat_dims,\n",
    "    \"n_steps\" : study.best_params['n_steps'],\n",
    "    \"gamma\" : study.best_params['gamma'],\n",
    "    \"verbose\" : 5\n",
    "    }\n",
    "clf = TabNetClassifier(**params)\n",
    "\n",
    "clf.fit(\n",
    "    X_train=X_train, y_train=y_train,\n",
    "    eval_set=[(X_train, y_train), (X_test, y_test)],\n",
    "    eval_name=['train', 'valid'],\n",
    "    eval_metric=['auc', 'accuracy'],\n",
    "    from_unsupervised=unsupervised_model,\n",
    "    batch_size=128, \n",
    "    max_epochs = 50\n",
    ")"
   ]
  },
  {
   "cell_type": "code",
   "execution_count": 20,
   "id": "eb164126",
   "metadata": {},
   "outputs": [
    {
     "name": "stdout",
     "output_type": "stream",
     "text": [
      "Test set Classification Report:\n",
      "              precision    recall  f1-score   support\n",
      "\n",
      "           0     0.9875    0.9294    0.9576       255\n",
      "           1     0.9291    0.9874    0.9574       239\n",
      "\n",
      "    accuracy                         0.9575       494\n",
      "   macro avg     0.9583    0.9584    0.9575       494\n",
      "weighted avg     0.9593    0.9575    0.9575       494\n",
      "\n",
      "ROC AUC 0.975\n"
     ]
    }
   ],
   "source": [
    "# migliorata significativamente con la gestione delle categoriche e sopratutto pre-training\n",
    "\n",
    "test_pred = clf.predict(X_test)\n",
    "test_probas = clf.predict_proba(X_test)\n",
    "\n",
    "print('Test set Classification Report:')\n",
    "print(classification_report(y_test, test_pred, digits=4))\n",
    "\n",
    "print(\"ROC AUC\",round(roc_auc_score(y_test, test_probas[:,1]), 3))"
   ]
  },
  {
   "cell_type": "code",
   "execution_count": 21,
   "id": "10a93967",
   "metadata": {},
   "outputs": [
    {
     "data": {
      "image/png": "[encoded data removed]",
      "text/plain": [
       "<Figure size 432x288 with 2 Axes>"
      ]
     },
     "metadata": {
      "needs_background": "light"
     },
     "output_type": "display_data"
    }
   ],
   "source": [
    "def plot_cm(model, x_test, y_test):\n",
    "    y_pred_labels = model.predict(x_test)\n",
    "    cm = confusion_matrix(y_test, y_pred_labels)\n",
    "    disp = ConfusionMatrixDisplay(confusion_matrix=cm)\n",
    "    disp.plot();\n",
    "    \n",
    "plot_cm(clf, X_test, y_test)"
   ]
  },
  {
   "cell_type": "code",
   "execution_count": 22,
   "id": "9b33d945",
   "metadata": {},
   "outputs": [
    {
     "data": {
      "image/png": "[encoded data removed]",
      "text/plain": [
       "<Figure size 864x648 with 1 Axes>"
      ]
     },
     "metadata": {
      "needs_background": "light"
     },
     "output_type": "display_data"
    }
   ],
   "source": [
    "plt.figure(figsize=(12,9))\n",
    "plt.bar(x=features, height=clf.feature_importances_)\n",
    "plt.xticks(rotation=90)\n",
    "plt.grid(True)\n",
    "plt.show();"
   ]
  },
  {
   "cell_type": "code",
   "execution_count": null,
   "id": "e0bb6ba9",
   "metadata": {},
   "outputs": [],
   "source": []
  }
 ],
 "metadata": {
  "kernelspec": {
   "display_name": "Python [conda env:mypytorch110_p37_cpu_v1_0]",
   "language": "python",
   "name": "conda-env-mypytorch110_p37_cpu_v1_0-py"
  },
  "language_info": {
   "codemirror_mode": {
    "name": "ipython",
    "version": 3
   },
   "file_extension": ".py",
   "mimetype": "text/x-python",
   "name": "python",
   "nbconvert_exporter": "python",
   "pygments_lexer": "ipython3",
   "version": "3.7.12"
  }
 },
 "nbformat": 4,
 "nbformat_minor": 5
}
