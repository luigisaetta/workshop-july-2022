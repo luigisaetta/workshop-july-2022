{
 "cells": [
  {
   "cell_type": "markdown",
   "id": "eded6984",
   "metadata": {},
   "source": [
    "### Test Tabnet on Employee Attrition Data"
   ]
  },
  {
   "cell_type": "code",
   "execution_count": 1,
   "id": "d289db80",
   "metadata": {},
   "outputs": [],
   "source": [
    "import pandas as pd\n",
    "import numpy as np\n",
    "import ads\n",
    "\n",
    "from ads import set_auth\n",
    "from ads.model.generic_model import GenericModel\n",
    "\n",
    "import torch\n",
    "from pytorch_tabnet.tab_model import TabNetClassifier\n",
    "from pytorch_tabnet.pretraining import TabNetPretrainer\n",
    "\n",
    "from pytorch_tabnet.metrics import Metric\n",
    "\n",
    "from sklearn.metrics import classification_report\n",
    "from sklearn.metrics import get_scorer, make_scorer, f1_score\n",
    "from sklearn.metrics import roc_auc_score, accuracy_score, confusion_matrix, ConfusionMatrixDisplay\n",
    "from sklearn.model_selection import train_test_split\n",
    "\n",
    "from ads.dataset.factory import DatasetFactory\n",
    "\n",
    "import optuna\n",
    "\n",
    "from sklearn.preprocessing import OrdinalEncoder\n",
    "from sklearn.preprocessing import OneHotEncoder, LabelEncoder\n",
    "import logging\n",
    "import warnings\n",
    "\n",
    "import matplotlib.pyplot as plt\n",
    "\n",
    "warnings.filterwarnings('ignore')\n",
    "logging.basicConfig(format='%(levelname)s:%(message)s', level=logging.ERROR)\n",
    "\n",
    "%matplotlib inline"
   ]
  },
  {
   "cell_type": "code",
   "execution_count": 2,
   "id": "9428cfea",
   "metadata": {},
   "outputs": [
    {
     "name": "stdout",
     "output_type": "stream",
     "text": [
      "2.6.2\n"
     ]
    }
   ],
   "source": [
    "print(ads.__version__)"
   ]
  },
  {
   "cell_type": "code",
   "execution_count": 3,
   "id": "65ce72bb",
   "metadata": {},
   "outputs": [
    {
     "name": "stdout",
     "output_type": "stream",
     "text": [
      "WARNING:root:~/.oci/config file not exists, default value oci.config.DEFAULT_LOCATION used instead\n"
     ]
    }
   ],
   "source": [
    "# set RP\n",
    "set_auth(auth='resource_principal')"
   ]
  },
  {
   "cell_type": "code",
   "execution_count": 4,
   "id": "caade049",
   "metadata": {},
   "outputs": [
    {
     "data": {
      "application/vnd.jupyter.widget-view+json": {
       "model_id": "94aed29a1f4045bcae92e2cc89ade4d9",
       "version_major": 2,
       "version_minor": 0
      },
      "text/plain": [
       "loop1:   0%|          | 0/4 [00:00<?, ?it/s]"
      ]
     },
     "metadata": {},
     "output_type": "display_data"
    }
   ],
   "source": [
    "attrition_path = \"/opt/notebooks/ads-examples/oracle_data/orcl_attrition.csv\"\n",
    "\n",
    "# uso ancora la classe dataset per fare l'upsampling\n",
    "\n",
    "ds = DatasetFactory.open(\n",
    "      attrition_path,\n",
    "      target=\"Attrition\").set_positive_class('Yes')"
   ]
  },
  {
   "cell_type": "code",
   "execution_count": 5,
   "id": "b43af746",
   "metadata": {},
   "outputs": [],
   "source": [
    "# lavoro ancora sul dataset up sampled\n",
    "\n",
    "ds_up = ds.up_sample()"
   ]
  },
  {
   "cell_type": "code",
   "execution_count": 6,
   "id": "2fb82783",
   "metadata": {},
   "outputs": [],
   "source": [
    "cols_to_drop = ['Directs','name', 'Over18','WeeklyWorkedHours','EmployeeNumber']\n",
    "\n",
    "ds_used = ds_up.drop(columns=cols_to_drop)"
   ]
  },
  {
   "cell_type": "code",
   "execution_count": 7,
   "id": "5d3ecf44",
   "metadata": {},
   "outputs": [
    {
     "data": {
      "text/plain": [
       "['Age',\n",
       " 'RelationshipSatisfaction',\n",
       " 'EnvironmentSatisfaction',\n",
       " 'YearsSinceLastPromotion',\n",
       " 'YearsOnJob',\n",
       " 'CommuteLength',\n",
       " 'YearsWithCurrManager',\n",
       " 'EducationField',\n",
       " 'StockOptionLevel',\n",
       " 'PerformanceRating',\n",
       " 'JobInvolvement',\n",
       " 'PercentSalaryHike',\n",
       " 'WorkLifeBalance',\n",
       " 'JobRole',\n",
       " 'JobSatisfaction',\n",
       " 'JobFunction',\n",
       " 'JobLevel',\n",
       " 'YearsinIndustry',\n",
       " 'EducationalLevel',\n",
       " 'OverTime',\n",
       " 'Gender',\n",
       " 'MaritalStatus',\n",
       " 'TrainingTimesLastYear',\n",
       " 'MonthlyRate',\n",
       " 'NumCompaniesWorked',\n",
       " 'TravelForWork',\n",
       " 'HourlyRate',\n",
       " 'YearsAtCurrentLevel',\n",
       " 'MonthlyIncome',\n",
       " 'SalaryLevel']"
      ]
     },
     "execution_count": 7,
     "metadata": {},
     "output_type": "execute_result"
    }
   ],
   "source": [
    "TARGET = 'Attrition'\n",
    "\n",
    "features = list(set(ds_used.columns) - set([TARGET]))\n",
    "\n",
    "features"
   ]
  },
  {
   "cell_type": "code",
   "execution_count": 8,
   "id": "3b1c894b",
   "metadata": {},
   "outputs": [],
   "source": [
    "# take the Pandas DataFRame out\n",
    "\n",
    "# versione differente di ADS (2.0... il metodo ha altro nome)\n",
    "df_used = ds_used.to_pandas()"
   ]
  },
  {
   "cell_type": "markdown",
   "id": "461133c5",
   "metadata": {},
   "source": [
    "### lavorando direttamente senza AutoML dobbiamo provvedere noi a tutta la data preparation"
   ]
  },
  {
   "cell_type": "code",
   "execution_count": 9,
   "id": "3037bc41",
   "metadata": {},
   "outputs": [
    {
     "name": "stdout",
     "output_type": "stream",
     "text": [
      "TravelForWork 3\n",
      "JobFunction 3\n",
      "EducationalLevel 5\n",
      "EducationField 6\n",
      "EnvironmentSatisfaction 4\n",
      "Gender 2\n",
      "JobInvolvement 4\n",
      "JobLevel 5\n",
      "JobRole 9\n",
      "JobSatisfaction 4\n",
      "MaritalStatus 3\n",
      "OverTime 2\n",
      "PerformanceRating 2\n",
      "RelationshipSatisfaction 4\n",
      "StockOptionLevel 4\n",
      "TrainingTimesLastYear 7\n",
      "WorkLifeBalance 4\n",
      "Attrition 2\n"
     ]
    }
   ],
   "source": [
    "THR = 10\n",
    "\n",
    "nunique = df_used.nunique()\n",
    "types = df_used.dtypes\n",
    "\n",
    "categorical_columns = []\n",
    "categorical_dims =  {}\n",
    "for col in df_used.columns:\n",
    "    \n",
    "    # identifichiamo come categoriche tutte le colonne che soddisfano questa condizione !!!\n",
    "    # la soglia la possiamo cambiare\n",
    "    if types[col] == 'object' or nunique[col] < THR:\n",
    "        print(col, df_used[col].nunique())\n",
    "        \n",
    "        # codifichiamo i categorici con LabelEncoder\n",
    "        l_enc = LabelEncoder()\n",
    "        df_used[col] = l_enc.fit_transform(df_used[col].values)\n",
    "        \n",
    "        categorical_columns.append(col)\n",
    "        categorical_dims[col] = len(l_enc.classes_)"
   ]
  },
  {
   "cell_type": "code",
   "execution_count": 10,
   "id": "621f2ddb",
   "metadata": {},
   "outputs": [],
   "source": [
    "cat_idxs = [ i for i, f in enumerate(features) if f in categorical_columns]\n",
    "\n",
    "cat_dims = [ categorical_dims[f] for i, f in enumerate(features) if f in categorical_columns]"
   ]
  },
  {
   "cell_type": "code",
   "execution_count": 11,
   "id": "c84ef552",
   "metadata": {},
   "outputs": [],
   "source": [
    "# now we have codified everything, are ready"
   ]
  },
  {
   "cell_type": "code",
   "execution_count": 12,
   "id": "ea5b2562",
   "metadata": {},
   "outputs": [
    {
     "data": {
      "text/plain": [
       "(2466, 30)"
      ]
     },
     "execution_count": 12,
     "metadata": {},
     "output_type": "execute_result"
    }
   ],
   "source": [
    "X = df_used[features].values\n",
    "y = df_used[TARGET].values\n",
    "\n",
    "X.shape"
   ]
  },
  {
   "cell_type": "code",
   "execution_count": 13,
   "id": "4e4aa980",
   "metadata": {},
   "outputs": [
    {
     "name": "stdout",
     "output_type": "stream",
     "text": [
      "# of samples in train set 1972\n",
      "# of samples in test set 494\n"
     ]
    }
   ],
   "source": [
    "# train, test split\n",
    "X_train, X_test, y_train, y_test = train_test_split(X, y, shuffle=True, test_size=0.2, random_state = 1234)\n",
    "\n",
    "print(\"# of samples in train set\", X_train.shape[0])\n",
    "print(\"# of samples in test set\", X_test.shape[0])"
   ]
  },
  {
   "cell_type": "code",
   "execution_count": 14,
   "id": "8dcbf14a",
   "metadata": {},
   "outputs": [],
   "source": [
    "#\n",
    "# if we need F we need a custom implementation for F1 in Tabnet\n",
    "#\n",
    "class F1(Metric):\n",
    "    def __init__(self):\n",
    "        self._name = \"f1\"\n",
    "        self._maximize = True\n",
    "        # potremmo lavorare siu questa soglia\n",
    "        self.thr = 0.55\n",
    "    \n",
    "    # the input are probs, must be converted to 0, 1\n",
    "    def __call__(self, y_true, p_score):\n",
    "        \n",
    "        # here we have labels\n",
    "        y_score = (p_score[:, 1] >= self.thr).astype(int)\n",
    "        \n",
    "        return f1_score(y_true, y_score)"
   ]
  },
  {
   "cell_type": "code",
   "execution_count": 15,
   "id": "4dde6396",
   "metadata": {},
   "outputs": [
    {
     "name": "stdout",
     "output_type": "stream",
     "text": [
      "Device used : cpu\n",
      "epoch 0  | loss: 5.66424 | val_0_unsup_loss: 152.56284|  0:00:00s\n",
      "epoch 1  | loss: 4.73093 | val_0_unsup_loss: 28.84589|  0:00:00s\n",
      "epoch 2  | loss: 4.17575 | val_0_unsup_loss: 18.70724|  0:00:00s\n",
      "epoch 3  | loss: 3.84144 | val_0_unsup_loss: 14.54688|  0:00:01s\n",
      "epoch 4  | loss: 3.59719 | val_0_unsup_loss: 9.37707 |  0:00:01s\n",
      "epoch 5  | loss: 3.34794 | val_0_unsup_loss: 6.18216 |  0:00:01s\n",
      "epoch 6  | loss: 3.19214 | val_0_unsup_loss: 5.17996 |  0:00:02s\n",
      "epoch 7  | loss: 3.07507 | val_0_unsup_loss: 4.57977 |  0:00:02s\n",
      "epoch 8  | loss: 2.96759 | val_0_unsup_loss: 4.19723 |  0:00:02s\n",
      "epoch 9  | loss: 2.89597 | val_0_unsup_loss: 3.89183 |  0:00:03s\n",
      "epoch 10 | loss: 2.7846  | val_0_unsup_loss: 3.69231 |  0:00:03s\n",
      "epoch 11 | loss: 2.71172 | val_0_unsup_loss: 3.31038 |  0:00:03s\n",
      "epoch 12 | loss: 2.61945 | val_0_unsup_loss: 2.87133 |  0:00:04s\n",
      "epoch 13 | loss: 2.60973 | val_0_unsup_loss: 2.73098 |  0:00:04s\n",
      "epoch 14 | loss: 2.48826 | val_0_unsup_loss: 2.63852 |  0:00:04s\n",
      "epoch 15 | loss: 2.45754 | val_0_unsup_loss: 2.56376 |  0:00:04s\n",
      "epoch 16 | loss: 2.38065 | val_0_unsup_loss: 2.4966  |  0:00:05s\n",
      "epoch 17 | loss: 2.32353 | val_0_unsup_loss: 2.40804 |  0:00:05s\n",
      "epoch 18 | loss: 2.24399 | val_0_unsup_loss: 2.32328 |  0:00:05s\n",
      "epoch 19 | loss: 2.19178 | val_0_unsup_loss: 2.26174 |  0:00:06s\n",
      "epoch 20 | loss: 2.15835 | val_0_unsup_loss: 2.18907 |  0:00:06s\n",
      "epoch 21 | loss: 2.08283 | val_0_unsup_loss: 2.12674 |  0:00:06s\n",
      "epoch 22 | loss: 2.03053 | val_0_unsup_loss: 2.07048 |  0:00:07s\n",
      "epoch 23 | loss: 1.96262 | val_0_unsup_loss: 2.02008 |  0:00:07s\n",
      "epoch 24 | loss: 1.92882 | val_0_unsup_loss: 1.96169 |  0:00:07s\n",
      "epoch 25 | loss: 1.86863 | val_0_unsup_loss: 1.91622 |  0:00:07s\n",
      "epoch 26 | loss: 1.79985 | val_0_unsup_loss: 1.86323 |  0:00:08s\n",
      "epoch 27 | loss: 1.77796 | val_0_unsup_loss: 1.81022 |  0:00:08s\n",
      "epoch 28 | loss: 1.7433  | val_0_unsup_loss: 1.76048 |  0:00:08s\n",
      "epoch 29 | loss: 1.726   | val_0_unsup_loss: 1.72397 |  0:00:09s\n",
      "epoch 30 | loss: 1.69815 | val_0_unsup_loss: 1.69927 |  0:00:09s\n",
      "epoch 31 | loss: 1.69554 | val_0_unsup_loss: 1.67313 |  0:00:09s\n",
      "epoch 32 | loss: 1.64474 | val_0_unsup_loss: 1.64719 |  0:00:10s\n",
      "epoch 33 | loss: 1.62495 | val_0_unsup_loss: 1.6198  |  0:00:10s\n",
      "epoch 34 | loss: 1.6013  | val_0_unsup_loss: 1.58931 |  0:00:10s\n",
      "epoch 35 | loss: 1.56455 | val_0_unsup_loss: 1.56254 |  0:00:10s\n",
      "epoch 36 | loss: 1.55094 | val_0_unsup_loss: 1.53632 |  0:00:11s\n",
      "epoch 37 | loss: 1.52641 | val_0_unsup_loss: 1.5138  |  0:00:11s\n",
      "epoch 38 | loss: 1.50352 | val_0_unsup_loss: 1.49487 |  0:00:11s\n",
      "epoch 39 | loss: 1.48529 | val_0_unsup_loss: 1.48016 |  0:00:12s\n",
      "epoch 40 | loss: 1.45574 | val_0_unsup_loss: 1.46726 |  0:00:12s\n",
      "epoch 41 | loss: 1.43041 | val_0_unsup_loss: 1.44748 |  0:00:12s\n",
      "epoch 42 | loss: 1.4326  | val_0_unsup_loss: 1.43841 |  0:00:13s\n",
      "epoch 43 | loss: 1.41007 | val_0_unsup_loss: 1.41777 |  0:00:13s\n",
      "epoch 44 | loss: 1.40545 | val_0_unsup_loss: 1.40554 |  0:00:13s\n",
      "epoch 45 | loss: 1.38631 | val_0_unsup_loss: 1.39746 |  0:00:13s\n",
      "epoch 46 | loss: 1.35586 | val_0_unsup_loss: 1.37869 |  0:00:14s\n",
      "epoch 47 | loss: 1.37459 | val_0_unsup_loss: 1.36907 |  0:00:14s\n",
      "epoch 48 | loss: 1.35737 | val_0_unsup_loss: 1.35643 |  0:00:14s\n",
      "epoch 49 | loss: 1.34723 | val_0_unsup_loss: 1.34589 |  0:00:15s\n",
      "epoch 50 | loss: 1.34655 | val_0_unsup_loss: 1.33814 |  0:00:15s\n",
      "epoch 51 | loss: 1.33901 | val_0_unsup_loss: 1.32394 |  0:00:15s\n",
      "epoch 52 | loss: 1.31129 | val_0_unsup_loss: 1.31126 |  0:00:16s\n",
      "epoch 53 | loss: 1.31803 | val_0_unsup_loss: 1.30009 |  0:00:16s\n",
      "epoch 54 | loss: 1.31002 | val_0_unsup_loss: 1.29118 |  0:00:16s\n",
      "epoch 55 | loss: 1.29863 | val_0_unsup_loss: 1.28415 |  0:00:16s\n",
      "epoch 56 | loss: 1.29372 | val_0_unsup_loss: 1.2774  |  0:00:17s\n",
      "epoch 57 | loss: 1.28643 | val_0_unsup_loss: 1.27338 |  0:00:17s\n",
      "epoch 58 | loss: 1.29038 | val_0_unsup_loss: 1.2713  |  0:00:17s\n",
      "epoch 59 | loss: 1.26168 | val_0_unsup_loss: 1.2667  |  0:00:18s\n",
      "epoch 60 | loss: 1.27767 | val_0_unsup_loss: 1.26357 |  0:00:18s\n",
      "epoch 61 | loss: 1.27192 | val_0_unsup_loss: 1.25706 |  0:00:18s\n",
      "epoch 62 | loss: 1.26755 | val_0_unsup_loss: 1.25462 |  0:00:19s\n",
      "epoch 63 | loss: 1.25483 | val_0_unsup_loss: 1.25107 |  0:00:19s\n",
      "epoch 64 | loss: 1.26719 | val_0_unsup_loss: 1.24904 |  0:00:19s\n",
      "epoch 65 | loss: 1.24901 | val_0_unsup_loss: 1.24204 |  0:00:19s\n",
      "epoch 66 | loss: 1.26096 | val_0_unsup_loss: 1.23716 |  0:00:20s\n",
      "epoch 67 | loss: 1.23563 | val_0_unsup_loss: 1.23618 |  0:00:20s\n",
      "epoch 68 | loss: 1.25501 | val_0_unsup_loss: 1.22784 |  0:00:20s\n",
      "epoch 69 | loss: 1.24935 | val_0_unsup_loss: 1.22551 |  0:00:21s\n",
      "epoch 70 | loss: 1.25265 | val_0_unsup_loss: 1.22199 |  0:00:21s\n",
      "epoch 71 | loss: 1.2474  | val_0_unsup_loss: 1.21991 |  0:00:21s\n",
      "epoch 72 | loss: 1.23152 | val_0_unsup_loss: 1.21674 |  0:00:22s\n",
      "epoch 73 | loss: 1.23132 | val_0_unsup_loss: 1.21388 |  0:00:22s\n",
      "epoch 74 | loss: 1.23568 | val_0_unsup_loss: 1.21352 |  0:00:22s\n",
      "epoch 75 | loss: 1.24234 | val_0_unsup_loss: 1.2167  |  0:00:22s\n",
      "epoch 76 | loss: 1.22238 | val_0_unsup_loss: 1.21399 |  0:00:23s\n",
      "epoch 77 | loss: 1.21349 | val_0_unsup_loss: 1.21475 |  0:00:23s\n",
      "epoch 78 | loss: 1.23025 | val_0_unsup_loss: 1.20985 |  0:00:23s\n",
      "epoch 79 | loss: 1.22209 | val_0_unsup_loss: 1.20892 |  0:00:24s\n",
      "epoch 80 | loss: 1.221   | val_0_unsup_loss: 1.2081  |  0:00:24s\n",
      "epoch 81 | loss: 1.22857 | val_0_unsup_loss: 1.20219 |  0:00:24s\n",
      "epoch 82 | loss: 1.21555 | val_0_unsup_loss: 1.1959  |  0:00:24s\n",
      "epoch 83 | loss: 1.2372  | val_0_unsup_loss: 1.19499 |  0:00:25s\n",
      "epoch 84 | loss: 1.22343 | val_0_unsup_loss: 1.19325 |  0:00:25s\n",
      "epoch 85 | loss: 1.20785 | val_0_unsup_loss: 1.19425 |  0:00:25s\n",
      "epoch 86 | loss: 1.22331 | val_0_unsup_loss: 1.18993 |  0:00:26s\n",
      "epoch 87 | loss: 1.21875 | val_0_unsup_loss: 1.18961 |  0:00:26s\n",
      "epoch 88 | loss: 1.21159 | val_0_unsup_loss: 1.19028 |  0:00:26s\n",
      "epoch 89 | loss: 1.21888 | val_0_unsup_loss: 1.19076 |  0:00:27s\n",
      "epoch 90 | loss: 1.20215 | val_0_unsup_loss: 1.18404 |  0:00:27s\n",
      "epoch 91 | loss: 1.21404 | val_0_unsup_loss: 1.17957 |  0:00:27s\n",
      "epoch 92 | loss: 1.20734 | val_0_unsup_loss: 1.17716 |  0:00:27s\n",
      "epoch 93 | loss: 1.20954 | val_0_unsup_loss: 1.17426 |  0:00:28s\n",
      "epoch 94 | loss: 1.20603 | val_0_unsup_loss: 1.17277 |  0:00:28s\n",
      "epoch 95 | loss: 1.21537 | val_0_unsup_loss: 1.17387 |  0:00:28s\n",
      "epoch 96 | loss: 1.20881 | val_0_unsup_loss: 1.17336 |  0:00:29s\n",
      "epoch 97 | loss: 1.20551 | val_0_unsup_loss: 1.17287 |  0:00:29s\n",
      "epoch 98 | loss: 1.18863 | val_0_unsup_loss: 1.17209 |  0:00:29s\n",
      "epoch 99 | loss: 1.19732 | val_0_unsup_loss: 1.171   |  0:00:29s\n",
      "epoch 100| loss: 1.20591 | val_0_unsup_loss: 1.17033 |  0:00:30s\n",
      "epoch 101| loss: 1.1911  | val_0_unsup_loss: 1.17309 |  0:00:30s\n",
      "epoch 102| loss: 1.20281 | val_0_unsup_loss: 1.17339 |  0:00:30s\n",
      "epoch 103| loss: 1.19957 | val_0_unsup_loss: 1.1724  |  0:00:31s\n",
      "epoch 104| loss: 1.20797 | val_0_unsup_loss: 1.17262 |  0:00:31s\n",
      "epoch 105| loss: 1.212   | val_0_unsup_loss: 1.1704  |  0:00:31s\n",
      "epoch 106| loss: 1.20395 | val_0_unsup_loss: 1.169   |  0:00:32s\n",
      "epoch 107| loss: 1.20768 | val_0_unsup_loss: 1.17102 |  0:00:32s\n",
      "epoch 108| loss: 1.20313 | val_0_unsup_loss: 1.16831 |  0:00:32s\n",
      "epoch 109| loss: 1.18031 | val_0_unsup_loss: 1.1688  |  0:00:32s\n",
      "epoch 110| loss: 1.18911 | val_0_unsup_loss: 1.168   |  0:00:33s\n",
      "epoch 111| loss: 1.19553 | val_0_unsup_loss: 1.16698 |  0:00:33s\n",
      "epoch 112| loss: 1.19036 | val_0_unsup_loss: 1.166   |  0:00:33s\n",
      "epoch 113| loss: 1.17774 | val_0_unsup_loss: 1.16002 |  0:00:34s\n",
      "epoch 114| loss: 1.1947  | val_0_unsup_loss: 1.15912 |  0:00:34s\n",
      "epoch 115| loss: 1.20343 | val_0_unsup_loss: 1.15884 |  0:00:34s\n",
      "epoch 116| loss: 1.20608 | val_0_unsup_loss: 1.15962 |  0:00:34s\n",
      "epoch 117| loss: 1.20229 | val_0_unsup_loss: 1.16378 |  0:00:35s\n",
      "epoch 118| loss: 1.18788 | val_0_unsup_loss: 1.15839 |  0:00:35s\n",
      "epoch 119| loss: 1.18698 | val_0_unsup_loss: 1.15295 |  0:00:35s\n",
      "epoch 120| loss: 1.21282 | val_0_unsup_loss: 1.14987 |  0:00:36s\n",
      "epoch 121| loss: 1.1855  | val_0_unsup_loss: 1.15031 |  0:00:36s\n",
      "epoch 122| loss: 1.20258 | val_0_unsup_loss: 1.14811 |  0:00:36s\n",
      "epoch 123| loss: 1.18337 | val_0_unsup_loss: 1.14772 |  0:00:37s\n",
      "epoch 124| loss: 1.1911  | val_0_unsup_loss: 1.14804 |  0:00:37s\n",
      "epoch 125| loss: 1.17175 | val_0_unsup_loss: 1.14543 |  0:00:37s\n",
      "epoch 126| loss: 1.19809 | val_0_unsup_loss: 1.14232 |  0:00:37s\n",
      "epoch 127| loss: 1.19476 | val_0_unsup_loss: 1.14578 |  0:00:38s\n",
      "epoch 128| loss: 1.1913  | val_0_unsup_loss: 1.14371 |  0:00:38s\n",
      "epoch 129| loss: 1.17728 | val_0_unsup_loss: 1.1468  |  0:00:38s\n",
      "epoch 130| loss: 1.18396 | val_0_unsup_loss: 1.14799 |  0:00:39s\n",
      "epoch 131| loss: 1.19008 | val_0_unsup_loss: 1.14937 |  0:00:39s\n",
      "epoch 132| loss: 1.18482 | val_0_unsup_loss: 1.1499  |  0:00:39s\n",
      "epoch 133| loss: 1.18902 | val_0_unsup_loss: 1.14603 |  0:00:39s\n",
      "epoch 134| loss: 1.18171 | val_0_unsup_loss: 1.14535 |  0:00:40s\n",
      "epoch 135| loss: 1.18863 | val_0_unsup_loss: 1.14573 |  0:00:40s\n",
      "epoch 136| loss: 1.17936 | val_0_unsup_loss: 1.14526 |  0:00:40s\n",
      "\n",
      "Early stopping occurred at epoch 136 with best_epoch = 126 and best_val_0_unsup_loss = 1.14232\n",
      "Best weights from best epoch are automatically used!\n",
      "CPU times: user 9min 45s, sys: 1min 2s, total: 10min 48s\n",
      "Wall time: 40.9 s\n"
     ]
    }
   ],
   "source": [
    "%%time\n",
    "# see: https://github.com/dreamquark-ai/tabnet\n",
    "\n",
    "# TabNetPretrainer\n",
    "unsupervised_model = TabNetPretrainer(\n",
    "    cat_idxs=cat_idxs,\n",
    "    optimizer_fn=torch.optim.Adam,\n",
    "    optimizer_params=dict(lr=2e-2),\n",
    "    mask_type='entmax' # \"sparsemax\"\n",
    ")\n",
    "\n",
    "unsupervised_model.fit(\n",
    "    X_train=X_train,\n",
    "    eval_set=[X_test],\n",
    "    pretraining_ratio=0.6,\n",
    "    max_epochs = 200,\n",
    ")"
   ]
  },
  {
   "cell_type": "code",
   "execution_count": 16,
   "id": "a9574472",
   "metadata": {},
   "outputs": [],
   "source": [
    "#\n",
    "# In questo caso ho preferito utilizzare direttamente Optuna (su cui è basato ADSTuner)\n",
    "#\n",
    "\n",
    "# split in due parti la seconda ottimizzo con Optuna\n",
    "\n",
    "# la valutazione la facciamo sull'accuracy\n",
    "\n",
    "def objective(trial):\n",
    "    n_steps = trial.suggest_int(\"n_steps\", 1, 10)\n",
    "    gamma = trial.suggest_float(\"gamma\", 1.0, 2.0)\n",
    "    \n",
    "    params = {\n",
    "        \"cat_idxs\" : cat_idxs,\n",
    "        \"cat_dims\" : cat_dims,\n",
    "        \"n_steps\" : n_steps,\n",
    "        \"gamma\" : gamma,\n",
    "        \"seed\" : 0,\n",
    "        \"verbose\" : 10\n",
    "    }\n",
    "    clf = TabNetClassifier(**params)\n",
    "\n",
    "    clf.fit(\n",
    "        X_train=X_train, y_train=y_train,\n",
    "        eval_set=[(X_train, y_train), (X_test, y_test)],\n",
    "        eval_name=['train', 'valid'],\n",
    "        eval_metric=['auc', 'accuracy'],\n",
    "        from_unsupervised=unsupervised_model,\n",
    "        batch_size=128, \n",
    "        max_epochs = 100\n",
    "    )\n",
    "    \n",
    "    y_pred = clf.predict(X_test)\n",
    "    \n",
    "    return round(accuracy_score(y_test, y_pred), 5)"
   ]
  },
  {
   "cell_type": "code",
   "execution_count": 17,
   "id": "93f77562",
   "metadata": {},
   "outputs": [
    {
     "name": "stderr",
     "output_type": "stream",
     "text": [
      "\u001b[32m[I 2022-10-15 17:00:16,267]\u001b[0m A new study created in memory with name: no-name-2ac1b5f0-1d50-4b8a-bab7-d33506a13f3a\u001b[0m\n"
     ]
    },
    {
     "name": "stdout",
     "output_type": "stream",
     "text": [
      "Device used : cpu\n",
      "Loading weights from unsupervised pretraining\n",
      "epoch 0  | loss: 0.97616 | train_auc: 0.63895 | train_accuracy: 0.60801 | valid_auc: 0.66932 | valid_accuracy: 0.63158 |  0:00:00s\n",
      "epoch 10 | loss: 0.2997  | train_auc: 0.94847 | train_accuracy: 0.86258 | valid_auc: 0.90467 | valid_accuracy: 0.81174 |  0:00:09s\n",
      "epoch 20 | loss: 0.15976 | train_auc: 0.98759 | train_accuracy: 0.9498  | valid_auc: 0.95827 | valid_accuracy: 0.91903 |  0:00:17s\n",
      "epoch 30 | loss: 0.10753 | train_auc: 0.99003 | train_accuracy: 0.96197 | valid_auc: 0.94254 | valid_accuracy: 0.89676 |  0:00:25s\n",
      "epoch 40 | loss: 0.08846 | train_auc: 0.99782 | train_accuracy: 0.98732 | valid_auc: 0.9619  | valid_accuracy: 0.92308 |  0:00:33s\n"
     ]
    },
    {
     "name": "stderr",
     "output_type": "stream",
     "text": [
      "\u001b[32m[I 2022-10-15 17:00:55,270]\u001b[0m Trial 0 finished with value: 0.9413 and parameters: {'n_steps': 8, 'gamma': 1.8725234362839414}. Best is trial 0 with value: 0.9413.\u001b[0m\n"
     ]
    },
    {
     "name": "stdout",
     "output_type": "stream",
     "text": [
      "\n",
      "Early stopping occurred at epoch 46 with best_epoch = 36 and best_valid_accuracy = 0.9413\n",
      "Best weights from best epoch are automatically used!\n",
      "Device used : cpu\n",
      "Loading weights from unsupervised pretraining\n",
      "epoch 0  | loss: 0.96535 | train_auc: 0.5901  | train_accuracy: 0.55122 | valid_auc: 0.57309 | valid_accuracy: 0.54656 |  0:00:00s\n",
      "epoch 10 | loss: 0.34684 | train_auc: 0.88402 | train_accuracy: 0.75507 | valid_auc: 0.83511 | valid_accuracy: 0.7166  |  0:00:06s\n",
      "epoch 20 | loss: 0.19646 | train_auc: 0.98657 | train_accuracy: 0.94625 | valid_auc: 0.95064 | valid_accuracy: 0.89271 |  0:00:12s\n",
      "epoch 30 | loss: 0.09534 | train_auc: 0.99682 | train_accuracy: 0.98327 | valid_auc: 0.97289 | valid_accuracy: 0.91903 |  0:00:18s\n",
      "epoch 40 | loss: 0.07076 | train_auc: 0.99833 | train_accuracy: 0.9858  | valid_auc: 0.96779 | valid_accuracy: 0.90081 |  0:00:24s\n",
      "\n",
      "Early stopping occurred at epoch 47 with best_epoch = 37 and best_valid_accuracy = 0.93927\n",
      "Best weights from best epoch are automatically used!\n"
     ]
    },
    {
     "name": "stderr",
     "output_type": "stream",
     "text": [
      "\u001b[32m[I 2022-10-15 17:01:25,246]\u001b[0m Trial 1 finished with value: 0.93927 and parameters: {'n_steps': 5, 'gamma': 1.7518298382116477}. Best is trial 0 with value: 0.9413.\u001b[0m\n"
     ]
    },
    {
     "name": "stdout",
     "output_type": "stream",
     "text": [
      "Device used : cpu\n",
      "Loading weights from unsupervised pretraining\n",
      "epoch 0  | loss: 0.99395 | train_auc: 0.66257 | train_accuracy: 0.53347 | valid_auc: 0.67167 | valid_accuracy: 0.51215 |  0:00:00s\n",
      "epoch 10 | loss: 0.2603  | train_auc: 0.96591 | train_accuracy: 0.83976 | valid_auc: 0.91814 | valid_accuracy: 0.81781 |  0:00:09s\n",
      "epoch 20 | loss: 0.19964 | train_auc: 0.9897  | train_accuracy: 0.95132 | valid_auc: 0.95932 | valid_accuracy: 0.89474 |  0:00:17s\n",
      "epoch 30 | loss: 0.13474 | train_auc: 0.99733 | train_accuracy: 0.97515 | valid_auc: 0.94533 | valid_accuracy: 0.88866 |  0:00:25s\n",
      "\n",
      "Early stopping occurred at epoch 30 with best_epoch = 20 and best_valid_accuracy = 0.89474\n",
      "Best weights from best epoch are automatically used!\n"
     ]
    },
    {
     "name": "stderr",
     "output_type": "stream",
     "text": [
      "\u001b[32m[I 2022-10-15 17:01:51,346]\u001b[0m Trial 2 finished with value: 0.89474 and parameters: {'n_steps': 2, 'gamma': 1.6960011822816585}. Best is trial 0 with value: 0.9413.\u001b[0m\n"
     ]
    },
    {
     "name": "stdout",
     "output_type": "stream",
     "text": [
      "Device used : cpu\n",
      "Loading weights from unsupervised pretraining\n",
      "epoch 0  | loss: 0.9798  | train_auc: 0.66214 | train_accuracy: 0.62931 | valid_auc: 0.65834 | valid_accuracy: 0.62551 |  0:00:00s\n",
      "epoch 10 | loss: 0.30207 | train_auc: 0.94105 | train_accuracy: 0.83671 | valid_auc: 0.92378 | valid_accuracy: 0.82389 |  0:00:09s\n",
      "epoch 20 | loss: 0.20397 | train_auc: 0.98417 | train_accuracy: 0.91988 | valid_auc: 0.95367 | valid_accuracy: 0.88866 |  0:00:17s\n",
      "epoch 30 | loss: 0.13857 | train_auc: 0.98978 | train_accuracy: 0.95385 | valid_auc: 0.95562 | valid_accuracy: 0.90081 |  0:00:25s\n",
      "\n",
      "Early stopping occurred at epoch 34 with best_epoch = 24 and best_valid_accuracy = 0.91498\n",
      "Best weights from best epoch are automatically used!\n"
     ]
    },
    {
     "name": "stderr",
     "output_type": "stream",
     "text": [
      "\u001b[32m[I 2022-10-15 17:02:20,714]\u001b[0m Trial 3 finished with value: 0.91498 and parameters: {'n_steps': 3, 'gamma': 1.866590033178265}. Best is trial 0 with value: 0.9413.\u001b[0m\n"
     ]
    },
    {
     "name": "stdout",
     "output_type": "stream",
     "text": [
      "Device used : cpu\n",
      "Loading weights from unsupervised pretraining\n",
      "epoch 0  | loss: 0.98672 | train_auc: 0.66453 | train_accuracy: 0.62779 | valid_auc: 0.70363 | valid_accuracy: 0.65789 |  0:00:00s\n",
      "epoch 10 | loss: 0.28983 | train_auc: 0.9468  | train_accuracy: 0.85345 | valid_auc: 0.88214 | valid_accuracy: 0.81174 |  0:00:08s\n",
      "epoch 20 | loss: 0.18651 | train_auc: 0.98219 | train_accuracy: 0.92698 | valid_auc: 0.93214 | valid_accuracy: 0.87247 |  0:00:17s\n",
      "epoch 30 | loss: 0.11161 | train_auc: 0.99505 | train_accuracy: 0.97363 | valid_auc: 0.95777 | valid_accuracy: 0.90486 |  0:00:25s\n",
      "epoch 40 | loss: 0.07168 | train_auc: 0.99851 | train_accuracy: 0.98783 | valid_auc: 0.96651 | valid_accuracy: 0.93522 |  0:00:33s\n",
      "\n",
      "Early stopping occurred at epoch 48 with best_epoch = 38 and best_valid_accuracy = 0.93522\n",
      "Best weights from best epoch are automatically used!\n"
     ]
    },
    {
     "name": "stderr",
     "output_type": "stream",
     "text": [
      "\u001b[32m[I 2022-10-15 17:03:01,275]\u001b[0m Trial 4 finished with value: 0.93522 and parameters: {'n_steps': 3, 'gamma': 1.759397797081231}. Best is trial 0 with value: 0.9413.\u001b[0m\n"
     ]
    },
    {
     "name": "stdout",
     "output_type": "stream",
     "text": [
      "Device used : cpu\n",
      "Loading weights from unsupervised pretraining\n",
      "epoch 0  | loss: 0.97986 | train_auc: 0.68851 | train_accuracy: 0.63387 | valid_auc: 0.71245 | valid_accuracy: 0.65587 |  0:00:00s\n",
      "epoch 10 | loss: 0.30374 | train_auc: 0.94394 | train_accuracy: 0.82049 | valid_auc: 0.90838 | valid_accuracy: 0.78947 |  0:00:06s\n",
      "epoch 20 | loss: 0.15546 | train_auc: 0.99297 | train_accuracy: 0.964   | valid_auc: 0.95888 | valid_accuracy: 0.89676 |  0:00:12s\n",
      "epoch 30 | loss: 0.10235 | train_auc: 0.99232 | train_accuracy: 0.97059 | valid_auc: 0.94851 | valid_accuracy: 0.91093 |  0:00:18s\n"
     ]
    },
    {
     "name": "stderr",
     "output_type": "stream",
     "text": [
      "\u001b[32m[I 2022-10-15 17:03:23,496]\u001b[0m Trial 5 finished with value: 0.92713 and parameters: {'n_steps': 3, 'gamma': 1.4980657059687785}. Best is trial 0 with value: 0.9413.\u001b[0m\n"
     ]
    },
    {
     "name": "stdout",
     "output_type": "stream",
     "text": [
      "\n",
      "Early stopping occurred at epoch 35 with best_epoch = 25 and best_valid_accuracy = 0.92713\n",
      "Best weights from best epoch are automatically used!\n",
      "Device used : cpu\n",
      "Loading weights from unsupervised pretraining\n",
      "epoch 0  | loss: 0.97052 | train_auc: 0.65768 | train_accuracy: 0.58874 | valid_auc: 0.68426 | valid_accuracy: 0.6336  |  0:00:00s\n",
      "epoch 10 | loss: 0.30983 | train_auc: 0.92148 | train_accuracy: 0.83316 | valid_auc: 0.85771 | valid_accuracy: 0.76113 |  0:00:06s\n",
      "epoch 20 | loss: 0.16662 | train_auc: 0.99125 | train_accuracy: 0.94422 | valid_auc: 0.94162 | valid_accuracy: 0.88057 |  0:00:12s\n",
      "epoch 30 | loss: 0.12263 | train_auc: 0.99781 | train_accuracy: 0.98377 | valid_auc: 0.96887 | valid_accuracy: 0.90486 |  0:00:18s\n",
      "epoch 40 | loss: 0.09884 | train_auc: 0.99875 | train_accuracy: 0.98631 | valid_auc: 0.96836 | valid_accuracy: 0.91296 |  0:00:24s\n"
     ]
    },
    {
     "name": "stderr",
     "output_type": "stream",
     "text": [
      "\u001b[32m[I 2022-10-15 17:03:52,674]\u001b[0m Trial 6 finished with value: 0.93927 and parameters: {'n_steps': 8, 'gamma': 1.4499484875432538}. Best is trial 0 with value: 0.9413.\u001b[0m\n"
     ]
    },
    {
     "name": "stdout",
     "output_type": "stream",
     "text": [
      "\n",
      "Early stopping occurred at epoch 47 with best_epoch = 37 and best_valid_accuracy = 0.93927\n",
      "Best weights from best epoch are automatically used!\n",
      "Device used : cpu\n",
      "Loading weights from unsupervised pretraining\n",
      "epoch 0  | loss: 0.98369 | train_auc: 0.62368 | train_accuracy: 0.57404 | valid_auc: 0.63232 | valid_accuracy: 0.59919 |  0:00:00s\n",
      "epoch 10 | loss: 0.35987 | train_auc: 0.91856 | train_accuracy: 0.83012 | valid_auc: 0.89187 | valid_accuracy: 0.79757 |  0:00:06s\n",
      "epoch 20 | loss: 0.2535  | train_auc: 0.97559 | train_accuracy: 0.93712 | valid_auc: 0.91121 | valid_accuracy: 0.85628 |  0:00:12s\n",
      "epoch 30 | loss: 0.13659 | train_auc: 0.99282 | train_accuracy: 0.97008 | valid_auc: 0.95373 | valid_accuracy: 0.89474 |  0:00:18s\n",
      "epoch 40 | loss: 0.09411 | train_auc: 0.9982  | train_accuracy: 0.9858  | valid_auc: 0.95097 | valid_accuracy: 0.92308 |  0:00:24s\n",
      "epoch 50 | loss: 0.07934 | train_auc: 0.99894 | train_accuracy: 0.99138 | valid_auc: 0.94794 | valid_accuracy: 0.90283 |  0:00:30s\n"
     ]
    },
    {
     "name": "stderr",
     "output_type": "stream",
     "text": [
      "\u001b[32m[I 2022-10-15 17:04:26,714]\u001b[0m Trial 7 finished with value: 0.9251 and parameters: {'n_steps': 2, 'gamma': 1.710790308910979}. Best is trial 0 with value: 0.9413.\u001b[0m\n"
     ]
    },
    {
     "name": "stdout",
     "output_type": "stream",
     "text": [
      "\n",
      "Early stopping occurred at epoch 55 with best_epoch = 45 and best_valid_accuracy = 0.9251\n",
      "Best weights from best epoch are automatically used!\n",
      "Device used : cpu\n",
      "Loading weights from unsupervised pretraining\n",
      "epoch 0  | loss: 0.97811 | train_auc: 0.67063 | train_accuracy: 0.59635 | valid_auc: 0.69822 | valid_accuracy: 0.62753 |  0:00:00s\n",
      "epoch 10 | loss: 0.28956 | train_auc: 0.91848 | train_accuracy: 0.80375 | valid_auc: 0.87213 | valid_accuracy: 0.76721 |  0:00:06s\n",
      "epoch 20 | loss: 0.17903 | train_auc: 0.98782 | train_accuracy: 0.9498  | valid_auc: 0.95476 | valid_accuracy: 0.88057 |  0:00:12s\n",
      "epoch 30 | loss: 0.08411 | train_auc: 0.99923 | train_accuracy: 0.98732 | valid_auc: 0.97178 | valid_accuracy: 0.9251  |  0:00:18s\n",
      "epoch 40 | loss: 0.09581 | train_auc: 0.99977 | train_accuracy: 0.99391 | valid_auc: 0.96554 | valid_accuracy: 0.9251  |  0:00:24s\n",
      "\n",
      "Early stopping occurred at epoch 40 with best_epoch = 30 and best_valid_accuracy = 0.9251\n",
      "Best weights from best epoch are automatically used!\n"
     ]
    },
    {
     "name": "stderr",
     "output_type": "stream",
     "text": [
      "\u001b[32m[I 2022-10-15 17:04:51,850]\u001b[0m Trial 8 finished with value: 0.9251 and parameters: {'n_steps': 6, 'gamma': 1.4460082516316772}. Best is trial 0 with value: 0.9413.\u001b[0m\n"
     ]
    },
    {
     "name": "stdout",
     "output_type": "stream",
     "text": [
      "Device used : cpu\n",
      "Loading weights from unsupervised pretraining\n",
      "epoch 0  | loss: 0.98345 | train_auc: 0.67281 | train_accuracy: 0.60548 | valid_auc: 0.68209 | valid_accuracy: 0.62955 |  0:00:00s\n",
      "epoch 10 | loss: 0.25671 | train_auc: 0.93378 | train_accuracy: 0.8286  | valid_auc: 0.92055 | valid_accuracy: 0.81984 |  0:00:06s\n",
      "epoch 20 | loss: 0.13677 | train_auc: 0.98926 | train_accuracy: 0.9498  | valid_auc: 0.96247 | valid_accuracy: 0.91296 |  0:00:12s\n",
      "epoch 30 | loss: 0.09316 | train_auc: 0.99735 | train_accuracy: 0.97769 | valid_auc: 0.96686 | valid_accuracy: 0.92915 |  0:00:18s\n",
      "epoch 40 | loss: 0.06155 | train_auc: 0.99851 | train_accuracy: 0.98529 | valid_auc: 0.97032 | valid_accuracy: 0.93522 |  0:00:24s\n",
      "\n",
      "Early stopping occurred at epoch 49 with best_epoch = 39 and best_valid_accuracy = 0.94332\n",
      "Best weights from best epoch are automatically used!\n"
     ]
    },
    {
     "name": "stderr",
     "output_type": "stream",
     "text": [
      "\u001b[32m[I 2022-10-15 17:05:22,414]\u001b[0m Trial 9 finished with value: 0.94332 and parameters: {'n_steps': 1, 'gamma': 1.0635116130558702}. Best is trial 9 with value: 0.94332.\u001b[0m\n"
     ]
    },
    {
     "name": "stdout",
     "output_type": "stream",
     "text": [
      "Device used : cpu\n",
      "Loading weights from unsupervised pretraining\n",
      "epoch 0  | loss: 0.97524 | train_auc: 0.66669 | train_accuracy: 0.61663 | valid_auc: 0.67269 | valid_accuracy: 0.62146 |  0:00:00s\n",
      "epoch 10 | loss: 0.28725 | train_auc: 0.93393 | train_accuracy: 0.83621 | valid_auc: 0.89717 | valid_accuracy: 0.79555 |  0:00:06s\n",
      "epoch 20 | loss: 0.17918 | train_auc: 0.99424 | train_accuracy: 0.95842 | valid_auc: 0.96019 | valid_accuracy: 0.89676 |  0:00:12s\n",
      "epoch 30 | loss: 0.10955 | train_auc: 0.99505 | train_accuracy: 0.97059 | valid_auc: 0.95148 | valid_accuracy: 0.89474 |  0:00:18s\n"
     ]
    },
    {
     "name": "stderr",
     "output_type": "stream",
     "text": [
      "\u001b[32m[I 2022-10-15 17:05:43,242]\u001b[0m Trial 10 finished with value: 0.91903 and parameters: {'n_steps': 10, 'gamma': 1.0427327149355554}. Best is trial 9 with value: 0.94332.\u001b[0m\n"
     ]
    },
    {
     "name": "stdout",
     "output_type": "stream",
     "text": [
      "\n",
      "Early stopping occurred at epoch 33 with best_epoch = 23 and best_valid_accuracy = 0.91903\n",
      "Best weights from best epoch are automatically used!\n",
      "Device used : cpu\n",
      "Loading weights from unsupervised pretraining\n",
      "epoch 0  | loss: 0.98713 | train_auc: 0.663   | train_accuracy: 0.59178 | valid_auc: 0.67991 | valid_accuracy: 0.57085 |  0:00:00s\n",
      "epoch 10 | loss: 0.25616 | train_auc: 0.94499 | train_accuracy: 0.83012 | valid_auc: 0.91871 | valid_accuracy: 0.81579 |  0:00:06s\n",
      "epoch 20 | loss: 0.14632 | train_auc: 0.9953  | train_accuracy: 0.96755 | valid_auc: 0.96566 | valid_accuracy: 0.90688 |  0:00:12s\n",
      "epoch 30 | loss: 0.09205 | train_auc: 0.99647 | train_accuracy: 0.98276 | valid_auc: 0.97243 | valid_accuracy: 0.90486 |  0:00:18s\n",
      "\n",
      "Early stopping occurred at epoch 33 with best_epoch = 23 and best_valid_accuracy = 0.93117\n",
      "Best weights from best epoch are automatically used!\n"
     ]
    },
    {
     "name": "stderr",
     "output_type": "stream",
     "text": [
      "\u001b[32m[I 2022-10-15 17:06:04,048]\u001b[0m Trial 11 finished with value: 0.93117 and parameters: {'n_steps': 8, 'gamma': 1.0457472162748231}. Best is trial 9 with value: 0.94332.\u001b[0m\n"
     ]
    },
    {
     "name": "stdout",
     "output_type": "stream",
     "text": [
      "Device used : cpu\n",
      "Loading weights from unsupervised pretraining\n",
      "epoch 0  | loss: 0.98706 | train_auc: 0.66115 | train_accuracy: 0.61359 | valid_auc: 0.66265 | valid_accuracy: 0.61741 |  0:00:00s\n",
      "epoch 10 | loss: 0.30091 | train_auc: 0.94418 | train_accuracy: 0.83469 | valid_auc: 0.89171 | valid_accuracy: 0.77935 |  0:00:06s\n",
      "epoch 20 | loss: 0.16826 | train_auc: 0.9888  | train_accuracy: 0.94726 | valid_auc: 0.93824 | valid_accuracy: 0.86437 |  0:00:12s\n",
      "\n",
      "Early stopping occurred at epoch 28 with best_epoch = 18 and best_valid_accuracy = 0.90891\n",
      "Best weights from best epoch are automatically used!\n"
     ]
    },
    {
     "name": "stderr",
     "output_type": "stream",
     "text": [
      "\u001b[32m[I 2022-10-15 17:06:21,847]\u001b[0m Trial 12 finished with value: 0.90891 and parameters: {'n_steps': 6, 'gamma': 1.2393339318015644}. Best is trial 9 with value: 0.94332.\u001b[0m\n"
     ]
    },
    {
     "name": "stdout",
     "output_type": "stream",
     "text": [
      "Device used : cpu\n",
      "Loading weights from unsupervised pretraining\n",
      "epoch 0  | loss: 0.97843 | train_auc: 0.64395 | train_accuracy: 0.59128 | valid_auc: 0.64545 | valid_accuracy: 0.58097 |  0:00:00s\n",
      "epoch 10 | loss: 0.41241 | train_auc: 0.92024 | train_accuracy: 0.84483 | valid_auc: 0.87586 | valid_accuracy: 0.78947 |  0:00:06s\n",
      "epoch 20 | loss: 0.22772 | train_auc: 0.98314 | train_accuracy: 0.94219 | valid_auc: 0.94003 | valid_accuracy: 0.88057 |  0:00:12s\n",
      "epoch 30 | loss: 0.12875 | train_auc: 0.99392 | train_accuracy: 0.96045 | valid_auc: 0.94469 | valid_accuracy: 0.87247 |  0:00:18s\n",
      "\n",
      "Early stopping occurred at epoch 30 with best_epoch = 20 and best_valid_accuracy = 0.88057\n",
      "Best weights from best epoch are automatically used!\n"
     ]
    },
    {
     "name": "stderr",
     "output_type": "stream",
     "text": [
      "\u001b[32m[I 2022-10-15 17:06:40,940]\u001b[0m Trial 13 finished with value: 0.88057 and parameters: {'n_steps': 8, 'gamma': 1.9772624629065982}. Best is trial 9 with value: 0.94332.\u001b[0m\n"
     ]
    },
    {
     "name": "stdout",
     "output_type": "stream",
     "text": [
      "Device used : cpu\n",
      "Loading weights from unsupervised pretraining\n",
      "epoch 0  | loss: 0.98725 | train_auc: 0.71222 | train_accuracy: 0.65264 | valid_auc: 0.7258  | valid_accuracy: 0.66599 |  0:00:00s\n",
      "epoch 10 | loss: 0.27587 | train_auc: 0.9443  | train_accuracy: 0.83012 | valid_auc: 0.89262 | valid_accuracy: 0.78947 |  0:00:06s\n",
      "epoch 20 | loss: 0.17354 | train_auc: 0.98936 | train_accuracy: 0.93002 | valid_auc: 0.94904 | valid_accuracy: 0.88057 |  0:00:12s\n",
      "epoch 30 | loss: 0.11191 | train_auc: 0.99665 | train_accuracy: 0.98377 | valid_auc: 0.95416 | valid_accuracy: 0.93117 |  0:00:18s\n",
      "epoch 40 | loss: 0.05647 | train_auc: 0.99762 | train_accuracy: 0.98225 | valid_auc: 0.95991 | valid_accuracy: 0.92308 |  0:00:24s\n"
     ]
    },
    {
     "name": "stderr",
     "output_type": "stream",
     "text": [
      "\u001b[32m[I 2022-10-15 17:07:10,725]\u001b[0m Trial 14 finished with value: 0.93927 and parameters: {'n_steps': 1, 'gamma': 1.2670112537941498}. Best is trial 9 with value: 0.94332.\u001b[0m\n"
     ]
    },
    {
     "name": "stdout",
     "output_type": "stream",
     "text": [
      "\n",
      "Early stopping occurred at epoch 48 with best_epoch = 38 and best_valid_accuracy = 0.93927\n",
      "Best weights from best epoch are automatically used!\n",
      "Device used : cpu\n",
      "Loading weights from unsupervised pretraining\n",
      "epoch 0  | loss: 0.98487 | train_auc: 0.66423 | train_accuracy: 0.61207 | valid_auc: 0.67548 | valid_accuracy: 0.62955 |  0:00:00s\n",
      "epoch 10 | loss: 0.27103 | train_auc: 0.94792 | train_accuracy: 0.87627 | valid_auc: 0.91463 | valid_accuracy: 0.84413 |  0:00:06s\n",
      "epoch 20 | loss: 0.18561 | train_auc: 0.98346 | train_accuracy: 0.93763 | valid_auc: 0.94593 | valid_accuracy: 0.88866 |  0:00:12s\n",
      "epoch 30 | loss: 0.13296 | train_auc: 0.99568 | train_accuracy: 0.97312 | valid_auc: 0.96261 | valid_accuracy: 0.88462 |  0:00:18s\n"
     ]
    },
    {
     "name": "stderr",
     "output_type": "stream",
     "text": [
      "\u001b[32m[I 2022-10-15 17:07:32,659]\u001b[0m Trial 15 finished with value: 0.91498 and parameters: {'n_steps': 10, 'gamma': 1.2608043255932604}. Best is trial 9 with value: 0.94332.\u001b[0m\n"
     ]
    },
    {
     "name": "stdout",
     "output_type": "stream",
     "text": [
      "\n",
      "Early stopping occurred at epoch 35 with best_epoch = 25 and best_valid_accuracy = 0.91498\n",
      "Best weights from best epoch are automatically used!\n",
      "Device used : cpu\n",
      "Loading weights from unsupervised pretraining\n",
      "epoch 0  | loss: 0.98708 | train_auc: 0.63255 | train_accuracy: 0.6141  | valid_auc: 0.63546 | valid_accuracy: 0.62348 |  0:00:00s\n",
      "epoch 10 | loss: 0.33199 | train_auc: 0.93142 | train_accuracy: 0.81034 | valid_auc: 0.87356 | valid_accuracy: 0.76316 |  0:00:06s\n",
      "epoch 20 | loss: 0.22411 | train_auc: 0.97485 | train_accuracy: 0.92191 | valid_auc: 0.90923 | valid_accuracy: 0.84008 |  0:00:12s\n",
      "epoch 30 | loss: 0.14224 | train_auc: 0.9922  | train_accuracy: 0.96045 | valid_auc: 0.93973 | valid_accuracy: 0.88462 |  0:00:18s\n",
      "epoch 40 | loss: 0.08942 | train_auc: 0.99737 | train_accuracy: 0.98225 | valid_auc: 0.95265 | valid_accuracy: 0.90688 |  0:00:24s\n"
     ]
    },
    {
     "name": "stderr",
     "output_type": "stream",
     "text": [
      "\u001b[32m[I 2022-10-15 17:07:58,336]\u001b[0m Trial 16 finished with value: 0.92308 and parameters: {'n_steps': 5, 'gamma': 1.6004522243450916}. Best is trial 9 with value: 0.94332.\u001b[0m\n"
     ]
    },
    {
     "name": "stdout",
     "output_type": "stream",
     "text": [
      "\n",
      "Early stopping occurred at epoch 41 with best_epoch = 31 and best_valid_accuracy = 0.92308\n",
      "Best weights from best epoch are automatically used!\n",
      "Device used : cpu\n",
      "Loading weights from unsupervised pretraining\n",
      "epoch 0  | loss: 0.97931 | train_auc: 0.64822 | train_accuracy: 0.59686 | valid_auc: 0.64053 | valid_accuracy: 0.5668  |  0:00:00s\n",
      "epoch 10 | loss: 0.36312 | train_auc: 0.92731 | train_accuracy: 0.84381 | valid_auc: 0.87802 | valid_accuracy: 0.80567 |  0:00:06s\n",
      "epoch 20 | loss: 0.18759 | train_auc: 0.98544 | train_accuracy: 0.93763 | valid_auc: 0.94846 | valid_accuracy: 0.87652 |  0:00:12s\n",
      "epoch 30 | loss: 0.1133  | train_auc: 0.99687 | train_accuracy: 0.98124 | valid_auc: 0.95735 | valid_accuracy: 0.91296 |  0:00:18s\n",
      "epoch 40 | loss: 0.09509 | train_auc: 0.99849 | train_accuracy: 0.98327 | valid_auc: 0.97107 | valid_accuracy: 0.9332  |  0:00:24s\n",
      "epoch 50 | loss: 0.08628 | train_auc: 0.99885 | train_accuracy: 0.98377 | valid_auc: 0.95583 | valid_accuracy: 0.89879 |  0:00:30s\n",
      "epoch 60 | loss: 0.05018 | train_auc: 0.99958 | train_accuracy: 0.99189 | valid_auc: 0.97217 | valid_accuracy: 0.9251  |  0:00:36s\n",
      "epoch 70 | loss: 0.06451 | train_auc: 0.99807 | train_accuracy: 0.98327 | valid_auc: 0.95595 | valid_accuracy: 0.90891 |  0:00:42s\n"
     ]
    },
    {
     "name": "stderr",
     "output_type": "stream",
     "text": [
      "\u001b[32m[I 2022-10-15 17:08:42,404]\u001b[0m Trial 17 finished with value: 0.95142 and parameters: {'n_steps': 7, 'gamma': 1.9776686139665465}. Best is trial 17 with value: 0.95142.\u001b[0m\n"
     ]
    },
    {
     "name": "stdout",
     "output_type": "stream",
     "text": [
      "\n",
      "Early stopping occurred at epoch 72 with best_epoch = 62 and best_valid_accuracy = 0.95142\n",
      "Best weights from best epoch are automatically used!\n",
      "Device used : cpu\n",
      "Loading weights from unsupervised pretraining\n",
      "epoch 0  | loss: 0.98184 | train_auc: 0.65338 | train_accuracy: 0.56795 | valid_auc: 0.65879 | valid_accuracy: 0.57692 |  0:00:00s\n",
      "epoch 10 | loss: 0.28151 | train_auc: 0.90859 | train_accuracy: 0.72566 | valid_auc: 0.85487 | valid_accuracy: 0.71457 |  0:00:06s\n",
      "epoch 20 | loss: 0.16547 | train_auc: 0.98366 | train_accuracy: 0.94422 | valid_auc: 0.92716 | valid_accuracy: 0.87247 |  0:00:12s\n",
      "epoch 30 | loss: 0.11243 | train_auc: 0.99529 | train_accuracy: 0.97515 | valid_auc: 0.95489 | valid_accuracy: 0.89879 |  0:00:18s\n",
      "epoch 40 | loss: 0.08304 | train_auc: 0.9985  | train_accuracy: 0.98834 | valid_auc: 0.95996 | valid_accuracy: 0.90891 |  0:00:24s\n"
     ]
    },
    {
     "name": "stderr",
     "output_type": "stream",
     "text": [
      "\u001b[32m[I 2022-10-15 17:09:09,860]\u001b[0m Trial 18 finished with value: 0.93522 and parameters: {'n_steps': 7, 'gamma': 1.16292996388161}. Best is trial 17 with value: 0.95142.\u001b[0m\n"
     ]
    },
    {
     "name": "stdout",
     "output_type": "stream",
     "text": [
      "\n",
      "Early stopping occurred at epoch 44 with best_epoch = 34 and best_valid_accuracy = 0.93522\n",
      "Best weights from best epoch are automatically used!\n",
      "Device used : cpu\n",
      "Loading weights from unsupervised pretraining\n",
      "epoch 0  | loss: 0.96652 | train_auc: 0.62757 | train_accuracy: 0.59939 | valid_auc: 0.64351 | valid_accuracy: 0.62146 |  0:00:00s\n",
      "epoch 10 | loss: 0.2762  | train_auc: 0.94689 | train_accuracy: 0.83722 | valid_auc: 0.86839 | valid_accuracy: 0.76316 |  0:00:06s\n",
      "epoch 20 | loss: 0.13599 | train_auc: 0.99057 | train_accuracy: 0.96501 | valid_auc: 0.93397 | valid_accuracy: 0.87652 |  0:00:12s\n",
      "epoch 30 | loss: 0.08562 | train_auc: 0.99752 | train_accuracy: 0.98174 | valid_auc: 0.95809 | valid_accuracy: 0.89474 |  0:00:18s\n",
      "epoch 40 | loss: 0.0953  | train_auc: 0.99868 | train_accuracy: 0.98631 | valid_auc: 0.95365 | valid_accuracy: 0.90688 |  0:00:24s\n",
      "epoch 50 | loss: 0.05699 | train_auc: 0.99979 | train_accuracy: 0.99239 | valid_auc: 0.9664  | valid_accuracy: 0.9251  |  0:00:30s\n",
      "epoch 60 | loss: 0.05316 | train_auc: 0.99996 | train_accuracy: 0.99493 | valid_auc: 0.95736 | valid_accuracy: 0.89676 |  0:00:37s\n"
     ]
    },
    {
     "name": "stderr",
     "output_type": "stream",
     "text": [
      "\u001b[32m[I 2022-10-15 17:09:47,943]\u001b[0m Trial 19 finished with value: 0.92915 and parameters: {'n_steps': 4, 'gamma': 1.3730657006983227}. Best is trial 17 with value: 0.95142.\u001b[0m\n"
     ]
    },
    {
     "name": "stdout",
     "output_type": "stream",
     "text": [
      "\n",
      "Early stopping occurred at epoch 61 with best_epoch = 51 and best_valid_accuracy = 0.92915\n",
      "Best weights from best epoch are automatically used!\n"
     ]
    }
   ],
   "source": [
    "#\n",
    "# create an launch the study\n",
    "#\n",
    "study = optuna.create_study(direction=\"maximize\")\n",
    "\n",
    "study.optimize(objective, n_trials=20)"
   ]
  },
  {
   "cell_type": "code",
   "execution_count": 18,
   "id": "cb77a556",
   "metadata": {},
   "outputs": [
    {
     "data": {
      "text/plain": [
       "{'n_steps': 7, 'gamma': 1.9776686139665465}"
      ]
     },
     "execution_count": 18,
     "metadata": {},
     "output_type": "execute_result"
    }
   ],
   "source": [
    "study.best_params"
   ]
  },
  {
   "cell_type": "code",
   "execution_count": 19,
   "id": "11e31b40",
   "metadata": {},
   "outputs": [
    {
     "name": "stdout",
     "output_type": "stream",
     "text": [
      "Device used : cpu\n",
      "Loading weights from unsupervised pretraining\n",
      "epoch 0  | loss: 0.97931 | train_auc: 0.64822 | train_accuracy: 0.59686 | valid_auc: 0.64053 | valid_accuracy: 0.5668  |  0:00:00s\n",
      "epoch 5  | loss: 0.52538 | train_auc: 0.76492 | train_accuracy: 0.62728 | valid_auc: 0.75119 | valid_accuracy: 0.61741 |  0:00:04s\n",
      "epoch 10 | loss: 0.36312 | train_auc: 0.92731 | train_accuracy: 0.84381 | valid_auc: 0.87802 | valid_accuracy: 0.80567 |  0:00:09s\n",
      "epoch 15 | loss: 0.27696 | train_auc: 0.96942 | train_accuracy: 0.90822 | valid_auc: 0.90728 | valid_accuracy: 0.80364 |  0:00:13s\n",
      "epoch 20 | loss: 0.18759 | train_auc: 0.98544 | train_accuracy: 0.93763 | valid_auc: 0.94846 | valid_accuracy: 0.87652 |  0:00:17s\n",
      "epoch 25 | loss: 0.17945 | train_auc: 0.98938 | train_accuracy: 0.95385 | valid_auc: 0.94393 | valid_accuracy: 0.88866 |  0:00:21s\n",
      "epoch 30 | loss: 0.1133  | train_auc: 0.99687 | train_accuracy: 0.98124 | valid_auc: 0.95735 | valid_accuracy: 0.91296 |  0:00:25s\n",
      "epoch 35 | loss: 0.09636 | train_auc: 0.99748 | train_accuracy: 0.98428 | valid_auc: 0.9548  | valid_accuracy: 0.92713 |  0:00:29s\n",
      "epoch 40 | loss: 0.09509 | train_auc: 0.99849 | train_accuracy: 0.98327 | valid_auc: 0.97107 | valid_accuracy: 0.9332  |  0:00:33s\n",
      "epoch 45 | loss: 0.10175 | train_auc: 0.99781 | train_accuracy: 0.98682 | valid_auc: 0.96047 | valid_accuracy: 0.89676 |  0:00:37s\n",
      "Stop training because you reached max_epochs = 50 with best_epoch = 47 and best_valid_accuracy = 0.93522\n",
      "Best weights from best epoch are automatically used!\n"
     ]
    }
   ],
   "source": [
    "# train with best params: {'n_steps': 6, 'gamma': 1.823432125206781}\n",
    "# il risultato è riproducibile\n",
    "\n",
    "params = {\n",
    "    \"cat_idxs\" : cat_idxs,\n",
    "    \"cat_dims\" : cat_dims,\n",
    "    \"n_steps\" : study.best_params['n_steps'],\n",
    "    \"gamma\" : study.best_params['gamma'],\n",
    "    \"verbose\" : 5\n",
    "    }\n",
    "clf = TabNetClassifier(**params)\n",
    "\n",
    "clf.fit(\n",
    "    X_train=X_train, y_train=y_train,\n",
    "    eval_set=[(X_train, y_train), (X_test, y_test)],\n",
    "    eval_name=['train', 'valid'],\n",
    "    eval_metric=['auc', 'accuracy'],\n",
    "    from_unsupervised=unsupervised_model,\n",
    "    batch_size=128, \n",
    "    max_epochs = 50\n",
    ")"
   ]
  },
  {
   "cell_type": "code",
   "execution_count": 20,
   "id": "637340b5",
   "metadata": {},
   "outputs": [
    {
     "name": "stdout",
     "output_type": "stream",
     "text": [
      "Test set Classification Report:\n",
      "              precision    recall  f1-score   support\n",
      "\n",
      "           0     0.9785    0.8941    0.9344       255\n",
      "           1     0.8966    0.9791    0.9360       239\n",
      "\n",
      "    accuracy                         0.9352       494\n",
      "   macro avg     0.9375    0.9366    0.9352       494\n",
      "weighted avg     0.9389    0.9352    0.9352       494\n",
      "\n",
      "ROC AUC 0.972\n"
     ]
    }
   ],
   "source": [
    "# migliorata significativamente con la gestione delle categoriche e sopratutto pre-training\n",
    "\n",
    "test_pred = clf.predict(X_test)\n",
    "test_probas = clf.predict_proba(X_test)\n",
    "\n",
    "print('Test set Classification Report:')\n",
    "print(classification_report(y_test, test_pred, digits=4))\n",
    "\n",
    "print(\"ROC AUC\",round(roc_auc_score(y_test, test_probas[:,1]), 3))"
   ]
  },
  {
   "cell_type": "code",
   "execution_count": 21,
   "id": "d1e74559",
   "metadata": {},
   "outputs": [
    {
     "data": {
      "image/png": "[encoded data removed]",
      "text/plain": [
       "<Figure size 432x288 with 2 Axes>"
      ]
     },
     "metadata": {
      "needs_background": "light"
     },
     "output_type": "display_data"
    }
   ],
   "source": [
    "def plot_cm(model, x_test, y_test):\n",
    "    y_pred_labels = model.predict(x_test)\n",
    "    cm = confusion_matrix(y_test, y_pred_labels)\n",
    "    disp = ConfusionMatrixDisplay(confusion_matrix=cm)\n",
    "    disp.plot();\n",
    "    \n",
    "plot_cm(clf, X_test, y_test)"
   ]
  },
  {
   "cell_type": "code",
   "execution_count": 22,
   "id": "53ddd733",
   "metadata": {},
   "outputs": [
    {
     "data": {
      "image/png": "[encoded data removed]",
      "text/plain": [
       "<Figure size 864x648 with 1 Axes>"
      ]
     },
     "metadata": {
      "needs_background": "light"
     },
     "output_type": "display_data"
    }
   ],
   "source": [
    "plt.figure(figsize=(12,9))\n",
    "plt.bar(x=features, height=clf.feature_importances_)\n",
    "plt.xticks(rotation=90)\n",
    "plt.grid(True)\n",
    "plt.show();"
   ]
  },
  {
   "cell_type": "code",
   "execution_count": 23,
   "id": "d7569a17",
   "metadata": {},
   "outputs": [
    {
     "name": "stdout",
     "output_type": "stream",
     "text": [
      "Successfully saved model at ./tabnet_model/tabnet_model.zip\n"
     ]
    }
   ],
   "source": [
    "saving_path_name = \"./tabnet_model/tabnet_model\"\n",
    "saved_filepath = clf.save_model(saving_path_name)"
   ]
  },
  {
   "cell_type": "code",
   "execution_count": 37,
   "id": "51179df7",
   "metadata": {},
   "outputs": [],
   "source": [
    "ads_model = GenericModel(estimator=clf,\n",
    "                artifact_dir=\"./artifact_dir\"\n",
    "            )"
   ]
  },
  {
   "cell_type": "code",
   "execution_count": 44,
   "id": "35e76597",
   "metadata": {},
   "outputs": [],
   "source": [
    "# here we should put the custom conda env\n",
    "ads_model.prepare(inference_conda_env=\"pytorch110_p37_cpu_v1\", force_overwrite=True)"
   ]
  },
  {
   "cell_type": "code",
   "execution_count": null,
   "id": "73a67a3c",
   "metadata": {},
   "outputs": [],
   "source": []
  }
 ],
 "metadata": {
  "kernelspec": {
   "display_name": "Python [conda env:mypytorch110_p37_cpu_v1_0]",
   "language": "python",
   "name": "conda-env-mypytorch110_p37_cpu_v1_0-py"
  },
  "language_info": {
   "codemirror_mode": {
    "name": "ipython",
    "version": 3
   },
   "file_extension": ".py",
   "mimetype": "text/x-python",
   "name": "python",
   "nbconvert_exporter": "python",
   "pygments_lexer": "ipython3",
   "version": "3.7.12"
  }
 },
 "nbformat": 4,
 "nbformat_minor": 5
}
