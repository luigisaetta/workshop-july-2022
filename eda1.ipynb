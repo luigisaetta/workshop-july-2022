{
 "cells": [
  {
   "cell_type": "markdown",
   "id": "b47f8edd",
   "metadata": {},
   "source": [
    "### Exploratory Data Analysis (EDA)"
   ]
  },
  {
   "cell_type": "code",
   "execution_count": 2,
   "id": "3c90339d",
   "metadata": {},
   "outputs": [],
   "source": [
    "import pandas as pd\n",
    "import numpy as np\n",
    "from datetime import datetime\n",
    "import os\n",
    "import tempfile\n",
    "\n",
    "import ads\n",
    "from ads import set_auth\n",
    "from ads.dataset.factory import DatasetFactory"
   ]
  },
  {
   "cell_type": "code",
   "execution_count": 3,
   "id": "624af376",
   "metadata": {},
   "outputs": [],
   "source": [
    "# data\n",
    "TARGET = 'Attrition'\n",
    "\n",
    "attrition_path = \"/opt/notebooks/ads-examples/oracle_data/orcl_attrition.csv\""
   ]
  },
  {
   "cell_type": "markdown",
   "id": "6a94fb05",
   "metadata": {},
   "source": [
    "### Carico i dati utilizzando un ADS Dataset"
   ]
  },
  {
   "cell_type": "code",
   "execution_count": 4,
   "id": "254a6e8f",
   "metadata": {},
   "outputs": [
    {
     "data": {
      "application/vnd.jupyter.widget-view+json": {
       "model_id": "",
       "version_major": 2,
       "version_minor": 0
      },
      "text/plain": [
       "loop1:   0%|          | 0/4 [00:00<?, ?it/s]"
      ]
     },
     "metadata": {},
     "output_type": "display_data"
    }
   ],
   "source": [
    "ds = DatasetFactory.open(attrition_path, target=TARGET).set_positive_class('Yes')"
   ]
  },
  {
   "cell_type": "markdown",
   "id": "20c4ac18",
   "metadata": {},
   "source": [
    "### ma se voglio posso in ogni momento lavorare su Pandas DataFrame"
   ]
  },
  {
   "cell_type": "code",
   "execution_count": 5,
   "id": "0415f515",
   "metadata": {},
   "outputs": [
    {
     "data": {
      "text/plain": [
       "pandas.core.frame.DataFrame"
      ]
     },
     "execution_count": 5,
     "metadata": {},
     "output_type": "execute_result"
    }
   ],
   "source": [
    "type(ds.to_pandas())"
   ]
  },
  {
   "cell_type": "code",
   "execution_count": 6,
   "id": "0cc93410",
   "metadata": {},
   "outputs": [],
   "source": [
    "df = ds.to_pandas()"
   ]
  },
  {
   "cell_type": "code",
   "execution_count": 7,
   "id": "7ddbcc7f",
   "metadata": {},
   "outputs": [
    {
     "data": {
      "application/vnd.jupyter.widget-view+json": {
       "model_id": "39f6392284464430834d5e5faa8dfb78",
       "version_major": 2,
       "version_minor": 0
      },
      "text/plain": [
       "Accordion(children=(HTML(value='<h3>Type: BinaryClassificationDataset</h3><h3>1,470 Rows, 36 Columns</h3><h4>C…"
      ]
     },
     "metadata": {},
     "output_type": "display_data"
    }
   ],
   "source": [
    "ds.show_in_notebook()"
   ]
  },
  {
   "cell_type": "code",
   "execution_count": 7,
   "id": "af728153",
   "metadata": {},
   "outputs": [
    {
     "data": {
      "text/html": [
       "<div>\n",
       "<style scoped>\n",
       "    .dataframe tbody tr th:only-of-type {\n",
       "        vertical-align: middle;\n",
       "    }\n",
       "\n",
       "    .dataframe tbody tr th {\n",
       "        vertical-align: top;\n",
       "    }\n",
       "\n",
       "    .dataframe thead th {\n",
       "        text-align: right;\n",
       "    }\n",
       "</style>\n",
       "<table border=\"1\" class=\"dataframe\">\n",
       "  <thead>\n",
       "    <tr style=\"text-align: right;\">\n",
       "      <th></th>\n",
       "      <th>Age</th>\n",
       "      <th>Attrition</th>\n",
       "      <th>TravelForWork</th>\n",
       "      <th>SalaryLevel</th>\n",
       "      <th>JobFunction</th>\n",
       "      <th>CommuteLength</th>\n",
       "      <th>EducationalLevel</th>\n",
       "      <th>EducationField</th>\n",
       "      <th>Directs</th>\n",
       "      <th>EmployeeNumber</th>\n",
       "      <th>...</th>\n",
       "      <th>WeeklyWorkedHours</th>\n",
       "      <th>StockOptionLevel</th>\n",
       "      <th>YearsinIndustry</th>\n",
       "      <th>TrainingTimesLastYear</th>\n",
       "      <th>WorkLifeBalance</th>\n",
       "      <th>YearsOnJob</th>\n",
       "      <th>YearsAtCurrentLevel</th>\n",
       "      <th>YearsSinceLastPromotion</th>\n",
       "      <th>YearsWithCurrManager</th>\n",
       "      <th>name</th>\n",
       "    </tr>\n",
       "  </thead>\n",
       "  <tbody>\n",
       "    <tr>\n",
       "      <th>0</th>\n",
       "      <td>42</td>\n",
       "      <td>True</td>\n",
       "      <td>infrequent</td>\n",
       "      <td>5054</td>\n",
       "      <td>Product Management</td>\n",
       "      <td>2</td>\n",
       "      <td>L2</td>\n",
       "      <td>Life Sciences</td>\n",
       "      <td>1</td>\n",
       "      <td>1</td>\n",
       "      <td>...</td>\n",
       "      <td>80</td>\n",
       "      <td>0</td>\n",
       "      <td>8</td>\n",
       "      <td>0</td>\n",
       "      <td>1</td>\n",
       "      <td>6</td>\n",
       "      <td>4</td>\n",
       "      <td>0</td>\n",
       "      <td>5</td>\n",
       "      <td>Tracy Moore</td>\n",
       "    </tr>\n",
       "    <tr>\n",
       "      <th>1</th>\n",
       "      <td>50</td>\n",
       "      <td>False</td>\n",
       "      <td>often</td>\n",
       "      <td>1278</td>\n",
       "      <td>Software Developer</td>\n",
       "      <td>9</td>\n",
       "      <td>L1</td>\n",
       "      <td>Life Sciences</td>\n",
       "      <td>1</td>\n",
       "      <td>2</td>\n",
       "      <td>...</td>\n",
       "      <td>80</td>\n",
       "      <td>1</td>\n",
       "      <td>10</td>\n",
       "      <td>3</td>\n",
       "      <td>3</td>\n",
       "      <td>10</td>\n",
       "      <td>7</td>\n",
       "      <td>1</td>\n",
       "      <td>7</td>\n",
       "      <td>Andrew Hoover</td>\n",
       "    </tr>\n",
       "    <tr>\n",
       "      <th>2</th>\n",
       "      <td>38</td>\n",
       "      <td>True</td>\n",
       "      <td>infrequent</td>\n",
       "      <td>6296</td>\n",
       "      <td>Software Developer</td>\n",
       "      <td>3</td>\n",
       "      <td>L2</td>\n",
       "      <td>Other</td>\n",
       "      <td>1</td>\n",
       "      <td>4</td>\n",
       "      <td>...</td>\n",
       "      <td>80</td>\n",
       "      <td>0</td>\n",
       "      <td>7</td>\n",
       "      <td>3</td>\n",
       "      <td>3</td>\n",
       "      <td>0</td>\n",
       "      <td>0</td>\n",
       "      <td>0</td>\n",
       "      <td>0</td>\n",
       "      <td>Julie Bell</td>\n",
       "    </tr>\n",
       "    <tr>\n",
       "      <th>3</th>\n",
       "      <td>34</td>\n",
       "      <td>False</td>\n",
       "      <td>often</td>\n",
       "      <td>6384</td>\n",
       "      <td>Software Developer</td>\n",
       "      <td>4</td>\n",
       "      <td>L4</td>\n",
       "      <td>Life Sciences</td>\n",
       "      <td>1</td>\n",
       "      <td>5</td>\n",
       "      <td>...</td>\n",
       "      <td>80</td>\n",
       "      <td>0</td>\n",
       "      <td>8</td>\n",
       "      <td>3</td>\n",
       "      <td>3</td>\n",
       "      <td>8</td>\n",
       "      <td>7</td>\n",
       "      <td>3</td>\n",
       "      <td>0</td>\n",
       "      <td>Thomas Adams</td>\n",
       "    </tr>\n",
       "    <tr>\n",
       "      <th>4</th>\n",
       "      <td>28</td>\n",
       "      <td>False</td>\n",
       "      <td>infrequent</td>\n",
       "      <td>2710</td>\n",
       "      <td>Software Developer</td>\n",
       "      <td>3</td>\n",
       "      <td>L1</td>\n",
       "      <td>Medical</td>\n",
       "      <td>1</td>\n",
       "      <td>7</td>\n",
       "      <td>...</td>\n",
       "      <td>80</td>\n",
       "      <td>1</td>\n",
       "      <td>6</td>\n",
       "      <td>3</td>\n",
       "      <td>3</td>\n",
       "      <td>2</td>\n",
       "      <td>2</td>\n",
       "      <td>2</td>\n",
       "      <td>2</td>\n",
       "      <td>Johnathan Burnett</td>\n",
       "    </tr>\n",
       "  </tbody>\n",
       "</table>\n",
       "<p>5 rows × 36 columns</p>\n",
       "</div>"
      ],
      "text/plain": [
       "   Age  Attrition TravelForWork  SalaryLevel         JobFunction  \\\n",
       "0   42       True    infrequent         5054  Product Management   \n",
       "1   50      False         often         1278  Software Developer   \n",
       "2   38       True    infrequent         6296  Software Developer   \n",
       "3   34      False         often         6384  Software Developer   \n",
       "4   28      False    infrequent         2710  Software Developer   \n",
       "\n",
       "   CommuteLength EducationalLevel EducationField  Directs  EmployeeNumber  \\\n",
       "0              2               L2  Life Sciences        1               1   \n",
       "1              9               L1  Life Sciences        1               2   \n",
       "2              3               L2          Other        1               4   \n",
       "3              4               L4  Life Sciences        1               5   \n",
       "4              3               L1        Medical        1               7   \n",
       "\n",
       "   ...  WeeklyWorkedHours StockOptionLevel  YearsinIndustry  \\\n",
       "0  ...                 80                0                8   \n",
       "1  ...                 80                1               10   \n",
       "2  ...                 80                0                7   \n",
       "3  ...                 80                0                8   \n",
       "4  ...                 80                1                6   \n",
       "\n",
       "   TrainingTimesLastYear  WorkLifeBalance YearsOnJob  YearsAtCurrentLevel  \\\n",
       "0                      0                1          6                    4   \n",
       "1                      3                3         10                    7   \n",
       "2                      3                3          0                    0   \n",
       "3                      3                3          8                    7   \n",
       "4                      3                3          2                    2   \n",
       "\n",
       "  YearsSinceLastPromotion  YearsWithCurrManager               name  \n",
       "0                       0                     5        Tracy Moore  \n",
       "1                       1                     7      Andrew Hoover  \n",
       "2                       0                     0         Julie Bell  \n",
       "3                       3                     0       Thomas Adams  \n",
       "4                       2                     2  Johnathan Burnett  \n",
       "\n",
       "[5 rows x 36 columns]"
      ]
     },
     "execution_count": 7,
     "metadata": {},
     "output_type": "execute_result"
    }
   ],
   "source": [
    "ds.head()"
   ]
  },
  {
   "cell_type": "code",
   "execution_count": null,
   "id": "beb2f4ba",
   "metadata": {},
   "outputs": [],
   "source": [
    "ds.numeric_columns"
   ]
  },
  {
   "cell_type": "code",
   "execution_count": null,
   "id": "a1738236",
   "metadata": {},
   "outputs": [],
   "source": [
    "# elimino da df: name e EmployeeId\n",
    "df = df."
   ]
  },
  {
   "cell_type": "markdown",
   "id": "fd88d293",
   "metadata": {},
   "source": [
    "### Categoriche e numeriche: importante per LGBM e per le trasformazioni"
   ]
  },
  {
   "cell_type": "code",
   "execution_count": null,
   "id": "d684adeb",
   "metadata": {},
   "outputs": [],
   "source": [
    "#\n",
    "# definisco le funzioni che identificano le categorie di colonne\n",
    "#\n",
    "def cat_cols_selector(df, target_name):\n",
    "    # the input is the dataframe\n",
    "    \n",
    "    # cols with less than THR values are considered categoricals\n",
    "    THR = 10\n",
    "    \n",
    "    nunique = df.nunique()\n",
    "    types = df.dtypes\n",
    "    \n",
    "    col_list = []\n",
    "    \n",
    "    for col in df.columns:\n",
    "        if ((types[col] == 'object') or (nunique[col] < THR)):\n",
    "            # print(col)\n",
    "            if col != target_name:\n",
    "                col_list.append(col)\n",
    "    \n",
    "    return col_list\n",
    "\n",
    "def num_cols_selector(df, target_name):\n",
    "    THR = 10\n",
    "    \n",
    "    types = df.dtypes\n",
    "    nunique = df.nunique()\n",
    "    \n",
    "    col_list = []\n",
    "    \n",
    "    for col in df.columns:\n",
    "        if (types[col] != 'object') and (nunique[col] >= THR): \n",
    "            # print(col)\n",
    "            if col != target_name:\n",
    "                col_list.append(col)\n",
    "    \n",
    "    return col_list"
   ]
  },
  {
   "cell_type": "code",
   "execution_count": null,
   "id": "fae2f4e0",
   "metadata": {},
   "outputs": [],
   "source": [
    "cat_cols = list(cat_cols_selector(ds.to_pandas(), TARGET))\n",
    "num_cols = list(num_cols_selector(ds.to_pandas(), TARGET))\n",
    "\n",
    "print(f\"List of categorical columns: {cat_cols}, [{len(cat_cols)}]\")\n",
    "print()\n",
    "print(f\"List of nymerical columns: {num_cols}, [{len(num_cols)}]\")"
   ]
  },
  {
   "cell_type": "markdown",
   "id": "52ef5d94",
   "metadata": {},
   "source": [
    "### Usiamo Feature Types"
   ]
  },
  {
   "cell_type": "code",
   "execution_count": null,
   "id": "6ab699bf",
   "metadata": {},
   "outputs": [],
   "source": [
    "df = ds.to_pandas()"
   ]
  },
  {
   "cell_type": "code",
   "execution_count": null,
   "id": "eed2148d",
   "metadata": {},
   "outputs": [],
   "source": [
    "for col in df.columns:\n",
    "    if col in cat_cols:\n",
    "        df[col].ads.feature_type = ['category']\n",
    "    if col in num_cols:\n",
    "        df[col].ads.feature_type = ['continuous']"
   ]
  },
  {
   "cell_type": "code",
   "execution_count": null,
   "id": "db9e47b6",
   "metadata": {},
   "outputs": [],
   "source": [
    "df.ads.feature_count()"
   ]
  },
  {
   "cell_type": "code",
   "execution_count": null,
   "id": "e3913d2e",
   "metadata": {},
   "outputs": [],
   "source": [
    "for col in list(df.ads.feature_select(include=['category']).columns):\n",
    "    df[col].ads.feature_plot()"
   ]
  },
  {
   "cell_type": "code",
   "execution_count": null,
   "id": "3cb9f441",
   "metadata": {},
   "outputs": [],
   "source": [
    "for col in list(df.ads.feature_select(include=['continuous']).columns):\n",
    "    df[col].ads.feature_plot()"
   ]
  },
  {
   "cell_type": "code",
   "execution_count": null,
   "id": "3e734d2c",
   "metadata": {},
   "outputs": [],
   "source": [
    "for col in list(df.ads.feature_select(include=['category']).columns):\n",
    "    print(col)\n",
    "    display(df[col].ads.feature_stat())"
   ]
  },
  {
   "cell_type": "code",
   "execution_count": null,
   "id": "53cb99f4",
   "metadata": {},
   "outputs": [],
   "source": []
  }
 ],
 "metadata": {
  "kernelspec": {
   "display_name": "Python [conda env:mygeneralml_p37_cpu_v1_0]",
   "language": "python",
   "name": "conda-env-mygeneralml_p37_cpu_v1_0-py"
  },
  "language_info": {
   "codemirror_mode": {
    "name": "ipython",
    "version": 3
   },
   "file_extension": ".py",
   "mimetype": "text/x-python",
   "name": "python",
   "nbconvert_exporter": "python",
   "pygments_lexer": "ipython3",
   "version": "3.7.12"
  }
 },
 "nbformat": 4,
 "nbformat_minor": 5
}
