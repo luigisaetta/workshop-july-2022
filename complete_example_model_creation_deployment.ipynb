{
 "cells": [
  {
   "cell_type": "markdown",
   "id": "54f85e38",
   "metadata": {},
   "source": [
    "### Demo: train/tune the model and save to Model Catalog\n",
    "\n",
    "* In this Notebook we will see how to train a sklearn pipeline and save the model to the Model Catalog.\n",
    "* We will show how to add metadata (reference dataset, metrics..)\n",
    "* How to deploy the model as a REST service\n",
    "* Tuning of HP with **ADSTuner**"
   ]
  },
  {
   "cell_type": "code",
   "execution_count": 38,
   "id": "902185ef",
   "metadata": {},
   "outputs": [],
   "source": [
    "import pandas as pd\n",
    "import numpy as np\n",
    "from datetime import datetime\n",
    "import os\n",
    "import tempfile\n",
    "\n",
    "import ads\n",
    "from ads import set_auth\n",
    "\n",
    "# ADS tuner\n",
    "from ads.hpo.distributions import *\n",
    "from ads.hpo.search_cv import ADSTuner\n",
    "from ads.hpo.stopping_criterion import *\n",
    "\n",
    "# to save to Model Catalog\n",
    "from ads.catalog.model import ModelCatalog\n",
    "from ads.common.model_metadata import UseCaseType, MetadataCustomCategory\n",
    "from ads.model.framework.sklearn_model import SklearnModel\n",
    "\n",
    "\n",
    "import lightgbm as lgb\n",
    "\n",
    "from sklearn.metrics import classification_report\n",
    "from sklearn.metrics import get_scorer, make_scorer, f1_score, roc_auc_score, accuracy_score, confusion_matrix, ConfusionMatrixDisplay\n",
    "from sklearn.model_selection import train_test_split\n",
    "\n",
    "# added to handle with pipelines\n",
    "from sklearn.compose import ColumnTransformer, make_column_selector as selector\n",
    "from sklearn.pipeline import Pipeline\n",
    "from sklearn.impute import SimpleImputer\n",
    "from sklearn.preprocessing import StandardScaler, OrdinalEncoder\n",
    "\n",
    "from ads.dataset.factory import DatasetFactory\n",
    "\n",
    "import logging\n",
    "import warnings\n",
    "\n",
    "import matplotlib.pyplot as plt\n",
    "\n",
    "warnings.filterwarnings('ignore')\n",
    "logging.basicConfig(format='%(levelname)s:%(message)s', level=logging.ERROR)\n",
    "\n",
    "%matplotlib inline"
   ]
  },
  {
   "cell_type": "code",
   "execution_count": 39,
   "id": "6364f2d4",
   "metadata": {},
   "outputs": [
    {
     "name": "stdout",
     "output_type": "stream",
     "text": [
      "2.6.2\n"
     ]
    }
   ],
   "source": [
    "# we need ads 2.5.10 or greater\n",
    "print(ads.__version__)"
   ]
  },
  {
   "cell_type": "code",
   "execution_count": 40,
   "id": "94994ac7",
   "metadata": {},
   "outputs": [
    {
     "name": "stdout",
     "output_type": "stream",
     "text": [
      "WARNING:root:~/.oci/config file not exists, default value oci.config.DEFAULT_LOCATION used instead\n"
     ]
    }
   ],
   "source": [
    "# set RP\n",
    "set_auth(auth='resource_principal')"
   ]
  },
  {
   "cell_type": "markdown",
   "id": "d03b3b5c",
   "metadata": {},
   "source": [
    "### Prima Parte: preparazione dati\n",
    "\n",
    "* the dataset is upsampled, to address the imbalance"
   ]
  },
  {
   "cell_type": "code",
   "execution_count": 41,
   "id": "835864c6",
   "metadata": {},
   "outputs": [],
   "source": [
    "#\n",
    "# definisco le funzioni che identificano le categorie di colonne\n",
    "#\n",
    "def cat_cols_selector(df, target_name):\n",
    "    # the input is the dataframe\n",
    "    \n",
    "    # cols with less than THR values are considered categoricals\n",
    "    THR = 10\n",
    "    \n",
    "    nunique = df.nunique()\n",
    "    types = df.dtypes\n",
    "    \n",
    "    col_list = []\n",
    "    \n",
    "    for col in df.columns:\n",
    "        if ((types[col] == 'object') or (nunique[col] < THR)):\n",
    "            # print(col)\n",
    "            if col != target_name:\n",
    "                col_list.append(col)\n",
    "    \n",
    "    return col_list\n",
    "\n",
    "def num_cols_selector(df, target_name):\n",
    "    THR = 10\n",
    "    \n",
    "    types = df.dtypes\n",
    "    nunique = df.nunique()\n",
    "    \n",
    "    col_list = []\n",
    "    \n",
    "    for col in df.columns:\n",
    "        if (types[col] != 'object') and (nunique[col] >= THR): \n",
    "            # print(col)\n",
    "            if col != target_name:\n",
    "                col_list.append(col)\n",
    "    \n",
    "    return col_list\n",
    "\n",
    "def load_as_dataframe(path):\n",
    "    ds = DatasetFactory.open(path,\n",
    "                             target=\"Attrition\").set_positive_class('Yes')\n",
    "\n",
    "    ds_up = ds.up_sample()\n",
    "\n",
    "    # drop unneeded columns\n",
    "    cols_to_drop = ['Directs','name', 'Over18','WeeklyWorkedHours','EmployeeNumber']\n",
    "\n",
    "    ds_used = ds_up.drop(columns=cols_to_drop)\n",
    "    \n",
    "    df_used = ds_used.to_pandas_dataframe()\n",
    "\n",
    "    # train, test split (lo faccio direttamente sui dataframe)\n",
    "    df_train, df_test = train_test_split(df_used, shuffle=True, test_size=0.2, random_state = 1234)\n",
    "\n",
    "    print(\"# of samples in train set\", df_train.shape[0])\n",
    "    print(\"# of samples in test set\", df_test.shape[0])\n",
    "    \n",
    "    return df_train, df_test"
   ]
  },
  {
   "cell_type": "code",
   "execution_count": 42,
   "id": "b27a8daf",
   "metadata": {},
   "outputs": [
    {
     "data": {
      "application/vnd.jupyter.widget-view+json": {
       "model_id": "27e3050ea7374a6db9ae2a2c40add75d",
       "version_major": 2,
       "version_minor": 0
      },
      "text/plain": [
       "loop1:   0%|          | 0/4 [00:00<?, ?it/s]"
      ]
     },
     "metadata": {},
     "output_type": "display_data"
    },
    {
     "name": "stdout",
     "output_type": "stream",
     "text": [
      "# of samples in train set 1972\n",
      "# of samples in test set 494\n",
      "\n",
      "Numerical columns: ['Age', 'SalaryLevel', 'CommuteLength', 'HourlyRate', 'MonthlyIncome', 'MonthlyRate', 'NumCompaniesWorked', 'PercentSalaryHike', 'YearsinIndustry', 'YearsOnJob', 'YearsAtCurrentLevel', 'YearsSinceLastPromotion', 'YearsWithCurrManager'] (13)\n",
      "\n",
      "Categorical columns: ['TravelForWork', 'JobFunction', 'EducationalLevel', 'EducationField', 'EnvironmentSatisfaction', 'Gender', 'JobInvolvement', 'JobLevel', 'JobRole', 'JobSatisfaction', 'MaritalStatus', 'OverTime', 'PerformanceRating', 'RelationshipSatisfaction', 'StockOptionLevel', 'TrainingTimesLastYear', 'WorkLifeBalance'] (17)\n",
      "\n",
      "Indexes for cat_cols [1, 3, 5, 6, 7, 8, 10, 11, 12, 13, 14, 18, 20, 21, 22, 24, 25]\n"
     ]
    }
   ],
   "source": [
    "# load the dataset and do upsampling\n",
    "TARGET = 'Attrition'\n",
    "\n",
    "attrition_path = \"/opt/notebooks/ads-examples/oracle_data/orcl_attrition.csv\"\n",
    "\n",
    "# ritorna un dataset su cui è stato fatto l'upsampling\n",
    "df_train, df_test = load_as_dataframe(attrition_path)\n",
    "\n",
    "cat_cols = cat_cols_selector(df_train, TARGET)\n",
    "num_cols = num_cols_selector(df_train, TARGET)\n",
    "\n",
    "X_train, y_train = df_train.drop([TARGET], axis=1), df_train[TARGET]\n",
    "X_test, y_test = df_test.drop([TARGET], axis=1), df_test[TARGET]\n",
    "\n",
    "# prepare cat_cols for lightgbm\n",
    "cat_cols_index = [i for i, x in enumerate(X_train.columns) if x in cat_cols]\n",
    "\n",
    "print()\n",
    "print(f'Numerical columns: {num_cols} ({len(num_cols)})')\n",
    "print()\n",
    "print(f'Categorical columns: {cat_cols} ({len(cat_cols)})')\n",
    "print()\n",
    "print(\"Indexes for cat_cols\", cat_cols_index)"
   ]
  },
  {
   "cell_type": "markdown",
   "id": "a636f01c",
   "metadata": {},
   "source": [
    "### Definisco la pipeline: trasformazioni + modello"
   ]
  },
  {
   "cell_type": "code",
   "execution_count": 43,
   "id": "44807d13",
   "metadata": {},
   "outputs": [],
   "source": [
    "#\n",
    "# creo la parte Transformers per la pipeline Sklearn\n",
    "#\n",
    "\n",
    "# per questo dataset non vi sono missing values\n",
    "numeric_transformer = Pipeline(steps=[\n",
    "    ('imputer', SimpleImputer(missing_values=np.nan, strategy='mean')),\n",
    "    ('standard_scaler', StandardScaler())])\n",
    "\n",
    "categorical_transformer = Pipeline(steps=[\n",
    "    ('imputer', SimpleImputer(strategy='constant', fill_value='missing')),\n",
    "    ('ordinal_encoder', OrdinalEncoder(handle_unknown='use_encoded_value', unknown_value=-1))])\n",
    "\n",
    "transformations = ColumnTransformer(\n",
    "    transformers=[\n",
    "        ('num', numeric_transformer, num_cols),\n",
    "        ('cat', categorical_transformer, cat_cols)])"
   ]
  },
  {
   "cell_type": "code",
   "execution_count": 44,
   "id": "667b9447",
   "metadata": {},
   "outputs": [],
   "source": [
    "#\n",
    "# definisco la pipeline completa\n",
    "#\n",
    "params = {\n",
    "    # info\n",
    "    # \"verbose\" : 0,\n",
    "    \"categorical_feature\": cat_cols_index\n",
    "}\n",
    "\n",
    "pipe = Pipeline(steps=[('preprocessor', transformations),\n",
    "                           ('clf', lgb.LGBMClassifier(**params))])"
   ]
  },
  {
   "cell_type": "code",
   "execution_count": 45,
   "id": "56e247b2",
   "metadata": {},
   "outputs": [
    {
     "data": {
      "text/plain": [
       "[('preprocessor',\n",
       "  ColumnTransformer(transformers=[('num',\n",
       "                                   Pipeline(steps=[('imputer', SimpleImputer()),\n",
       "                                                   ('standard_scaler',\n",
       "                                                    StandardScaler())]),\n",
       "                                   ['Age', 'SalaryLevel', 'CommuteLength',\n",
       "                                    'HourlyRate', 'MonthlyIncome', 'MonthlyRate',\n",
       "                                    'NumCompaniesWorked', 'PercentSalaryHike',\n",
       "                                    'YearsinIndustry', 'YearsOnJob',\n",
       "                                    'YearsAtCurrentLevel',\n",
       "                                    'YearsSinceLastPromotion',\n",
       "                                    'YearsWithCurrManager']),\n",
       "                                  ('c...\n",
       "                                                    OrdinalEncoder(handle_unknown='use_encoded_value',\n",
       "                                                                   unknown_value=-1))]),\n",
       "                                   ['TravelForWork', 'JobFunction',\n",
       "                                    'EducationalLevel', 'EducationField',\n",
       "                                    'EnvironmentSatisfaction', 'Gender',\n",
       "                                    'JobInvolvement', 'JobLevel', 'JobRole',\n",
       "                                    'JobSatisfaction', 'MaritalStatus',\n",
       "                                    'OverTime', 'PerformanceRating',\n",
       "                                    'RelationshipSatisfaction',\n",
       "                                    'StockOptionLevel', 'TrainingTimesLastYear',\n",
       "                                    'WorkLifeBalance'])])),\n",
       " ('clf',\n",
       "  LGBMClassifier(categorical_feature=[1, 3, 5, 6, 7, 8, 10, 11, 12, 13, 14, 18,\n",
       "                                      20, 21, 22, 24, 25]))]"
      ]
     },
     "execution_count": 45,
     "metadata": {},
     "output_type": "execute_result"
    }
   ],
   "source": [
    "pipe.steps"
   ]
  },
  {
   "cell_type": "markdown",
   "id": "d37a89df",
   "metadata": {},
   "source": [
    "### Tuning iper-parametri con ADS Tuner"
   ]
  },
  {
   "cell_type": "code",
   "execution_count": 9,
   "id": "0aca3e19",
   "metadata": {},
   "outputs": [],
   "source": [
    "scorer = make_scorer(accuracy_score)"
   ]
  },
  {
   "cell_type": "code",
   "execution_count": 46,
   "id": "c696f19b",
   "metadata": {},
   "outputs": [],
   "source": [
    "tuner = ADSTuner(pipe, cv=3, n_jobs=2, scoring=scorer, random_state=42) ## cv is cross validation splits\n",
    "\n",
    "tuner.tune(X_train, y_train, exit_criterion=[NTrials(5)])"
   ]
  },
  {
   "cell_type": "code",
   "execution_count": 47,
   "id": "292f84e5",
   "metadata": {},
   "outputs": [
    {
     "data": {
      "text/plain": [
       "<State.RUNNING: 2>"
      ]
     },
     "execution_count": 47,
     "metadata": {},
     "output_type": "execute_result"
    }
   ],
   "source": [
    "tuner.status"
   ]
  },
  {
   "cell_type": "code",
   "execution_count": 48,
   "id": "5a64a011",
   "metadata": {},
   "outputs": [
    {
     "name": "stdout",
     "output_type": "stream",
     "text": [
      "Number of trials launched: 2\n"
     ]
    }
   ],
   "source": [
    "print(f\"Number of trials launched: {len(tuner.trials)}\")"
   ]
  },
  {
   "cell_type": "code",
   "execution_count": 50,
   "id": "efeb1a84",
   "metadata": {},
   "outputs": [
    {
     "data": {
      "text/html": [
       "<div>\n",
       "<style scoped>\n",
       "    .dataframe tbody tr th:only-of-type {\n",
       "        vertical-align: middle;\n",
       "    }\n",
       "\n",
       "    .dataframe tbody tr th {\n",
       "        vertical-align: top;\n",
       "    }\n",
       "\n",
       "    .dataframe thead th {\n",
       "        text-align: right;\n",
       "    }\n",
       "</style>\n",
       "<table border=\"1\" class=\"dataframe\">\n",
       "  <thead>\n",
       "    <tr style=\"text-align: right;\">\n",
       "      <th></th>\n",
       "      <th>number</th>\n",
       "      <th>value</th>\n",
       "      <th>datetime_start</th>\n",
       "      <th>datetime_complete</th>\n",
       "      <th>duration</th>\n",
       "      <th>params_clf__colsample_bytree</th>\n",
       "      <th>params_clf__learning_rate</th>\n",
       "      <th>params_clf__max_depth</th>\n",
       "      <th>params_clf__n_estimators</th>\n",
       "      <th>params_clf__subsample</th>\n",
       "      <th>...</th>\n",
       "      <th>user_attrs_mean_score_time</th>\n",
       "      <th>user_attrs_mean_test_score</th>\n",
       "      <th>user_attrs_metric</th>\n",
       "      <th>user_attrs_split0_test_score</th>\n",
       "      <th>user_attrs_split1_test_score</th>\n",
       "      <th>user_attrs_split2_test_score</th>\n",
       "      <th>user_attrs_std_fit_time</th>\n",
       "      <th>user_attrs_std_score_time</th>\n",
       "      <th>user_attrs_std_test_score</th>\n",
       "      <th>state</th>\n",
       "    </tr>\n",
       "  </thead>\n",
       "  <tbody>\n",
       "    <tr>\n",
       "      <th>1</th>\n",
       "      <td>1</td>\n",
       "      <td>0.940669</td>\n",
       "      <td>2022-11-03 11:36:34.046790</td>\n",
       "      <td>2022-11-03 11:36:55.256684</td>\n",
       "      <td>0 days 00:00:21.209894</td>\n",
       "      <td>0.381517</td>\n",
       "      <td>0.303994</td>\n",
       "      <td>5</td>\n",
       "      <td>218</td>\n",
       "      <td>0.768249</td>\n",
       "      <td>...</td>\n",
       "      <td>0.021041</td>\n",
       "      <td>0.940669</td>\n",
       "      <td>accuracy_score</td>\n",
       "      <td>0.940729</td>\n",
       "      <td>0.942161</td>\n",
       "      <td>0.939117</td>\n",
       "      <td>0.300626</td>\n",
       "      <td>0.000937</td>\n",
       "      <td>0.001243</td>\n",
       "      <td>COMPLETE</td>\n",
       "    </tr>\n",
       "    <tr>\n",
       "      <th>0</th>\n",
       "      <td>0</td>\n",
       "      <td>0.936614</td>\n",
       "      <td>2022-11-03 11:36:34.021971</td>\n",
       "      <td>2022-11-03 11:36:52.813939</td>\n",
       "      <td>0 days 00:00:18.791968</td>\n",
       "      <td>0.304560</td>\n",
       "      <td>0.314544</td>\n",
       "      <td>5</td>\n",
       "      <td>191</td>\n",
       "      <td>0.536679</td>\n",
       "      <td>...</td>\n",
       "      <td>0.020228</td>\n",
       "      <td>0.936614</td>\n",
       "      <td>accuracy_score</td>\n",
       "      <td>0.934650</td>\n",
       "      <td>0.931507</td>\n",
       "      <td>0.943683</td>\n",
       "      <td>0.035401</td>\n",
       "      <td>0.001968</td>\n",
       "      <td>0.005161</td>\n",
       "      <td>COMPLETE</td>\n",
       "    </tr>\n",
       "    <tr>\n",
       "      <th>3</th>\n",
       "      <td>3</td>\n",
       "      <td>0.927480</td>\n",
       "      <td>2022-11-03 11:36:55.274485</td>\n",
       "      <td>2022-11-03 11:37:03.323401</td>\n",
       "      <td>0 days 00:00:08.048916</td>\n",
       "      <td>0.646922</td>\n",
       "      <td>0.383700</td>\n",
       "      <td>3</td>\n",
       "      <td>186</td>\n",
       "      <td>0.836630</td>\n",
       "      <td>...</td>\n",
       "      <td>0.018872</td>\n",
       "      <td>0.927480</td>\n",
       "      <td>accuracy_score</td>\n",
       "      <td>0.936170</td>\n",
       "      <td>0.919330</td>\n",
       "      <td>0.926941</td>\n",
       "      <td>0.153661</td>\n",
       "      <td>0.002263</td>\n",
       "      <td>0.006885</td>\n",
       "      <td>COMPLETE</td>\n",
       "    </tr>\n",
       "    <tr>\n",
       "      <th>2</th>\n",
       "      <td>2</td>\n",
       "      <td>0.886413</td>\n",
       "      <td>2022-11-03 11:36:52.836815</td>\n",
       "      <td>2022-11-03 11:36:55.850781</td>\n",
       "      <td>0 days 00:00:03.013966</td>\n",
       "      <td>0.591214</td>\n",
       "      <td>0.390964</td>\n",
       "      <td>3</td>\n",
       "      <td>55</td>\n",
       "      <td>0.900886</td>\n",
       "      <td>...</td>\n",
       "      <td>0.019510</td>\n",
       "      <td>0.886413</td>\n",
       "      <td>accuracy_score</td>\n",
       "      <td>0.879939</td>\n",
       "      <td>0.881279</td>\n",
       "      <td>0.898021</td>\n",
       "      <td>0.086448</td>\n",
       "      <td>0.002466</td>\n",
       "      <td>0.008226</td>\n",
       "      <td>COMPLETE</td>\n",
       "    </tr>\n",
       "    <tr>\n",
       "      <th>4</th>\n",
       "      <td>4</td>\n",
       "      <td>0.871703</td>\n",
       "      <td>2022-11-03 11:36:55.868367</td>\n",
       "      <td>2022-11-03 11:36:59.190120</td>\n",
       "      <td>0 days 00:00:03.321753</td>\n",
       "      <td>0.470726</td>\n",
       "      <td>0.317343</td>\n",
       "      <td>3</td>\n",
       "      <td>60</td>\n",
       "      <td>0.832977</td>\n",
       "      <td>...</td>\n",
       "      <td>0.021402</td>\n",
       "      <td>0.871703</td>\n",
       "      <td>accuracy_score</td>\n",
       "      <td>0.873860</td>\n",
       "      <td>0.849315</td>\n",
       "      <td>0.891933</td>\n",
       "      <td>0.053561</td>\n",
       "      <td>0.006455</td>\n",
       "      <td>0.017465</td>\n",
       "      <td>COMPLETE</td>\n",
       "    </tr>\n",
       "  </tbody>\n",
       "</table>\n",
       "<p>5 rows × 21 columns</p>\n",
       "</div>"
      ],
      "text/plain": [
       "   number     value             datetime_start          datetime_complete  \\\n",
       "1       1  0.940669 2022-11-03 11:36:34.046790 2022-11-03 11:36:55.256684   \n",
       "0       0  0.936614 2022-11-03 11:36:34.021971 2022-11-03 11:36:52.813939   \n",
       "3       3  0.927480 2022-11-03 11:36:55.274485 2022-11-03 11:37:03.323401   \n",
       "2       2  0.886413 2022-11-03 11:36:52.836815 2022-11-03 11:36:55.850781   \n",
       "4       4  0.871703 2022-11-03 11:36:55.868367 2022-11-03 11:36:59.190120   \n",
       "\n",
       "                duration  params_clf__colsample_bytree  \\\n",
       "1 0 days 00:00:21.209894                      0.381517   \n",
       "0 0 days 00:00:18.791968                      0.304560   \n",
       "3 0 days 00:00:08.048916                      0.646922   \n",
       "2 0 days 00:00:03.013966                      0.591214   \n",
       "4 0 days 00:00:03.321753                      0.470726   \n",
       "\n",
       "   params_clf__learning_rate  params_clf__max_depth  params_clf__n_estimators  \\\n",
       "1                   0.303994                      5                       218   \n",
       "0                   0.314544                      5                       191   \n",
       "3                   0.383700                      3                       186   \n",
       "2                   0.390964                      3                        55   \n",
       "4                   0.317343                      3                        60   \n",
       "\n",
       "   params_clf__subsample  ...  user_attrs_mean_score_time  \\\n",
       "1               0.768249  ...                    0.021041   \n",
       "0               0.536679  ...                    0.020228   \n",
       "3               0.836630  ...                    0.018872   \n",
       "2               0.900886  ...                    0.019510   \n",
       "4               0.832977  ...                    0.021402   \n",
       "\n",
       "   user_attrs_mean_test_score  user_attrs_metric user_attrs_split0_test_score  \\\n",
       "1                    0.940669     accuracy_score                     0.940729   \n",
       "0                    0.936614     accuracy_score                     0.934650   \n",
       "3                    0.927480     accuracy_score                     0.936170   \n",
       "2                    0.886413     accuracy_score                     0.879939   \n",
       "4                    0.871703     accuracy_score                     0.873860   \n",
       "\n",
       "   user_attrs_split1_test_score  user_attrs_split2_test_score  \\\n",
       "1                      0.942161                      0.939117   \n",
       "0                      0.931507                      0.943683   \n",
       "3                      0.919330                      0.926941   \n",
       "2                      0.881279                      0.898021   \n",
       "4                      0.849315                      0.891933   \n",
       "\n",
       "   user_attrs_std_fit_time  user_attrs_std_score_time  \\\n",
       "1                 0.300626                   0.000937   \n",
       "0                 0.035401                   0.001968   \n",
       "3                 0.153661                   0.002263   \n",
       "2                 0.086448                   0.002466   \n",
       "4                 0.053561                   0.006455   \n",
       "\n",
       "   user_attrs_std_test_score     state  \n",
       "1                   0.001243  COMPLETE  \n",
       "0                   0.005161  COMPLETE  \n",
       "3                   0.006885  COMPLETE  \n",
       "2                   0.008226  COMPLETE  \n",
       "4                   0.017465  COMPLETE  \n",
       "\n",
       "[5 rows x 21 columns]"
      ]
     },
     "execution_count": 50,
     "metadata": {},
     "output_type": "execute_result"
    }
   ],
   "source": [
    "tuner.trials.sort_values(by=[\"value\"], ascending=False)"
   ]
  },
  {
   "cell_type": "code",
   "execution_count": 51,
   "id": "0c9e8830",
   "metadata": {},
   "outputs": [
    {
     "data": {
      "text/plain": [
       "{'colsample_bytree': 0.38151727171225536,\n",
       " 'learning_rate': 0.3039944597604975,\n",
       " 'max_depth': 5,\n",
       " 'n_estimators': 218,\n",
       " 'subsample': 0.7682486015285253}"
      ]
     },
     "execution_count": 51,
     "metadata": {},
     "output_type": "execute_result"
    }
   ],
   "source": [
    "tuner.best_params"
   ]
  },
  {
   "cell_type": "markdown",
   "id": "157f9c60",
   "metadata": {},
   "source": [
    "### Addestriamo un modello con i migliori parametri (trovati da ADSTuner)"
   ]
  },
  {
   "cell_type": "code",
   "execution_count": 52,
   "id": "87695262",
   "metadata": {},
   "outputs": [],
   "source": [
    "params = tuner.best_params\n",
    "\n",
    "params[\"categorical_feature\"] = cat_cols_index\n",
    "\n",
    "pipe = Pipeline(steps=[('preprocessor', transformations),\n",
    "                           ('clf', lgb.LGBMClassifier(**params))])"
   ]
  },
  {
   "cell_type": "code",
   "execution_count": 53,
   "id": "8c821b9b",
   "metadata": {},
   "outputs": [
    {
     "data": {
      "text/plain": [
       "[('preprocessor',\n",
       "  ColumnTransformer(transformers=[('num',\n",
       "                                   Pipeline(steps=[('imputer', SimpleImputer()),\n",
       "                                                   ('standard_scaler',\n",
       "                                                    StandardScaler())]),\n",
       "                                   ['Age', 'SalaryLevel', 'CommuteLength',\n",
       "                                    'HourlyRate', 'MonthlyIncome', 'MonthlyRate',\n",
       "                                    'NumCompaniesWorked', 'PercentSalaryHike',\n",
       "                                    'YearsinIndustry', 'YearsOnJob',\n",
       "                                    'YearsAtCurrentLevel',\n",
       "                                    'YearsSinceLastPromotion',\n",
       "                                    'YearsWithCurrManager']),\n",
       "                                  ('c...\n",
       "                                                    OrdinalEncoder(handle_unknown='use_encoded_value',\n",
       "                                                                   unknown_value=-1))]),\n",
       "                                   ['TravelForWork', 'JobFunction',\n",
       "                                    'EducationalLevel', 'EducationField',\n",
       "                                    'EnvironmentSatisfaction', 'Gender',\n",
       "                                    'JobInvolvement', 'JobLevel', 'JobRole',\n",
       "                                    'JobSatisfaction', 'MaritalStatus',\n",
       "                                    'OverTime', 'PerformanceRating',\n",
       "                                    'RelationshipSatisfaction',\n",
       "                                    'StockOptionLevel', 'TrainingTimesLastYear',\n",
       "                                    'WorkLifeBalance'])])),\n",
       " ('clf',\n",
       "  LGBMClassifier(categorical_feature=[1, 3, 5, 6, 7, 8, 10, 11, 12, 13, 14, 18,\n",
       "                                      20, 21, 22, 24, 25],\n",
       "                 colsample_bytree=0.38151727171225536,\n",
       "                 learning_rate=0.3039944597604975, max_depth=5, n_estimators=218,\n",
       "                 subsample=0.7682486015285253))]"
      ]
     },
     "execution_count": 53,
     "metadata": {},
     "output_type": "execute_result"
    }
   ],
   "source": [
    "pipe.steps"
   ]
  },
  {
   "cell_type": "code",
   "execution_count": 54,
   "id": "b6318081",
   "metadata": {},
   "outputs": [
    {
     "data": {
      "text/plain": [
       "Pipeline(steps=[('preprocessor',\n",
       "                 ColumnTransformer(transformers=[('num',\n",
       "                                                  Pipeline(steps=[('imputer',\n",
       "                                                                   SimpleImputer()),\n",
       "                                                                  ('standard_scaler',\n",
       "                                                                   StandardScaler())]),\n",
       "                                                  ['Age', 'SalaryLevel',\n",
       "                                                   'CommuteLength',\n",
       "                                                   'HourlyRate',\n",
       "                                                   'MonthlyIncome',\n",
       "                                                   'MonthlyRate',\n",
       "                                                   'NumCompaniesWorked',\n",
       "                                                   'PercentSalaryHike',\n",
       "                                                   'YearsinIndustry',\n",
       "                                                   'YearsOnJob',\n",
       "                                                   'YearsAtCurrentLevel',\n",
       "                                                   'YearsSinceLastPromoti...\n",
       "                                                   'MaritalStatus', 'OverTime',\n",
       "                                                   'PerformanceRating',\n",
       "                                                   'RelationshipSatisfaction',\n",
       "                                                   'StockOptionLevel',\n",
       "                                                   'TrainingTimesLastYear',\n",
       "                                                   'WorkLifeBalance'])])),\n",
       "                ('clf',\n",
       "                 LGBMClassifier(categorical_feature=[1, 3, 5, 6, 7, 8, 10, 11,\n",
       "                                                     12, 13, 14, 18, 20, 21, 22,\n",
       "                                                     24, 25],\n",
       "                                colsample_bytree=0.38151727171225536,\n",
       "                                learning_rate=0.3039944597604975, max_depth=5,\n",
       "                                n_estimators=218,\n",
       "                                subsample=0.7682486015285253))])"
      ]
     },
     "execution_count": 54,
     "metadata": {},
     "output_type": "execute_result"
    }
   ],
   "source": [
    "pipe.fit(X_train, y_train)"
   ]
  },
  {
   "cell_type": "markdown",
   "id": "dc518520",
   "metadata": {},
   "source": [
    "### Score the Model on the test dataset"
   ]
  },
  {
   "cell_type": "code",
   "execution_count": 27,
   "id": "055f44e4",
   "metadata": {},
   "outputs": [
    {
     "name": "stdout",
     "output_type": "stream",
     "text": [
      "Validation set result:\n",
      "{'accuracy': 0.9514, 'roc_auc': 0.9912}\n"
     ]
    }
   ],
   "source": [
    "# better with categorical features\n",
    "\n",
    "test_pred = pipe.predict(X_test)\n",
    "test_probas = pipe.predict_proba(X_test)\n",
    "\n",
    "print('Validation set result:')\n",
    "\n",
    "roc_auc = round(roc_auc_score(y_test, test_probas[:,1]), 4)\n",
    "acc = round(accuracy_score(y_test, test_pred), 4)\n",
    "\n",
    "# this is the Object that will be saved in the Model Catalog\n",
    "metrics = {\n",
    "    \"accuracy\" : acc,\n",
    "    \"roc_auc\" : roc_auc\n",
    "}\n",
    "\n",
    "print(str(metrics))"
   ]
  },
  {
   "cell_type": "markdown",
   "id": "11570473",
   "metadata": {},
   "source": [
    "### Plot the confusion matrix"
   ]
  },
  {
   "cell_type": "code",
   "execution_count": 28,
   "id": "bf2fea01",
   "metadata": {},
   "outputs": [
    {
     "data": {
      "image/png": "[encoded data removed]",
      "text/plain": [
       "<Figure size 432x288 with 2 Axes>"
      ]
     },
     "metadata": {
      "needs_background": "light"
     },
     "output_type": "display_data"
    }
   ],
   "source": [
    "def plot_cm(model, x_test, y_test):\n",
    "    y_pred_labels = model.predict(x_test)\n",
    "    cm = confusion_matrix(y_test, y_pred_labels)\n",
    "    disp = ConfusionMatrixDisplay(confusion_matrix=cm)\n",
    "    disp.plot();\n",
    "    \n",
    "plot_cm(pipe, X_test, y_test)"
   ]
  },
  {
   "cell_type": "markdown",
   "id": "0a8f36f0",
   "metadata": {},
   "source": [
    "#### Save metrics and model"
   ]
  },
  {
   "cell_type": "code",
   "execution_count": 29,
   "id": "f08a0a8a",
   "metadata": {},
   "outputs": [],
   "source": [
    "# save in a file the metrics computed on the reference set\n",
    "now = datetime.now().strftime('%Y-%m-%d %H:%M')\n",
    "\n",
    "dict_ref = [{\n",
    "    \"ts_date\": now,\n",
    "    \"model_name\": \"lgb1\",\n",
    "    \"algorithm\": \"lightgbm\",\n",
    "    \"accuracy\": acc,\n",
    "    \"roc_auc\": roc_auc\n",
    "}]\n",
    "\n",
    "df_ref = pd.DataFrame(dict_ref)\n",
    "\n",
    "# save initial file\n",
    "df_ref.to_csv(\"model_metrics.csv\", index=None)"
   ]
  },
  {
   "cell_type": "markdown",
   "id": "9e2e8222",
   "metadata": {},
   "source": [
    "#### Save model to the Model Catalog"
   ]
  },
  {
   "cell_type": "code",
   "execution_count": 30,
   "id": "5e055724",
   "metadata": {},
   "outputs": [],
   "source": [
    "# artifact_dir = tempfile.mkdtemp()\n",
    "artifact_dir = \"model_dir\"\n",
    "\n",
    "# with SklearnModel there is support for pipelines\n",
    "sklearn_model = SklearnModel(estimator=pipe, artifact_dir= artifact_dir)"
   ]
  },
  {
   "cell_type": "code",
   "execution_count": 31,
   "id": "821d3286",
   "metadata": {},
   "outputs": [],
   "source": [
    "# this is the env for runtime, we're using a published conda env\n",
    "CONDA_ENV = \"oci://conda_envs@frqap2zhtzbe/conda_environments/cpu/mygeneralml_p37_cpu_/1.0/mygeneralml_p37_cpu_v1_0\"\n",
    "\n",
    "sklearn_model.prepare(\n",
    "    inference_conda_env=CONDA_ENV,\n",
    "    training_conda_env=CONDA_ENV,\n",
    "    use_case_type=UseCaseType.BINARY_CLASSIFICATION,\n",
    "    as_onnx=False,\n",
    "    X_sample=X_test,\n",
    "    y_sample=y_test,\n",
    "    force_overwrite=True,\n",
    ")"
   ]
  },
  {
   "cell_type": "code",
   "execution_count": 32,
   "id": "8a559ed5",
   "metadata": {},
   "outputs": [
    {
     "name": "stdout",
     "output_type": "stream",
     "text": [
      "Start loading model.joblib from model directory /home/datascience/workshop-july-2022/model_dir ...\n",
      "Model is successfully loaded.\n"
     ]
    },
    {
     "data": {
      "text/plain": [
       "{'prediction': [1, 1, 0, 1, 0, 1, 1, 1, 0, 0]}"
      ]
     },
     "execution_count": 32,
     "metadata": {},
     "output_type": "execute_result"
    }
   ],
   "source": [
    "%load_ext autoreload\n",
    "%autoreload 2\n",
    "\n",
    "sklearn_model.verify(X_test.head(10))"
   ]
  },
  {
   "cell_type": "code",
   "execution_count": 33,
   "id": "18a89306",
   "metadata": {},
   "outputs": [
    {
     "data": {
      "text/plain": [
       "array([1, 1, 0, 1, 0, 1, 1, 1, 0, 0])"
      ]
     },
     "execution_count": 33,
     "metadata": {},
     "output_type": "execute_result"
    }
   ],
   "source": [
    "# compare with expected values\n",
    "y_test[:10].values"
   ]
  },
  {
   "cell_type": "code",
   "execution_count": 34,
   "id": "f85aafb3",
   "metadata": {},
   "outputs": [],
   "source": [
    "# add info on reference dataset used for training and on metrics in validation\n",
    "\n",
    "ref_url = \"oci://drift_input@frqap2zhtzbe/reference.csv\"\n",
    "\n",
    "sklearn_model.metadata_custom.add(key='reference dataset', value=ref_url, category=MetadataCustomCategory.TRAINING_AND_VALIDATION_DATASETS, \n",
    "                                  description='Reference dataset url. From this dataset have been extracted train/validation dataset', replace=True)\n",
    "\n",
    "sklearn_model.metadata_custom.add(key='metrics on reference set', value=str(metrics), category=MetadataCustomCategory.PERFORMANCE, \n",
    "                                  description='Metrics evaluated on reference dataset', replace=True)"
   ]
  },
  {
   "cell_type": "code",
   "execution_count": 35,
   "id": "86a4e8bd",
   "metadata": {},
   "outputs": [
    {
     "data": {
      "text/plain": [
       "data:\n",
       "- category: Training Environment\n",
       "  description: The URI of the training conda environment.\n",
       "  key: CondaEnvironmentPath\n",
       "  value: oci://conda_envs@frqap2zhtzbe/conda_environments/cpu/mygeneralml_p37_cpu_/1.0/mygeneralml_p37_cpu_v1_0\n",
       "- category: Training Profile\n",
       "  description: The model serialization format.\n",
       "  key: ModelSerializationFormat\n",
       "  value: joblib\n",
       "- category: Performance\n",
       "  description: Metrics evaluated on reference dataset\n",
       "  key: metrics on reference set\n",
       "  value: '{''accuracy'': 0.9514, ''roc_auc'': 0.9912}'\n",
       "- category: Training and Validation Datasets\n",
       "  description: Reference dataset url. From this dataset have been extracted train/validation\n",
       "    dataset\n",
       "  key: reference dataset\n",
       "  value: oci://drift_input@frqap2zhtzbe/reference.csv\n",
       "- category: Other\n",
       "  description: ''\n",
       "  key: ClientLibrary\n",
       "  value: ADS\n",
       "- category: Training Environment\n",
       "  description: The conda environment type, can be published or datascience.\n",
       "  key: EnvironmentType\n",
       "  value: published\n",
       "- category: Training Environment\n",
       "  description: The conda environment where the model was trained.\n",
       "  key: CondaEnvironment\n",
       "  value: oci://conda_envs@frqap2zhtzbe/conda_environments/cpu/mygeneralml_p37_cpu_/1.0/mygeneralml_p37_cpu_v1_0\n",
       "- category: Training Environment\n",
       "  description: The slug name of the training conda environment.\n",
       "  key: SlugName\n",
       "  value: mygeneralml_p37_cpu_v1_0\n",
       "- category: Training Environment\n",
       "  description: The list of files located in artifacts folder.\n",
       "  key: ModelArtifacts\n",
       "  value: input_schema.json, test_json_output.json, model.joblib, runtime.yaml, score.py,\n",
       "    output_schema.json"
      ]
     },
     "execution_count": 35,
     "metadata": {},
     "output_type": "execute_result"
    }
   ],
   "source": [
    "# check all custom metadata\n",
    "sklearn_model.metadata_custom"
   ]
  },
  {
   "cell_type": "code",
   "execution_count": 36,
   "id": "661316b5",
   "metadata": {},
   "outputs": [
    {
     "name": "stdout",
     "output_type": "stream",
     "text": [
      "Start loading model.joblib from model directory /home/datascience/workshop-july-2022/model_dir ...\n",
      "Model is successfully loaded.\n",
      "['input_schema.json', 'test_json_output.json', 'model.joblib', 'runtime.yaml', 'score.py', 'output_schema.json']\n"
     ]
    },
    {
     "data": {
      "application/vnd.jupyter.widget-view+json": {
       "model_id": "",
       "version_major": 2,
       "version_minor": 0
      },
      "text/plain": [
       "loop1:   0%|          | 0/5 [00:00<?, ?it/s]"
      ]
     },
     "metadata": {},
     "output_type": "display_data"
    },
    {
     "name": "stdout",
     "output_type": "stream",
     "text": [
      "artifact:/tmp/saved_model_5412f2e4-890a-4510-be64-17570ff71be4.zip\n",
      "Model id in Model Catalog is ocid1.datasciencemodel.oc1.eu-milan-1.amaaaaaangencdyadfz6jck2l6vj7eaul2sgxxqalzuiyl2rcu7zwem5g7ra\n"
     ]
    }
   ],
   "source": [
    "# save to the Model Catalog\n",
    "\n",
    "MODEL_NAME = \"employee-attr-lgbm-adstuner-nov01\"\n",
    "model_id = sklearn_model.save(display_name=MODEL_NAME)\n",
    "\n",
    "print(f\"Model id in Model Catalog is {model_id}\")"
   ]
  },
  {
   "cell_type": "markdown",
   "id": "76dce980",
   "metadata": {},
   "source": [
    "### Deploy it as a REST service"
   ]
  },
  {
   "cell_type": "code",
   "execution_count": 37,
   "id": "8b2e6366",
   "metadata": {},
   "outputs": [
    {
     "data": {
      "text/html": [
       "<div>\n",
       "<style scoped>\n",
       "    .dataframe tbody tr th:only-of-type {\n",
       "        vertical-align: middle;\n",
       "    }\n",
       "\n",
       "    .dataframe tbody tr th {\n",
       "        vertical-align: top;\n",
       "    }\n",
       "\n",
       "    .dataframe thead th {\n",
       "        text-align: right;\n",
       "    }\n",
       "</style>\n",
       "<table border=\"1\" class=\"dataframe\">\n",
       "  <thead>\n",
       "    <tr style=\"text-align: right;\">\n",
       "      <th></th>\n",
       "      <th></th>\n",
       "      <th></th>\n",
       "      <th>Actions Needed</th>\n",
       "    </tr>\n",
       "    <tr>\n",
       "      <th>Step</th>\n",
       "      <th>Status</th>\n",
       "      <th>Details</th>\n",
       "      <th></th>\n",
       "    </tr>\n",
       "  </thead>\n",
       "  <tbody>\n",
       "    <tr>\n",
       "      <th>initiate</th>\n",
       "      <th>Done</th>\n",
       "      <th>Initiated the model</th>\n",
       "      <td></td>\n",
       "    </tr>\n",
       "    <tr>\n",
       "      <th rowspan=\"4\" valign=\"top\">prepare()</th>\n",
       "      <th rowspan=\"4\" valign=\"top\">Done</th>\n",
       "      <th>Generated runtime.yaml</th>\n",
       "      <td></td>\n",
       "    </tr>\n",
       "    <tr>\n",
       "      <th>Generated score.py</th>\n",
       "      <td></td>\n",
       "    </tr>\n",
       "    <tr>\n",
       "      <th>Serialized model</th>\n",
       "      <td></td>\n",
       "    </tr>\n",
       "    <tr>\n",
       "      <th>Populated metadata(Custom, Taxonomy and Provenance)</th>\n",
       "      <td></td>\n",
       "    </tr>\n",
       "    <tr>\n",
       "      <th>verify()</th>\n",
       "      <th>Done</th>\n",
       "      <th>Local tested .predict from score.py</th>\n",
       "      <td></td>\n",
       "    </tr>\n",
       "    <tr>\n",
       "      <th rowspan=\"2\" valign=\"top\">save()</th>\n",
       "      <th rowspan=\"2\" valign=\"top\">Done</th>\n",
       "      <th>Conducted Introspect Test</th>\n",
       "      <td></td>\n",
       "    </tr>\n",
       "    <tr>\n",
       "      <th>Uploaded artifact to model catalog</th>\n",
       "      <td></td>\n",
       "    </tr>\n",
       "    <tr>\n",
       "      <th>deploy()</th>\n",
       "      <th>Available</th>\n",
       "      <th>Deployed the model</th>\n",
       "      <td></td>\n",
       "    </tr>\n",
       "    <tr>\n",
       "      <th>predict()</th>\n",
       "      <th>Not Available</th>\n",
       "      <th>Called deployment predict endpoint</th>\n",
       "      <td></td>\n",
       "    </tr>\n",
       "  </tbody>\n",
       "</table>\n",
       "</div>"
      ],
      "text/plain": [
       "                                                                            Actions Needed\n",
       "Step      Status        Details                                                           \n",
       "initiate  Done          Initiated the model                                               \n",
       "prepare() Done          Generated runtime.yaml                                            \n",
       "                        Generated score.py                                                \n",
       "                        Serialized model                                                  \n",
       "                        Populated metadata(Custom, Taxonomy and Provenance)               \n",
       "verify()  Done          Local tested .predict from score.py                               \n",
       "save()    Done          Conducted Introspect Test                                         \n",
       "                        Uploaded artifact to model catalog                                \n",
       "deploy()  Available     Deployed the model                                                \n",
       "predict() Not Available Called deployment predict endpoint                                "
      ]
     },
     "execution_count": 37,
     "metadata": {},
     "output_type": "execute_result"
    }
   ],
   "source": [
    "sklearn_model.summary_status()"
   ]
  },
  {
   "cell_type": "code",
   "execution_count": 47,
   "id": "e916b05e",
   "metadata": {},
   "outputs": [
    {
     "data": {
      "application/vnd.jupyter.widget-view+json": {
       "model_id": "",
       "version_major": 2,
       "version_minor": 0
      },
      "text/plain": [
       "loop1:   0%|          | 0/6 [00:00<?, ?it/s]"
      ]
     },
     "metadata": {},
     "output_type": "display_data"
    },
    {
     "data": {
      "text/plain": [
       "<ads.model.deployment.model_deployment.ModelDeployment at 0x7f1a84e3f810>"
      ]
     },
     "execution_count": 47,
     "metadata": {},
     "output_type": "execute_result"
    }
   ],
   "source": [
    "LOG_GROUP_OCID = \"ocid1.loggroup.oc1.eu-milan-1.amaaaaaangencdyagu7uraoiy44qxhvmhiacvmhgftlxbnhdcckigcp5yhxq\"\n",
    "ACCESS_LOG_OCID = \"ocid1.log.oc1.eu-milan-1.amaaaaaangencdya4ex76jarx2ub5lodoxftqdomdcgpehtpa2tgqjz2nwpa\"\n",
    "PREDICT_LOG_OCID = \"ocid1.log.oc1.eu-milan-1.amaaaaaangencdyaxuovu4gaomizq47qwsh3ofda3wtun5f7jjucncao4x3q\"\n",
    "\n",
    "sklearn_model.deploy(deployment_instance_shape=\"VM.Standard2.4\",\n",
    "                    display_name=\"employee-attr-lgbm-adstuner05-ott-deploy2\",\n",
    "                    deployment_instance_count=1,\n",
    "                    deployment_log_group_id=LOG_GROUP_OCID,\n",
    "                    deployment_predict_log_id=PREDICT_LOG_OCID,\n",
    "                    deployment_access_log_id=ACCESS_LOG_OCID)"
   ]
  },
  {
   "cell_type": "code",
   "execution_count": null,
   "id": "f3a89654",
   "metadata": {},
   "outputs": [],
   "source": [
    "sklearn_model.summary_status()"
   ]
  },
  {
   "cell_type": "code",
   "execution_count": null,
   "id": "1ed1007b",
   "metadata": {},
   "outputs": [],
   "source": []
  }
 ],
 "metadata": {
  "kernelspec": {
   "display_name": "Python [conda env:mygeneralml_p37_cpu_v1_0]",
   "language": "python",
   "name": "conda-env-mygeneralml_p37_cpu_v1_0-py"
  },
  "language_info": {
   "codemirror_mode": {
    "name": "ipython",
    "version": 3
   },
   "file_extension": ".py",
   "mimetype": "text/x-python",
   "name": "python",
   "nbconvert_exporter": "python",
   "pygments_lexer": "ipython3",
   "version": "3.7.12"
  }
 },
 "nbformat": 4,
 "nbformat_minor": 5
}
