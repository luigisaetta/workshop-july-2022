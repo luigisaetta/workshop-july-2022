{
 "cells": [
  {
   "cell_type": "markdown",
   "id": "f1b1fba4",
   "metadata": {},
   "source": [
    "### Test model deployment\n",
    "\n",
    "In this NB we do a set of detailed test on the code used in the Model Deployment."
   ]
  },
  {
   "cell_type": "code",
   "execution_count": 1,
   "id": "2470c3c0",
   "metadata": {},
   "outputs": [],
   "source": [
    "import os\n",
    "import requests\n",
    "import oci\n",
    "from oci.signer import Signer\n",
    "\n",
    "from sklearn.model_selection import train_test_split\n",
    "\n",
    "import pandas as pd\n",
    "\n",
    "import ads\n",
    "from ads.dataset.factory import DatasetFactory"
   ]
  },
  {
   "cell_type": "code",
   "execution_count": 2,
   "id": "0cfd9637",
   "metadata": {},
   "outputs": [
    {
     "name": "stderr",
     "output_type": "stream",
     "text": [
      "WARNING:root:~/.oci/config file not exists, default value oci.config.DEFAULT_LOCATION used instead\n"
     ]
    }
   ],
   "source": [
    "ads.set_auth(auth='resource_principal')\n",
    "\n",
    "auth = oci.auth.signers.get_resource_principals_signer()"
   ]
  },
  {
   "cell_type": "markdown",
   "id": "9b2db94a",
   "metadata": {},
   "source": [
    "### Ovviamente,, carichiamo i dati per i test"
   ]
  },
  {
   "cell_type": "code",
   "execution_count": 3,
   "id": "2e4220f4",
   "metadata": {},
   "outputs": [],
   "source": [
    "def load_as_dataframe(path):\n",
    "    ds = DatasetFactory.open(path,\n",
    "                             target=\"Attrition\").set_positive_class('Yes')\n",
    "\n",
    "    ds_up = ds.up_sample()\n",
    "\n",
    "    # drop unneeded columns\n",
    "    cols_to_drop = ['Directs','name', 'Over18','WeeklyWorkedHours','EmployeeNumber']\n",
    "\n",
    "    ds_used = ds_up.drop(columns=cols_to_drop)\n",
    "    \n",
    "    df_used = ds_used.to_pandas()\n",
    "    \n",
    "    \n",
    "\n",
    "    # train, test split (lo faccio direttamente sui dataframe)\n",
    "    df_train, df_test = train_test_split(df_used, shuffle=True, test_size=0.2, random_state = 1234)\n",
    "\n",
    "    print(\"# of samples in train set\", df_train.shape[0])\n",
    "    print(\"# of samples in test set\", df_test.shape[0])\n",
    "    \n",
    "    return df_train, df_test"
   ]
  },
  {
   "cell_type": "code",
   "execution_count": 4,
   "id": "dc9ead86",
   "metadata": {},
   "outputs": [
    {
     "data": {
      "application/vnd.jupyter.widget-view+json": {
       "model_id": "e3656564b8be4e9c8fde996249e1e657",
       "version_major": 2,
       "version_minor": 0
      },
      "text/plain": [
       "loop1:   0%|          | 0/4 [00:00<?, ?it/s]"
      ]
     },
     "metadata": {},
     "output_type": "display_data"
    },
    {
     "name": "stdout",
     "output_type": "stream",
     "text": [
      "# of samples in train set 1972\n",
      "# of samples in test set 494\n"
     ]
    }
   ],
   "source": [
    "# load the dataset and do upsampling\n",
    "TARGET = 'Attrition'\n",
    "\n",
    "attrition_path = \"/opt/notebooks/ads-examples/oracle_data/orcl_attrition.csv\"\n",
    "\n",
    "# ritorna un dataset su cui è stato fatto l'upsampling\n",
    "df_train, df_test = load_as_dataframe(attrition_path)"
   ]
  },
  {
   "cell_type": "code",
   "execution_count": 5,
   "id": "6286b8df",
   "metadata": {},
   "outputs": [],
   "source": [
    "X_train, y_train = df_train.drop([TARGET], axis=1), df_train[TARGET]\n",
    "X_test, y_test = df_test.drop([TARGET], axis=1), df_test[TARGET]"
   ]
  },
  {
   "cell_type": "markdown",
   "id": "29d9e9b7",
   "metadata": {},
   "source": [
    "### Definiamo l'insieme di dati di input per il test"
   ]
  },
  {
   "cell_type": "code",
   "execution_count": 9,
   "id": "35918938",
   "metadata": {},
   "outputs": [
    {
     "data": {
      "text/plain": [
       "'{\"Age\":{\"1204\":49,\"1681\":20,\"248\":38,\"2305\":35,\"441\":43,\"2360\":49,\"1925\":31,\"2192\":30,\"142\":39,\"852\":30,\"27\":43,\"1496\":34,\"208\":41,\"1452\":51,\"320\":28,\"2414\":35,\"1969\":31,\"1435\":45,\"454\":30,\"1178\":21},\"TravelForWork\":{\"1204\":\"often\",\"1681\":\"infrequent\",\"248\":\"infrequent\",\"2305\":\"none\",\"441\":\"often\",\"2360\":\"infrequent\",\"1925\":\"infrequent\",\"2192\":\"infrequent\",\"142\":\"infrequent\",\"852\":\"infrequent\",\"27\":\"infrequent\",\"1496\":\"infrequent\",\"208\":\"none\",\"1452\":\"often\",\"320\":\"infrequent\",\"2414\":\"none\",\"1969\":\"often\",\"1435\":\"infrequent\",\"454\":\"infrequent\",\"1178\":\"infrequent\"},\"SalaryLevel\":{\"1204\":3246,\"1681\":1388,\"248\":4664,\"2305\":6246,\"441\":6760,\"2360\":2870,\"1925\":632,\"2192\":1026,\"142\":1668,\"852\":6426,\"27\":3168,\"1496\":3728,\"208\":5278,\"1452\":4026,\"320\":6316,\"2414\":4434,\"1969\":2128,\"1435\":4756,\"454\":1064,\"1178\":5232},\"JobFunction\":{\"1204\":\"Product Management\",\"1681\":\"Software Developer\",\"248\":\"Software Developer\",\"2305\":\"Product Management\",\"441\":\"Software Developer\",\"2360\":\"Software Developer\",\"1925\":\"Software Developer\",\"2192\":\"Software Developer\",\"142\":\"Software Developer\",\"852\":\"Software Developer\",\"27\":\"Product Management\",\"1496\":\"Software Developer\",\"208\":\"Software Developer\",\"1452\":\"Product Management\",\"320\":\"Product Management\",\"2414\":\"Software Developer\",\"1969\":\"Software Developer\",\"1435\":\"Software Developer\",\"454\":\"Software Developer\",\"1178\":\"Product Management\"},\"CommuteLength\":{\"1204\":8,\"1681\":3,\"248\":2,\"2305\":20,\"441\":6,\"2360\":2,\"1925\":23,\"2192\":2,\"142\":4,\"852\":7,\"27\":9,\"1496\":15,\"208\":10,\"1452\":2,\"320\":3,\"2414\":17,\"1969\":5,\"1435\":2,\"454\":20,\"1178\":3},\"EducationalLevel\":{\"1204\":\"L2\",\"1681\":\"L3\",\"248\":\"L2\",\"2305\":\"L3\",\"441\":\"L2\",\"2360\":\"L2\",\"1925\":\"L3\",\"2192\":\"L4\",\"142\":\"L5\",\"852\":\"L1\",\"27\":\"L4\",\"1496\":\"L3\",\"208\":\"L5\",\"1452\":\"L4\",\"320\":\"L3\",\"2414\":\"L4\",\"1969\":\"L3\",\"1435\":\"L3\",\"454\":\"L3\",\"1178\":\"L3\"},\"EducationField\":{\"1204\":\"Medical\",\"1681\":\"Life Sciences\",\"248\":\"Medical\",\"2305\":\"Marketing\",\"441\":\"Other\",\"2360\":\"Life Sciences\",\"1925\":\"Life Sciences\",\"2192\":\"Technical Degree\",\"142\":\"Technical Degree\",\"852\":\"Medical\",\"27\":\"Marketing\",\"1496\":\"Medical\",\"208\":\"Life Sciences\",\"1452\":\"Life Sciences\",\"320\":\"Life Sciences\",\"2414\":\"Technical Degree\",\"1969\":\"Technical Degree\",\"1435\":\"Medical\",\"454\":\"Technical Degree\",\"1178\":\"Medical\"},\"EnvironmentSatisfaction\":{\"1204\":4,\"1681\":2,\"248\":3,\"2305\":1,\"441\":2,\"2360\":1,\"1925\":1,\"2192\":1,\"142\":4,\"852\":2,\"27\":3,\"1496\":3,\"208\":4,\"1452\":2,\"320\":4,\"2414\":4,\"1969\":3,\"1435\":2,\"454\":4,\"1178\":3},\"Gender\":{\"1204\":\"Female\",\"1681\":\"Male\",\"248\":\"Female\",\"2305\":\"Male\",\"441\":\"Male\",\"2360\":\"Male\",\"1925\":\"Female\",\"2192\":\"Male\",\"142\":\"Female\",\"852\":\"Female\",\"27\":\"Male\",\"1496\":\"Male\",\"208\":\"Male\",\"1452\":\"Male\",\"320\":\"Male\",\"2414\":\"Male\",\"1969\":\"Male\",\"1435\":\"Male\",\"454\":\"Male\",\"1178\":\"Female\"},\"HourlyRate\":{\"1204\":95,\"1681\":47,\"248\":83,\"2305\":67,\"441\":97,\"2360\":98,\"1925\":48,\"2192\":100,\"142\":32,\"852\":54,\"27\":48,\"1496\":58,\"208\":63,\"1452\":94,\"320\":74,\"2414\":85,\"1969\":40,\"1435\":42,\"454\":34,\"1178\":31},\"JobInvolvement\":{\"1204\":3,\"1681\":2,\"248\":2,\"2305\":4,\"441\":3,\"2360\":2,\"1925\":3,\"2192\":2,\"142\":3,\"852\":3,\"27\":3,\"1496\":3,\"208\":2,\"1452\":3,\"320\":3,\"2414\":1,\"1969\":3,\"1435\":3,\"454\":3,\"1178\":3},\"JobLevel\":{\"1204\":1,\"1681\":1,\"248\":1,\"2305\":2,\"441\":1,\"2360\":3,\"1925\":1,\"2192\":1,\"142\":2,\"852\":1,\"27\":2,\"1496\":1,\"208\":2,\"1452\":2,\"320\":2,\"2414\":1,\"1969\":1,\"1435\":1,\"454\":2,\"1178\":1},\"JobRole\":{\"1204\":\"Sales Representative\",\"1681\":\"Laboratory Technician\",\"248\":\"Research Scientist\",\"2305\":\"Sales Executive\",\"441\":\"Laboratory Technician\",\"2360\":\"Laboratory Technician\",\"1925\":\"Research Scientist\",\"2192\":\"Research Scientist\",\"142\":\"Research Scientist\",\"852\":\"Laboratory Technician\",\"27\":\"Sales Executive\",\"1496\":\"Laboratory Technician\",\"208\":\"Healthcare Representative\",\"1452\":\"Sales Executive\",\"320\":\"Sales Executive\",\"2414\":\"Research Scientist\",\"1969\":\"Research Scientist\",\"1435\":\"Research Scientist\",\"454\":\"Manufacturing Director\",\"1178\":\"Sales Representative\"},\"JobSatisfaction\":{\"1204\":3,\"1681\":4,\"248\":1,\"2305\":4,\"441\":3,\"2360\":3,\"1925\":3,\"2192\":1,\"142\":3,\"852\":4,\"27\":2,\"1496\":4,\"208\":4,\"1452\":3,\"320\":3,\"2414\":1,\"1969\":4,\"1435\":4,\"454\":4,\"1178\":3},\"MaritalStatus\":{\"1204\":\"Married\",\"1681\":\"Single\",\"248\":\"Married\",\"2305\":\"Single\",\"441\":\"Married\",\"2360\":\"Single\",\"1925\":\"Married\",\"2192\":\"Single\",\"142\":\"Single\",\"852\":\"Married\",\"27\":\"Married\",\"1496\":\"Married\",\"208\":\"Married\",\"1452\":\"Divorced\",\"320\":\"Single\",\"2414\":\"Married\",\"1969\":\"Single\",\"1435\":\"Single\",\"454\":\"Divorced\",\"1178\":\"Single\"},\"MonthlyIncome\":{\"1204\":2655,\"1681\":1102,\"248\":3920,\"2305\":5304,\"441\":2093,\"2360\":5381,\"1925\":2132,\"2192\":2362,\"142\":4317,\"852\":3131,\"27\":6825,\"1496\":2436,\"208\":4876,\"1452\":6728,\"320\":4478,\"2414\":2307,\"1969\":2285,\"1435\":2436,\"454\":4262,\"1178\":2783},\"MonthlyRate\":{\"1204\":11740,\"1681\":9241,\"248\":18697,\"2305\":4652,\"441\":9260,\"2360\":19294,\"1925\":11539,\"2192\":7568,\"142\":2302,\"852\":26342,\"27\":21173,\"1496\":22149,\"208\":14242,\"1452\":14255,\"320\":5242,\"2414\":14460,\"1969\":3427,\"1435\":13422,\"454\":22645,\"1178\":13251},\"NumCompaniesWorked\":{\"1204\":2,\"1681\":1,\"248\":2,\"2305\":8,\"441\":4,\"2360\":9,\"1925\":4,\"2192\":6,\"142\":3,\"852\":1,\"27\":0,\"1496\":5,\"208\":9,\"1452\":7,\"320\":1,\"2414\":1,\"1969\":9,\"1435\":6,\"454\":4,\"1178\":1},\"OverTime\":{\"1204\":\"Yes\",\"1681\":\"No\",\"248\":\"No\",\"2305\":\"Yes\",\"441\":\"No\",\"2360\":\"Yes\",\"1925\":\"Yes\",\"2192\":\"No\",\"142\":\"Yes\",\"852\":\"No\",\"27\":\"No\",\"1496\":\"Yes\",\"208\":\"No\",\"1452\":\"No\",\"320\":\"Yes\",\"2414\":\"Yes\",\"1969\":\"Yes\",\"1435\":\"Yes\",\"454\":\"No\",\"1178\":\"No\"},\"PercentSalaryHike\":{\"1204\":11,\"1681\":22,\"248\":14,\"2305\":13,\"441\":17,\"2360\":13,\"1925\":11,\"2192\":13,\"142\":20,\"852\":13,\"27\":11,\"1496\":13,\"208\":14,\"1452\":12,\"320\":11,\"2414\":23,\"1969\":23,\"1435\":12,\"454\":12,\"1178\":19},\"PerformanceRating\":{\"1204\":3,\"1681\":4,\"248\":3,\"2305\":3,\"441\":3,\"2360\":3,\"1925\":3,\"2192\":3,\"142\":4,\"852\":3,\"27\":3,\"1496\":3,\"208\":3,\"1452\":3,\"320\":3,\"2414\":4,\"1969\":4,\"1435\":3,\"454\":3,\"1178\":3},\"RelationshipSatisfaction\":{\"1204\":3,\"1681\":3,\"248\":1,\"2305\":2,\"441\":4,\"2360\":4,\"1925\":2,\"2192\":3,\"142\":2,\"852\":1,\"27\":4,\"1496\":3,\"208\":4,\"1452\":4,\"320\":1,\"2414\":2,\"1969\":3,\"1435\":3,\"454\":2,\"1178\":1},\"StockOptionLevel\":{\"1204\":2,\"1681\":0,\"248\":1,\"2305\":0,\"441\":1,\"2360\":0,\"1925\":0,\"2192\":0,\"142\":0,\"852\":1,\"27\":1,\"1496\":1,\"208\":1,\"1452\":2,\"320\":0,\"2414\":1,\"1969\":0,\"1435\":0,\"454\":2,\"1178\":0},\"YearsinIndustry\":{\"1204\":19,\"1681\":1,\"248\":17,\"2305\":9,\"441\":8,\"2360\":23,\"1925\":7,\"2192\":11,\"142\":19,\"852\":10,\"27\":10,\"1496\":8,\"208\":5,\"1452\":12,\"320\":5,\"2414\":5,\"1969\":3,\"1435\":6,\"454\":8,\"1178\":2},\"TrainingTimesLastYear\":{\"1204\":3,\"1681\":3,\"248\":2,\"2305\":3,\"441\":4,\"2360\":2,\"1925\":2,\"2192\":2,\"142\":2,\"852\":5,\"27\":2,\"1496\":2,\"208\":5,\"1452\":3,\"320\":3,\"2414\":2,\"1969\":4,\"1435\":2,\"454\":2,\"1178\":3},\"WorkLifeBalance\":{\"1204\":3,\"1681\":2,\"248\":2,\"2305\":2,\"441\":3,\"2360\":3,\"1925\":3,\"2192\":1,\"142\":3,\"852\":3,\"27\":3,\"1496\":1,\"208\":1,\"1452\":3,\"320\":3,\"2414\":3,\"1969\":3,\"1435\":3,\"454\":4,\"1178\":3},\"YearsOnJob\":{\"1204\":9,\"1681\":1,\"248\":3,\"2305\":5,\"441\":2,\"2360\":1,\"1925\":5,\"2192\":9,\"142\":3,\"852\":10,\"27\":9,\"1496\":5,\"208\":3,\"1452\":6,\"320\":5,\"2414\":5,\"1969\":1,\"1435\":4,\"454\":3,\"1178\":2},\"YearsAtCurrentLevel\":{\"1204\":7,\"1681\":0,\"248\":1,\"2305\":2,\"441\":2,\"2360\":0,\"1925\":2,\"2192\":7,\"142\":2,\"852\":8,\"27\":7,\"1496\":4,\"208\":2,\"1452\":3,\"320\":4,\"2414\":2,\"1969\":0,\"1435\":3,\"454\":2,\"1178\":2},\"YearsSinceLastPromotion\":{\"1204\":7,\"1681\":1,\"248\":0,\"2305\":0,\"441\":2,\"2360\":0,\"1925\":0,\"2192\":0,\"142\":2,\"852\":0,\"27\":4,\"1496\":0,\"208\":0,\"1452\":0,\"320\":0,\"2414\":3,\"1969\":0,\"1435\":1,\"454\":1,\"1178\":2},\"YearsWithCurrManager\":{\"1204\":7,\"1681\":0,\"248\":2,\"2305\":4,\"441\":0,\"2360\":0,\"1925\":1,\"2192\":7,\"142\":2,\"852\":8,\"27\":2,\"1496\":4,\"208\":2,\"1452\":1,\"320\":4,\"2414\":0,\"1969\":0,\"1435\":2,\"454\":2,\"1178\":2}}'"
      ]
     },
     "execution_count": 9,
     "metadata": {},
     "output_type": "execute_result"
    }
   ],
   "source": [
    "# è fondamentale che input_data sia serializzabile !!!\n",
    "\n",
    "N_ROWS = 20\n",
    "\n",
    "input_data = X_test[:N_ROWS].to_json()\n",
    "\n",
    "input_data"
   ]
  },
  {
   "cell_type": "markdown",
   "id": "fb5c4023",
   "metadata": {},
   "source": [
    "### Come fare i test passo passo"
   ]
  },
  {
   "cell_type": "code",
   "execution_count": 32,
   "id": "06b976ec",
   "metadata": {},
   "outputs": [
    {
     "name": "stdout",
     "output_type": "stream",
     "text": [
      "The autoreload extension is already loaded. To reload it, use:\n",
      "  %reload_ext autoreload\n"
     ]
    }
   ],
   "source": [
    "%load_ext autoreload\n",
    "%autoreload 2\n",
    "\n",
    "# le due istruzioni sopra sono fondamentali per caricare l'ultima versione di score.py\n",
    "\n",
    "# importare score.py\n",
    "from model_dir.score import *"
   ]
  },
  {
   "cell_type": "code",
   "execution_count": 33,
   "id": "e2488601",
   "metadata": {},
   "outputs": [
    {
     "name": "stdout",
     "output_type": "stream",
     "text": [
      "Controllo OK\n"
     ]
    }
   ],
   "source": [
    "# passare un oggetto \"serializzabile\"\n",
    "\n",
    "# dataframe non lo è\n",
    "# numpy non lo è\n",
    "\n",
    "# controlliamo il tipo che passiamo\n",
    "assert type(input_data) == str\n",
    "\n",
    "print(\"Controllo OK\")"
   ]
  },
  {
   "cell_type": "code",
   "execution_count": 34,
   "id": "0040955d",
   "metadata": {},
   "outputs": [
    {
     "name": "stdout",
     "output_type": "stream",
     "text": [
      "Start loading model.joblib from model directory /home/datascience/workshop-july-2022/model_dir ...\n",
      "Model is successfully loaded.\n"
     ]
    }
   ],
   "source": [
    "# carichiamo il modello\n",
    "\n",
    "model = load_model(model_file_name=\"model.joblib\")"
   ]
  },
  {
   "cell_type": "code",
   "execution_count": 35,
   "id": "c1eaa9a3",
   "metadata": {},
   "outputs": [
    {
     "data": {
      "text/plain": [
       "[('preprocessor',\n",
       "  ColumnTransformer(transformers=[('num',\n",
       "                                   Pipeline(steps=[('imputer', SimpleImputer()),\n",
       "                                                   ('standard_scaler',\n",
       "                                                    StandardScaler())]),\n",
       "                                   ['Age', 'SalaryLevel', 'CommuteLength',\n",
       "                                    'HourlyRate', 'MonthlyIncome', 'MonthlyRate',\n",
       "                                    'NumCompaniesWorked', 'PercentSalaryHike',\n",
       "                                    'YearsinIndustry', 'YearsOnJob',\n",
       "                                    'YearsAtCurrentLevel',\n",
       "                                    'YearsSinceLastPromotion',\n",
       "                                    'YearsWithCurrManager']),\n",
       "                                  ('c...\n",
       "                                                    OrdinalEncoder(handle_unknown='use_encoded_value',\n",
       "                                                                   unknown_value=-1))]),\n",
       "                                   ['TravelForWork', 'JobFunction',\n",
       "                                    'EducationalLevel', 'EducationField',\n",
       "                                    'EnvironmentSatisfaction', 'Gender',\n",
       "                                    'JobInvolvement', 'JobLevel', 'JobRole',\n",
       "                                    'JobSatisfaction', 'MaritalStatus',\n",
       "                                    'OverTime', 'PerformanceRating',\n",
       "                                    'RelationshipSatisfaction',\n",
       "                                    'StockOptionLevel', 'TrainingTimesLastYear',\n",
       "                                    'WorkLifeBalance'])])),\n",
       " ('clf',\n",
       "  LGBMClassifier(categorical_feature=[1, 3, 5, 6, 7, 8, 10, 11, 12, 13, 14, 18,\n",
       "                                      20, 21, 22, 24, 25],\n",
       "                 colsample_bytree=0.6662807010605473,\n",
       "                 learning_rate=0.3956180945076651, max_depth=5, n_estimators=123,\n",
       "                 subsample=0.8643855674715297))]"
      ]
     },
     "execution_count": 35,
     "metadata": {},
     "output_type": "execute_result"
    }
   ],
   "source": [
    "# controlliamo che sia ok\n",
    "model.steps"
   ]
  },
  {
   "cell_type": "code",
   "execution_count": 36,
   "id": "1af3e803",
   "metadata": {},
   "outputs": [
    {
     "name": "stdout",
     "output_type": "stream",
     "text": [
      "---> deserialize...\n",
      "Input data: {\"Age\":{\"1204\":49,\"1681\":20,\"248\":38,\"2305\":35,\"441\":43,\"2360\":49},\"TravelForWork\":{\"1204\":\"often\",\"1681\":\"infrequent\",\"248\":\"infrequent\",\"2305\":\"none\",\"441\":\"often\",\"2360\":\"infrequent\"},\"SalaryLevel\":{\"1204\":3246,\"1681\":1388,\"248\":4664,\"2305\":6246,\"441\":6760,\"2360\":2870},\"JobFunction\":{\"1204\":\"Product Management\",\"1681\":\"Software Developer\",\"248\":\"Software Developer\",\"2305\":\"Product Management\",\"441\":\"Software Developer\",\"2360\":\"Software Developer\"},\"CommuteLength\":{\"1204\":8,\"1681\":3,\"248\":2,\"2305\":20,\"441\":6,\"2360\":2},\"EducationalLevel\":{\"1204\":\"L2\",\"1681\":\"L3\",\"248\":\"L2\",\"2305\":\"L3\",\"441\":\"L2\",\"2360\":\"L2\"},\"EducationField\":{\"1204\":\"Medical\",\"1681\":\"Life Sciences\",\"248\":\"Medical\",\"2305\":\"Marketing\",\"441\":\"Other\",\"2360\":\"Life Sciences\"},\"EnvironmentSatisfaction\":{\"1204\":4,\"1681\":2,\"248\":3,\"2305\":1,\"441\":2,\"2360\":1},\"Gender\":{\"1204\":\"Female\",\"1681\":\"Male\",\"248\":\"Female\",\"2305\":\"Male\",\"441\":\"Male\",\"2360\":\"Male\"},\"HourlyRate\":{\"1204\":95,\"1681\":47,\"248\":83,\"2305\":67,\"441\":97,\"2360\":98},\"JobInvolvement\":{\"1204\":3,\"1681\":2,\"248\":2,\"2305\":4,\"441\":3,\"2360\":2},\"JobLevel\":{\"1204\":1,\"1681\":1,\"248\":1,\"2305\":2,\"441\":1,\"2360\":3},\"JobRole\":{\"1204\":\"Sales Representative\",\"1681\":\"Laboratory Technician\",\"248\":\"Research Scientist\",\"2305\":\"Sales Executive\",\"441\":\"Laboratory Technician\",\"2360\":\"Laboratory Technician\"},\"JobSatisfaction\":{\"1204\":3,\"1681\":4,\"248\":1,\"2305\":4,\"441\":3,\"2360\":3},\"MaritalStatus\":{\"1204\":\"Married\",\"1681\":\"Single\",\"248\":\"Married\",\"2305\":\"Single\",\"441\":\"Married\",\"2360\":\"Single\"},\"MonthlyIncome\":{\"1204\":2655,\"1681\":1102,\"248\":3920,\"2305\":5304,\"441\":2093,\"2360\":5381},\"MonthlyRate\":{\"1204\":11740,\"1681\":9241,\"248\":18697,\"2305\":4652,\"441\":9260,\"2360\":19294},\"NumCompaniesWorked\":{\"1204\":2,\"1681\":1,\"248\":2,\"2305\":8,\"441\":4,\"2360\":9},\"OverTime\":{\"1204\":\"Yes\",\"1681\":\"No\",\"248\":\"No\",\"2305\":\"Yes\",\"441\":\"No\",\"2360\":\"Yes\"},\"PercentSalaryHike\":{\"1204\":11,\"1681\":22,\"248\":14,\"2305\":13,\"441\":17,\"2360\":13},\"PerformanceRating\":{\"1204\":3,\"1681\":4,\"248\":3,\"2305\":3,\"441\":3,\"2360\":3},\"RelationshipSatisfaction\":{\"1204\":3,\"1681\":3,\"248\":1,\"2305\":2,\"441\":4,\"2360\":4},\"StockOptionLevel\":{\"1204\":2,\"1681\":0,\"248\":1,\"2305\":0,\"441\":1,\"2360\":0},\"YearsinIndustry\":{\"1204\":19,\"1681\":1,\"248\":17,\"2305\":9,\"441\":8,\"2360\":23},\"TrainingTimesLastYear\":{\"1204\":3,\"1681\":3,\"248\":2,\"2305\":3,\"441\":4,\"2360\":2},\"WorkLifeBalance\":{\"1204\":3,\"1681\":2,\"248\":2,\"2305\":2,\"441\":3,\"2360\":3},\"YearsOnJob\":{\"1204\":9,\"1681\":1,\"248\":3,\"2305\":5,\"441\":2,\"2360\":1},\"YearsAtCurrentLevel\":{\"1204\":7,\"1681\":0,\"248\":1,\"2305\":2,\"441\":2,\"2360\":0},\"YearsSinceLastPromotion\":{\"1204\":7,\"1681\":1,\"248\":0,\"2305\":0,\"441\":2,\"2360\":0},\"YearsWithCurrManager\":{\"1204\":7,\"1681\":0,\"248\":2,\"2305\":4,\"441\":0,\"2360\":0}}\n"
     ]
    }
   ],
   "source": [
    "# predict nell'ordine chiama\n",
    "input = pre_inference(input_data, \"model_dir/input_schema.json\")"
   ]
  },
  {
   "cell_type": "code",
   "execution_count": 27,
   "id": "a6ddd3fb",
   "metadata": {},
   "outputs": [
    {
     "name": "stdout",
     "output_type": "stream",
     "text": [
      "Controllo tipo dati input a predict OK\n"
     ]
    }
   ],
   "source": [
    "assert type(input) == pd.core.frame.DataFrame\n",
    "\n",
    "print(\"Controllo tipo dati input a predict OK\")"
   ]
  },
  {
   "cell_type": "code",
   "execution_count": 28,
   "id": "dafcc5e0",
   "metadata": {},
   "outputs": [],
   "source": [
    "yhat = post_inference(model.predict(input))"
   ]
  },
  {
   "cell_type": "code",
   "execution_count": 29,
   "id": "0a4dc390",
   "metadata": {},
   "outputs": [
    {
     "data": {
      "text/plain": [
       "[1, 1, 0, 1, 0, 1]"
      ]
     },
     "execution_count": 29,
     "metadata": {},
     "output_type": "execute_result"
    }
   ],
   "source": [
    "yhat"
   ]
  },
  {
   "cell_type": "code",
   "execution_count": 31,
   "id": "5a287b06",
   "metadata": {},
   "outputs": [
    {
     "data": {
      "text/plain": [
       "array([1, 1, 0, 1, 0, 1])"
      ]
     },
     "execution_count": 31,
     "metadata": {},
     "output_type": "execute_result"
    }
   ],
   "source": [
    "y_test[:N_ROWS].values"
   ]
  },
  {
   "cell_type": "markdown",
   "id": "521d66ca",
   "metadata": {},
   "source": [
    "### Ed ora siamo pronti per invocare il servizio REST (Model Deployment)\n",
    "\n",
    "* notare che usiamo il parametro \"data\" e non \"json\""
   ]
  },
  {
   "cell_type": "code",
   "execution_count": 10,
   "id": "969bcd0d",
   "metadata": {},
   "outputs": [
    {
     "name": "stdout",
     "output_type": "stream",
     "text": [
      "CPU times: user 17 ms, sys: 2.69 ms, total: 19.6 ms\n",
      "Wall time: 121 ms\n"
     ]
    },
    {
     "data": {
      "text/plain": [
       "{'prediction': [1, 1, 0, 1, 0, 1, 1, 1, 0, 0, 0, 1, 0, 1, 0, 1, 1, 1, 0, 0]}"
      ]
     },
     "execution_count": 10,
     "metadata": {},
     "output_type": "execute_result"
    }
   ],
   "source": [
    "%%time\n",
    "\n",
    "#\n",
    "endpoint='https://modeldeployment.eu-milan-1.oci.customer-oci.com/ocid1.datasciencemodeldeployment.oc1.eu-milan-1.amaaaaaangencdyafafaigxeuy6mdg7jycpjcgn7kp3mqyjzwlutjmkgoyeq/predict'\n",
    "\n",
    "# if we want to passa a DataFrame serialize, use the data params of request\n",
    "requests.post(endpoint, data=input_data, auth=auth).json()"
   ]
  },
  {
   "cell_type": "code",
   "execution_count": 11,
   "id": "f4e6b6f5",
   "metadata": {},
   "outputs": [
    {
     "data": {
      "text/plain": [
       "array([1, 1, 0, 1, 0, 1, 1, 1, 0, 0, 0, 1, 0, 1, 0, 1, 1, 0, 0, 0])"
      ]
     },
     "execution_count": 11,
     "metadata": {},
     "output_type": "execute_result"
    }
   ],
   "source": [
    "# compare with expected values\n",
    "y_test[0:N_ROWS].values"
   ]
  },
  {
   "cell_type": "code",
   "execution_count": null,
   "id": "8a06afc4",
   "metadata": {},
   "outputs": [],
   "source": []
  }
 ],
 "metadata": {
  "kernelspec": {
   "display_name": "Python [conda env:mygeneralml_p37_cpu_v1_0]",
   "language": "python",
   "name": "conda-env-mygeneralml_p37_cpu_v1_0-py"
  },
  "language_info": {
   "codemirror_mode": {
    "name": "ipython",
    "version": 3
   },
   "file_extension": ".py",
   "mimetype": "text/x-python",
   "name": "python",
   "nbconvert_exporter": "python",
   "pygments_lexer": "ipython3",
   "version": "3.7.12"
  }
 },
 "nbformat": 4,
 "nbformat_minor": 5
}
