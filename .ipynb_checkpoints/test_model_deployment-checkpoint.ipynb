{
 "cells": [
  {
   "cell_type": "markdown",
   "id": "c123541c",
   "metadata": {},
   "source": [
    "### Test model deployment\n",
    "\n",
    "In this NB we do a set of detailed test on the code used in the Model Deployment."
   ]
  },
  {
   "cell_type": "code",
   "execution_count": 1,
   "id": "d5b5b70e",
   "metadata": {},
   "outputs": [],
   "source": [
    "import os\n",
    "import requests\n",
    "import oci\n",
    "from oci.signer import Signer\n",
    "\n",
    "from sklearn.model_selection import train_test_split\n",
    "\n",
    "import pandas as pd\n",
    "\n",
    "import ads\n",
    "from ads.dataset.factory import DatasetFactory"
   ]
  },
  {
   "cell_type": "code",
   "execution_count": 2,
   "id": "8519e6b6",
   "metadata": {},
   "outputs": [
    {
     "name": "stderr",
     "output_type": "stream",
     "text": [
      "WARNING:root:~/.oci/config file not exists, default value oci.config.DEFAULT_LOCATION used instead\n"
     ]
    }
   ],
   "source": [
    "ads.set_auth(auth='resource_principal')\n",
    "\n",
    "auth = oci.auth.signers.get_resource_principals_signer()"
   ]
  },
  {
   "cell_type": "markdown",
   "id": "6948275c",
   "metadata": {},
   "source": [
    "### Ovviamente,, carichiamo i dati per i test"
   ]
  },
  {
   "cell_type": "code",
   "execution_count": 3,
   "id": "b49ed1d4",
   "metadata": {},
   "outputs": [],
   "source": [
    "def load_as_dataframe(path):\n",
    "    ds = DatasetFactory.open(path,\n",
    "                             target=\"Attrition\").set_positive_class('Yes')\n",
    "\n",
    "    ds_up = ds.up_sample()\n",
    "\n",
    "    # drop unneeded columns\n",
    "    cols_to_drop = ['Directs','name', 'Over18','WeeklyWorkedHours','EmployeeNumber']\n",
    "\n",
    "    ds_used = ds_up.drop(columns=cols_to_drop)\n",
    "    \n",
    "    df_used = ds_used.to_pandas()\n",
    "    \n",
    "    \n",
    "\n",
    "    # train, test split (lo faccio direttamente sui dataframe)\n",
    "    df_train, df_test = train_test_split(df_used, shuffle=True, test_size=0.2, random_state = 1234)\n",
    "\n",
    "    print(\"# of samples in train set\", df_train.shape[0])\n",
    "    print(\"# of samples in test set\", df_test.shape[0])\n",
    "    \n",
    "    return df_train, df_test"
   ]
  },
  {
   "cell_type": "code",
   "execution_count": 4,
   "id": "b445cd89",
   "metadata": {},
   "outputs": [
    {
     "data": {
      "application/vnd.jupyter.widget-view+json": {
       "model_id": "ef58ff8c9506415db4c7204fead195f7",
       "version_major": 2,
       "version_minor": 0
      },
      "text/plain": [
       "loop1:   0%|          | 0/4 [00:00<?, ?it/s]"
      ]
     },
     "metadata": {},
     "output_type": "display_data"
    },
    {
     "name": "stdout",
     "output_type": "stream",
     "text": [
      "# of samples in train set 1972\n",
      "# of samples in test set 494\n"
     ]
    }
   ],
   "source": [
    "# load the dataset and do upsampling\n",
    "TARGET = 'Attrition'\n",
    "\n",
    "attrition_path = \"/opt/notebooks/ads-examples/oracle_data/orcl_attrition.csv\"\n",
    "\n",
    "# ritorna un dataset su cui è stato fatto l'upsampling\n",
    "df_train, df_test = load_as_dataframe(attrition_path)"
   ]
  },
  {
   "cell_type": "code",
   "execution_count": 5,
   "id": "c0e12dc8",
   "metadata": {},
   "outputs": [],
   "source": [
    "X_train, y_train = df_train.drop([TARGET], axis=1), df_train[TARGET]\n",
    "X_test, y_test = df_test.drop([TARGET], axis=1), df_test[TARGET]"
   ]
  },
  {
   "cell_type": "markdown",
   "id": "443ff723",
   "metadata": {},
   "source": [
    "### Definiamo l'insieme di dati di input per il test"
   ]
  },
  {
   "cell_type": "code",
   "execution_count": 21,
   "id": "405395ac",
   "metadata": {},
   "outputs": [
    {
     "data": {
      "text/plain": [
       "'{\"Age\":{\"1204\":49,\"1681\":20,\"248\":38,\"2305\":35,\"441\":43,\"2360\":49},\"TravelForWork\":{\"1204\":\"often\",\"1681\":\"infrequent\",\"248\":\"infrequent\",\"2305\":\"none\",\"441\":\"often\",\"2360\":\"infrequent\"},\"SalaryLevel\":{\"1204\":3246,\"1681\":1388,\"248\":4664,\"2305\":6246,\"441\":6760,\"2360\":2870},\"JobFunction\":{\"1204\":\"Product Management\",\"1681\":\"Software Developer\",\"248\":\"Software Developer\",\"2305\":\"Product Management\",\"441\":\"Software Developer\",\"2360\":\"Software Developer\"},\"CommuteLength\":{\"1204\":8,\"1681\":3,\"248\":2,\"2305\":20,\"441\":6,\"2360\":2},\"EducationalLevel\":{\"1204\":\"L2\",\"1681\":\"L3\",\"248\":\"L2\",\"2305\":\"L3\",\"441\":\"L2\",\"2360\":\"L2\"},\"EducationField\":{\"1204\":\"Medical\",\"1681\":\"Life Sciences\",\"248\":\"Medical\",\"2305\":\"Marketing\",\"441\":\"Other\",\"2360\":\"Life Sciences\"},\"EnvironmentSatisfaction\":{\"1204\":4,\"1681\":2,\"248\":3,\"2305\":1,\"441\":2,\"2360\":1},\"Gender\":{\"1204\":\"Female\",\"1681\":\"Male\",\"248\":\"Female\",\"2305\":\"Male\",\"441\":\"Male\",\"2360\":\"Male\"},\"HourlyRate\":{\"1204\":95,\"1681\":47,\"248\":83,\"2305\":67,\"441\":97,\"2360\":98},\"JobInvolvement\":{\"1204\":3,\"1681\":2,\"248\":2,\"2305\":4,\"441\":3,\"2360\":2},\"JobLevel\":{\"1204\":1,\"1681\":1,\"248\":1,\"2305\":2,\"441\":1,\"2360\":3},\"JobRole\":{\"1204\":\"Sales Representative\",\"1681\":\"Laboratory Technician\",\"248\":\"Research Scientist\",\"2305\":\"Sales Executive\",\"441\":\"Laboratory Technician\",\"2360\":\"Laboratory Technician\"},\"JobSatisfaction\":{\"1204\":3,\"1681\":4,\"248\":1,\"2305\":4,\"441\":3,\"2360\":3},\"MaritalStatus\":{\"1204\":\"Married\",\"1681\":\"Single\",\"248\":\"Married\",\"2305\":\"Single\",\"441\":\"Married\",\"2360\":\"Single\"},\"MonthlyIncome\":{\"1204\":2655,\"1681\":1102,\"248\":3920,\"2305\":5304,\"441\":2093,\"2360\":5381},\"MonthlyRate\":{\"1204\":11740,\"1681\":9241,\"248\":18697,\"2305\":4652,\"441\":9260,\"2360\":19294},\"NumCompaniesWorked\":{\"1204\":2,\"1681\":1,\"248\":2,\"2305\":8,\"441\":4,\"2360\":9},\"OverTime\":{\"1204\":\"Yes\",\"1681\":\"No\",\"248\":\"No\",\"2305\":\"Yes\",\"441\":\"No\",\"2360\":\"Yes\"},\"PercentSalaryHike\":{\"1204\":11,\"1681\":22,\"248\":14,\"2305\":13,\"441\":17,\"2360\":13},\"PerformanceRating\":{\"1204\":3,\"1681\":4,\"248\":3,\"2305\":3,\"441\":3,\"2360\":3},\"RelationshipSatisfaction\":{\"1204\":3,\"1681\":3,\"248\":1,\"2305\":2,\"441\":4,\"2360\":4},\"StockOptionLevel\":{\"1204\":2,\"1681\":0,\"248\":1,\"2305\":0,\"441\":1,\"2360\":0},\"YearsinIndustry\":{\"1204\":19,\"1681\":1,\"248\":17,\"2305\":9,\"441\":8,\"2360\":23},\"TrainingTimesLastYear\":{\"1204\":3,\"1681\":3,\"248\":2,\"2305\":3,\"441\":4,\"2360\":2},\"WorkLifeBalance\":{\"1204\":3,\"1681\":2,\"248\":2,\"2305\":2,\"441\":3,\"2360\":3},\"YearsOnJob\":{\"1204\":9,\"1681\":1,\"248\":3,\"2305\":5,\"441\":2,\"2360\":1},\"YearsAtCurrentLevel\":{\"1204\":7,\"1681\":0,\"248\":1,\"2305\":2,\"441\":2,\"2360\":0},\"YearsSinceLastPromotion\":{\"1204\":7,\"1681\":1,\"248\":0,\"2305\":0,\"441\":2,\"2360\":0},\"YearsWithCurrManager\":{\"1204\":7,\"1681\":0,\"248\":2,\"2305\":4,\"441\":0,\"2360\":0}}'"
      ]
     },
     "execution_count": 21,
     "metadata": {},
     "output_type": "execute_result"
    }
   ],
   "source": [
    "# è fondamentale che input_data sia serializzabile !!!\n",
    "\n",
    "N_ROWS = 6\n",
    "\n",
    "input_data = X_test[:N_ROWS].to_json()\n",
    "\n",
    "input_data"
   ]
  },
  {
   "cell_type": "markdown",
   "id": "dc106caa",
   "metadata": {},
   "source": [
    "### Come fare i test passo passo"
   ]
  },
  {
   "cell_type": "code",
   "execution_count": 22,
   "id": "749ce274",
   "metadata": {},
   "outputs": [
    {
     "name": "stdout",
     "output_type": "stream",
     "text": [
      "The autoreload extension is already loaded. To reload it, use:\n",
      "  %reload_ext autoreload\n"
     ]
    }
   ],
   "source": [
    "%load_ext autoreload\n",
    "%autoreload 2\n",
    "\n",
    "# le due istruzioni sopra sono fondamentali per caricre l'ultima versione di score.py\n",
    "\n",
    "# importare score.py\n",
    "from model_dir.score import *"
   ]
  },
  {
   "cell_type": "code",
   "execution_count": 23,
   "id": "4537b9a7",
   "metadata": {},
   "outputs": [
    {
     "name": "stdout",
     "output_type": "stream",
     "text": [
      "Controllo OK\n"
     ]
    }
   ],
   "source": [
    "# passare un oggetto \"serializzabile\"\n",
    "\n",
    "# dataframe non lo è\n",
    "# numpy non lo è\n",
    "\n",
    "# controlliamo il tipo che passiamo\n",
    "assert type(input_data) == str\n",
    "\n",
    "print(\"Controllo OK\")"
   ]
  },
  {
   "cell_type": "code",
   "execution_count": 24,
   "id": "eb22261d",
   "metadata": {},
   "outputs": [],
   "source": [
    "# carichiamo il modello\n",
    "\n",
    "model = load_model(model_file_name=\"model.joblib\")"
   ]
  },
  {
   "cell_type": "code",
   "execution_count": 25,
   "id": "023d1eb9",
   "metadata": {},
   "outputs": [
    {
     "data": {
      "text/plain": [
       "[('preprocessor',\n",
       "  ColumnTransformer(transformers=[('num',\n",
       "                                   Pipeline(steps=[('imputer', SimpleImputer()),\n",
       "                                                   ('standard_scaler',\n",
       "                                                    StandardScaler())]),\n",
       "                                   ['Age', 'SalaryLevel', 'CommuteLength',\n",
       "                                    'HourlyRate', 'MonthlyIncome', 'MonthlyRate',\n",
       "                                    'NumCompaniesWorked', 'PercentSalaryHike',\n",
       "                                    'YearsinIndustry', 'YearsOnJob',\n",
       "                                    'YearsAtCurrentLevel',\n",
       "                                    'YearsSinceLastPromotion',\n",
       "                                    'YearsWithCurrManager']),\n",
       "                                  ('c...\n",
       "                                                    OrdinalEncoder(handle_unknown='use_encoded_value',\n",
       "                                                                   unknown_value=-1))]),\n",
       "                                   ['TravelForWork', 'JobFunction',\n",
       "                                    'EducationalLevel', 'EducationField',\n",
       "                                    'EnvironmentSatisfaction', 'Gender',\n",
       "                                    'JobInvolvement', 'JobLevel', 'JobRole',\n",
       "                                    'JobSatisfaction', 'MaritalStatus',\n",
       "                                    'OverTime', 'PerformanceRating',\n",
       "                                    'RelationshipSatisfaction',\n",
       "                                    'StockOptionLevel', 'TrainingTimesLastYear',\n",
       "                                    'WorkLifeBalance'])])),\n",
       " ('clf',\n",
       "  LGBMClassifier(categorical_feature=[1, 3, 5, 6, 7, 8, 10, 11, 12, 13, 14, 18,\n",
       "                                      20, 21, 22, 24, 25],\n",
       "                 colsample_bytree=0.6662807010605473,\n",
       "                 learning_rate=0.3956180945076651, max_depth=5, n_estimators=123,\n",
       "                 subsample=0.8643855674715297))]"
      ]
     },
     "execution_count": 25,
     "metadata": {},
     "output_type": "execute_result"
    }
   ],
   "source": [
    "# controlliamo che sia ok\n",
    "model.steps"
   ]
  },
  {
   "cell_type": "code",
   "execution_count": 26,
   "id": "c6c4414e",
   "metadata": {},
   "outputs": [],
   "source": [
    "# predict nell'ordine chiama\n",
    "input = pre_inference(input_data, \"model_dir/input_schema.json\")"
   ]
  },
  {
   "cell_type": "code",
   "execution_count": 27,
   "id": "1ff30882",
   "metadata": {},
   "outputs": [
    {
     "name": "stdout",
     "output_type": "stream",
     "text": [
      "Controllo tipo dati input a predict OK\n"
     ]
    }
   ],
   "source": [
    "assert type(input) == pd.core.frame.DataFrame\n",
    "\n",
    "print(\"Controllo tipo dati input a predict OK\")"
   ]
  },
  {
   "cell_type": "code",
   "execution_count": 28,
   "id": "cdfdd983",
   "metadata": {},
   "outputs": [],
   "source": [
    "yhat = post_inference(model.predict(input))"
   ]
  },
  {
   "cell_type": "code",
   "execution_count": 29,
   "id": "2022a8bc",
   "metadata": {},
   "outputs": [
    {
     "data": {
      "text/plain": [
       "[1, 1, 0, 1, 0, 1]"
      ]
     },
     "execution_count": 29,
     "metadata": {},
     "output_type": "execute_result"
    }
   ],
   "source": [
    "yhat"
   ]
  },
  {
   "cell_type": "code",
   "execution_count": 31,
   "id": "ba180c7b",
   "metadata": {},
   "outputs": [
    {
     "data": {
      "text/plain": [
       "array([1, 1, 0, 1, 0, 1])"
      ]
     },
     "execution_count": 31,
     "metadata": {},
     "output_type": "execute_result"
    }
   ],
   "source": [
    "y_test[:N_ROWS].values"
   ]
  },
  {
   "cell_type": "markdown",
   "id": "19368907",
   "metadata": {},
   "source": [
    "### Ed ora siamo pronti per invocare il servizio REST (Model Deployment)\n",
    "\n",
    "* notare che usiamo il parametro \"data\" e non \"json\""
   ]
  },
  {
   "cell_type": "code",
   "execution_count": 19,
   "id": "ea87e3d9",
   "metadata": {},
   "outputs": [
    {
     "name": "stdout",
     "output_type": "stream",
     "text": [
      "CPU times: user 17.9 ms, sys: 2.67 ms, total: 20.6 ms\n",
      "Wall time: 104 ms\n"
     ]
    },
    {
     "data": {
      "text/plain": [
       "{'prediction': [1, 1, 0, 1, 0, 1, 1, 1, 0, 0]}"
      ]
     },
     "execution_count": 19,
     "metadata": {},
     "output_type": "execute_result"
    }
   ],
   "source": [
    "%%time\n",
    "\n",
    "#\n",
    "endpoint = 'https://modeldeployment.eu-milan-1.oci.customer-oci.com/ocid1.datasciencemodeldeployment.oc1.eu-milan-1.amaaaaaangencdyarbd2wu7nfzcg2z4a2fx4f25q4exgpvm6fcz6eik2eb2q/predict'\n",
    "\n",
    "# if we want to passa a DataFrame serialize, use the data params of request\n",
    "requests.post(endpoint, data=input_data, auth=auth).json()"
   ]
  },
  {
   "cell_type": "code",
   "execution_count": 20,
   "id": "b99e7b92",
   "metadata": {},
   "outputs": [
    {
     "data": {
      "text/plain": [
       "array([1, 1, 0, 1, 0, 1, 1, 1, 0, 0])"
      ]
     },
     "execution_count": 20,
     "metadata": {},
     "output_type": "execute_result"
    }
   ],
   "source": [
    "# compare with expected values\n",
    "y_test[0:10].values"
   ]
  },
  {
   "cell_type": "code",
   "execution_count": null,
   "id": "341f82d9",
   "metadata": {},
   "outputs": [],
   "source": []
  }
 ],
 "metadata": {
  "kernelspec": {
   "display_name": "Python [conda env:mygeneralml_p37_cpu_v1_0]",
   "language": "python",
   "name": "conda-env-mygeneralml_p37_cpu_v1_0-py"
  },
  "language_info": {
   "codemirror_mode": {
    "name": "ipython",
    "version": 3
   },
   "file_extension": ".py",
   "mimetype": "text/x-python",
   "name": "python",
   "nbconvert_exporter": "python",
   "pygments_lexer": "ipython3",
   "version": "3.7.12"
  }
 },
 "nbformat": 4,
 "nbformat_minor": 5
}
