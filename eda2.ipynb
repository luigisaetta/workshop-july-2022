{
 "cells": [
  {
   "cell_type": "markdown",
   "id": "4b401e04",
   "metadata": {},
   "source": [
    "### Analisi Esplorativa dei Dati per un modello di Employee Attrition\n",
    "\n",
    "I dati disponibili sono relativi alla storia di **1470 dipendenti**, per un dato periodo di tempo.\n",
    "\n",
    "Il campo **Attrition** è valorizzato ad 1 se la persona ha dato le dimissioni, nell'intervallo temporale di esame.\n",
    "\n",
    "I dati possono esser utilizzati per sviluppare un modello ML che consenta di prevedere se un dipendente è a rischio di abbandono.\n",
    "\n",
    "Librerie utilizzate:\n",
    "* **Pandas**\n",
    "* **Pandas Profiling**"
   ]
  },
  {
   "cell_type": "code",
   "execution_count": 1,
   "id": "a32b1677",
   "metadata": {},
   "outputs": [],
   "source": [
    "import pandas as pd\n",
    "from pandas_profiling import ProfileReport"
   ]
  },
  {
   "cell_type": "markdown",
   "id": "654fc296",
   "metadata": {},
   "source": [
    "#### leggiamo il file dati dall'Object Storage"
   ]
  },
  {
   "cell_type": "code",
   "execution_count": 2,
   "id": "2c483c2b",
   "metadata": {},
   "outputs": [],
   "source": [
    "df_employee = pd.read_csv(\"oci://demo_pandas_profiling@frqap2zhtzbe/orcl_attrition.csv\")"
   ]
  },
  {
   "cell_type": "markdown",
   "id": "1c4309ae",
   "metadata": {},
   "source": [
    "#### generiamo il Report\n",
    "\n",
    "* due sole righe di codice"
   ]
  },
  {
   "cell_type": "code",
   "execution_count": 3,
   "id": "ac05c6bb",
   "metadata": {},
   "outputs": [
    {
     "data": {
      "application/vnd.jupyter.widget-view+json": {
       "model_id": "b101f849558b42748adf16acc9c94f77",
       "version_major": 2,
       "version_minor": 0
      },
      "text/plain": [
       "Summarize dataset:   0%|          | 0/5 [00:00<?, ?it/s]"
      ]
     },
     "metadata": {},
     "output_type": "display_data"
    },
    {
     "data": {
      "application/vnd.jupyter.widget-view+json": {
       "model_id": "47545170e5284537bedd04b50b45c30c",
       "version_major": 2,
       "version_minor": 0
      },
      "text/plain": [
       "Generate report structure:   0%|          | 0/1 [00:00<?, ?it/s]"
      ]
     },
     "metadata": {},
     "output_type": "display_data"
    },
    {
     "data": {
      "application/vnd.jupyter.widget-view+json": {
       "model_id": "",
       "version_major": 2,
       "version_minor": 0
      },
      "text/plain": [
       "Render widgets:   0%|          | 0/1 [00:00<?, ?it/s]"
      ]
     },
     "metadata": {},
     "output_type": "display_data"
    },
    {
     "data": {
      "application/vnd.jupyter.widget-view+json": {
       "model_id": "6318a470b9054ca5978409bb090a38e0",
       "version_major": 2,
       "version_minor": 0
      },
      "text/plain": [
       "VBox(children=(Tab(children=(Tab(children=(GridBox(children=(VBox(children=(GridspecLayout(children=(HTML(valu…"
      ]
     },
     "metadata": {},
     "output_type": "display_data"
    }
   ],
   "source": [
    "# if the dataset is large, use minimal=True or sample the df\n",
    "profile = ProfileReport(df_employee, title=\"Employee Attrition Report\", minimal=False)\n",
    "\n",
    "profile.to_widgets()"
   ]
  },
  {
   "cell_type": "code",
   "execution_count": null,
   "id": "52e67c94",
   "metadata": {},
   "outputs": [],
   "source": []
  }
 ],
 "metadata": {
  "kernelspec": {
   "display_name": "Python [conda env:mygeneralml_p37_cpu_v1_0]",
   "language": "python",
   "name": "conda-env-mygeneralml_p37_cpu_v1_0-py"
  },
  "language_info": {
   "codemirror_mode": {
    "name": "ipython",
    "version": 3
   },
   "file_extension": ".py",
   "mimetype": "text/x-python",
   "name": "python",
   "nbconvert_exporter": "python",
   "pygments_lexer": "ipython3",
   "version": "3.7.12"
  }
 },
 "nbformat": 4,
 "nbformat_minor": 5
}
