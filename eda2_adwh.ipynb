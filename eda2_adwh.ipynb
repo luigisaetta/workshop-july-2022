{
 "cells": [
  {
   "cell_type": "markdown",
   "id": "ddfd8bd0",
   "metadata": {},
   "source": [
    "### EDA using Pandas Profiling"
   ]
  },
  {
   "cell_type": "code",
   "execution_count": 1,
   "id": "921927ad",
   "metadata": {},
   "outputs": [],
   "source": [
    "import pandas as pd\n",
    "import numpy as np\n",
    "import os\n",
    "from ads.database import connection\n",
    "from ads.database.connection import Connector\n",
    "\n",
    "from pandas_profiling import ProfileReport"
   ]
  },
  {
   "cell_type": "code",
   "execution_count": 2,
   "id": "8ed2d84b",
   "metadata": {},
   "outputs": [],
   "source": [
    "credential = {'database_name': 'adwh1_medium',\n",
    "             'username': 'EMP',\n",
    "             'password': 'WorkshopRoMi2022##',\n",
    "             'database_type':'oracle'}\n",
    "\n",
    "connection_parameters = {\n",
    "      \"user_name\": credential[\"username\"],\n",
    "      \"password\": credential[\"password\"],\n",
    "      \"service_name\": credential[\"database_name\"],\n",
    "      \"wallet_location\": \"/home/datascience/workshop-july-2022/Wallet_adwh1_medium.zip\",\n",
    "  }"
   ]
  },
  {
   "cell_type": "code",
   "execution_count": 3,
   "id": "6249894e",
   "metadata": {},
   "outputs": [],
   "source": [
    "emp_df = pd.DataFrame.ads.read_sql(\n",
    "      \"SELECT * FROM ORCL_ATTRITION\",\n",
    "      connection_parameters=connection_parameters,\n",
    "  )"
   ]
  },
  {
   "cell_type": "code",
   "execution_count": 4,
   "id": "82ebedb2",
   "metadata": {},
   "outputs": [
    {
     "data": {
      "text/plain": [
       "(1470, 36)"
      ]
     },
     "execution_count": 4,
     "metadata": {},
     "output_type": "execute_result"
    }
   ],
   "source": [
    "emp_df.shape"
   ]
  },
  {
   "cell_type": "code",
   "execution_count": 5,
   "id": "7ca5204a",
   "metadata": {},
   "outputs": [],
   "source": [
    "profile = ProfileReport(emp_df, title=\"Employee Attrition Profiling Report\", minimal=True)"
   ]
  },
  {
   "cell_type": "code",
   "execution_count": 6,
   "id": "ca218961",
   "metadata": {},
   "outputs": [
    {
     "data": {
      "application/vnd.jupyter.widget-view+json": {
       "model_id": "6fe8a76847964a29991f69373c170e85",
       "version_major": 2,
       "version_minor": 0
      },
      "text/plain": [
       "Summarize dataset:   0%|          | 0/5 [00:00<?, ?it/s]"
      ]
     },
     "metadata": {},
     "output_type": "display_data"
    },
    {
     "data": {
      "application/vnd.jupyter.widget-view+json": {
       "model_id": "febe128b687940d1a316d9b90b96931f",
       "version_major": 2,
       "version_minor": 0
      },
      "text/plain": [
       "Generate report structure:   0%|          | 0/1 [00:00<?, ?it/s]"
      ]
     },
     "metadata": {},
     "output_type": "display_data"
    },
    {
     "data": {
      "application/vnd.jupyter.widget-view+json": {
       "model_id": "",
       "version_major": 2,
       "version_minor": 0
      },
      "text/plain": [
       "Render widgets:   0%|          | 0/1 [00:00<?, ?it/s]"
      ]
     },
     "metadata": {},
     "output_type": "display_data"
    },
    {
     "data": {
      "application/vnd.jupyter.widget-view+json": {
       "model_id": "01935ac5df0d4ed59cee1e5de19c5e49",
       "version_major": 2,
       "version_minor": 0
      },
      "text/plain": [
       "VBox(children=(Tab(children=(Tab(children=(GridBox(children=(VBox(children=(GridspecLayout(children=(HTML(valu…"
      ]
     },
     "metadata": {},
     "output_type": "display_data"
    }
   ],
   "source": [
    "profile.to_widgets()"
   ]
  },
  {
   "cell_type": "code",
   "execution_count": null,
   "id": "7af43094",
   "metadata": {},
   "outputs": [],
   "source": []
  }
 ],
 "metadata": {
  "kernelspec": {
   "display_name": "Python [conda env:mygeneralml_p37_cpu_v1_0]",
   "language": "python",
   "name": "conda-env-mygeneralml_p37_cpu_v1_0-py"
  },
  "language_info": {
   "codemirror_mode": {
    "name": "ipython",
    "version": 3
   },
   "file_extension": ".py",
   "mimetype": "text/x-python",
   "name": "python",
   "nbconvert_exporter": "python",
   "pygments_lexer": "ipython3",
   "version": "3.7.12"
  }
 },
 "nbformat": 4,
 "nbformat_minor": 5
}
