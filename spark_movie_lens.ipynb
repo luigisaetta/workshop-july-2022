{
 "cells": [
  {
   "cell_type": "markdown",
   "id": "76d97e93",
   "metadata": {},
   "source": [
    "### Analyze MovieLens Dataset using Apache Spark\n",
    "\n",
    "I have loaded the **MovieLens** dataset (25M) in a bucket in the Object Storage\n",
    "and shows here how to query it using **Spark SQL** in a Notebook Session\n",
    "\n",
    "conda env used: **pyspark32_p38_cpu_v1**\n",
    "\n",
    "Dataset is here: https://grouplens.org/datasets/movielens/"
   ]
  },
  {
   "cell_type": "code",
   "execution_count": 1,
   "id": "35a4108e",
   "metadata": {},
   "outputs": [],
   "source": [
    "import logging\n",
    "import warnings\n",
    "import os\n",
    "import ads\n",
    "from os import path\n",
    "from pyspark.sql import SparkSession\n",
    "import re\n",
    "\n",
    "warnings.filterwarnings('ignore')\n",
    "logging.basicConfig(format='%(levelname)s:%(message)s', level=logging.ERROR)"
   ]
  },
  {
   "cell_type": "markdown",
   "id": "08775fbc",
   "metadata": {},
   "source": [
    "URL FORMAT is oci://{BUCKET}@{NAMESPACE}/{REF_NAME}"
   ]
  },
  {
   "cell_type": "code",
   "execution_count": 2,
   "id": "ec23b5cb",
   "metadata": {},
   "outputs": [],
   "source": [
    "ads.set_auth(auth='resource_principal') "
   ]
  },
  {
   "cell_type": "code",
   "execution_count": 3,
   "id": "a35b69df",
   "metadata": {},
   "outputs": [],
   "source": [
    "%load_ext sparksql_magic\n",
    "%config SparkSql.max_num_rows=100"
   ]
  },
  {
   "cell_type": "code",
   "execution_count": 4,
   "id": "84c90ae0",
   "metadata": {},
   "outputs": [],
   "source": [
    "# create a spark session\n",
    "spark = SparkSession \\\n",
    "    .builder \\\n",
    "    .appName(\"Python Spark MovieLens\") \\\n",
    "    .config(\"spark.driver.cores\", str(1)) \\\n",
    "    .config(\"spark.executor.cores\", str(8)) \\\n",
    "    .getOrCreate()\n",
    "\n",
    "spark.sparkContext.setLogLevel(\"ERROR\")"
   ]
  },
  {
   "cell_type": "code",
   "execution_count": 5,
   "id": "ff277b6c",
   "metadata": {},
   "outputs": [],
   "source": [
    "movies = spark.read.parquet(\"oci://WORKSHOP@frqap2zhtzbe/movies.parquet\").cache()\n",
    "      \n",
    "# the dataframe as a sql view so we can perform SQL on it\n",
    "movies.createOrReplaceTempView(\"MOVIES\")"
   ]
  },
  {
   "cell_type": "code",
   "execution_count": 6,
   "id": "2aa3c13c",
   "metadata": {},
   "outputs": [],
   "source": [
    "ratings = spark.read.parquet(\"oci://WORKSHOP@frqap2zhtzbe/ratings.parquet\").cache()\n",
    "\n",
    "# the dataframe as a sql view so we can perform SQL on it\n",
    "ratings.createOrReplaceTempView(\"RATINGS\")"
   ]
  },
  {
   "cell_type": "code",
   "execution_count": 7,
   "id": "ae7ade92",
   "metadata": {},
   "outputs": [
    {
     "data": {
      "text/html": [
       "<table><tr style=\"border-bottom: 1px solid\"><td style=\"font-weight: bold\">col_name</td><td style=\"font-weight: bold\">data_type</td><td style=\"font-weight: bold\">comment</td></tr><tr><td>movieId</td><td>string</td><td>null</td></tr><tr><td>title</td><td>string</td><td>null</td></tr><tr><td>genres</td><td>string</td><td>null</td></tr></table>"
      ],
      "text/plain": [
       "<IPython.core.display.HTML object>"
      ]
     },
     "execution_count": 7,
     "metadata": {},
     "output_type": "execute_result"
    }
   ],
   "source": [
    "%%sparksql\n",
    "\n",
    "DESC MOVIES"
   ]
  },
  {
   "cell_type": "code",
   "execution_count": 8,
   "id": "e79d4ab2",
   "metadata": {},
   "outputs": [
    {
     "data": {
      "text/html": [
       "<table><tr style=\"border-bottom: 1px solid\"><td style=\"font-weight: bold\">col_name</td><td style=\"font-weight: bold\">data_type</td><td style=\"font-weight: bold\">comment</td></tr><tr><td>userId</td><td>string</td><td>null</td></tr><tr><td>movieId</td><td>string</td><td>null</td></tr><tr><td>rating</td><td>string</td><td>null</td></tr><tr><td>timestamp</td><td>string</td><td>null</td></tr></table>"
      ],
      "text/plain": [
       "<IPython.core.display.HTML object>"
      ]
     },
     "execution_count": 8,
     "metadata": {},
     "output_type": "execute_result"
    }
   ],
   "source": [
    "%%sparksql\n",
    "\n",
    "DESC RATINGS"
   ]
  },
  {
   "cell_type": "code",
   "execution_count": 9,
   "id": "d0ba8349",
   "metadata": {},
   "outputs": [
    {
     "data": {
      "text/html": [
       "<table><tr style=\"border-bottom: 1px solid\"><td style=\"font-weight: bold\">movieId</td><td style=\"font-weight: bold\">title</td><td style=\"font-weight: bold\">genres</td></tr><tr><td>1</td><td>Toy Story (1995)</td><td>Adventure|Animation|Children|Comedy|Fantasy</td></tr><tr><td>2</td><td>Jumanji (1995)</td><td>Adventure|Children|Fantasy</td></tr><tr><td>3</td><td>Grumpier Old Men (1995)</td><td>Comedy|Romance</td></tr><tr><td>4</td><td>Waiting to Exhale (1995)</td><td>Comedy|Drama|Romance</td></tr><tr><td>5</td><td>Father of the Bride Part II (1995)</td><td>Comedy</td></tr><tr><td>6</td><td>Heat (1995)</td><td>Action|Crime|Thriller</td></tr><tr><td>7</td><td>Sabrina (1995)</td><td>Comedy|Romance</td></tr><tr><td>8</td><td>Tom and Huck (1995)</td><td>Adventure|Children</td></tr><tr><td>9</td><td>Sudden Death (1995)</td><td>Action</td></tr><tr><td>10</td><td>GoldenEye (1995)</td><td>Action|Adventure|Thriller</td></tr></table>"
      ],
      "text/plain": [
       "<IPython.core.display.HTML object>"
      ]
     },
     "execution_count": 9,
     "metadata": {},
     "output_type": "execute_result"
    }
   ],
   "source": [
    "%%sparksql\n",
    "\n",
    "SELECT * FROM MOVIES LIMIT 10"
   ]
  },
  {
   "cell_type": "code",
   "execution_count": 12,
   "id": "3cd4b218",
   "metadata": {},
   "outputs": [
    {
     "data": {
      "text/html": [
       "<table><tr style=\"border-bottom: 1px solid\"><td style=\"font-weight: bold\">userId</td><td style=\"font-weight: bold\">movieId</td><td style=\"font-weight: bold\">rating</td><td style=\"font-weight: bold\">timestamp</td></tr><tr><td>1</td><td>296</td><td>5.0</td><td>1147880044</td></tr><tr><td>1</td><td>306</td><td>3.5</td><td>1147868817</td></tr><tr><td>1</td><td>307</td><td>5.0</td><td>1147868828</td></tr><tr><td>1</td><td>665</td><td>5.0</td><td>1147878820</td></tr><tr><td>1</td><td>899</td><td>3.5</td><td>1147868510</td></tr><tr><td>1</td><td>1088</td><td>4.0</td><td>1147868495</td></tr><tr><td>1</td><td>1175</td><td>3.5</td><td>1147868826</td></tr><tr><td>1</td><td>1217</td><td>3.5</td><td>1147878326</td></tr><tr><td>1</td><td>1237</td><td>5.0</td><td>1147868839</td></tr><tr><td>1</td><td>1250</td><td>4.0</td><td>1147868414</td></tr></table>"
      ],
      "text/plain": [
       "<IPython.core.display.HTML object>"
      ]
     },
     "execution_count": 12,
     "metadata": {},
     "output_type": "execute_result"
    }
   ],
   "source": [
    "%%sparksql\n",
    "\n",
    "SELECT * FROM RATINGS LIMIT 10"
   ]
  },
  {
   "cell_type": "markdown",
   "id": "838558a1",
   "metadata": {},
   "source": [
    "#### Film con il più alto numero di ratings"
   ]
  },
  {
   "cell_type": "code",
   "execution_count": 13,
   "id": "39f1c4e1",
   "metadata": {},
   "outputs": [
    {
     "data": {
      "text/html": [
       "<table><tr style=\"border-bottom: 1px solid\"><td style=\"font-weight: bold\">title</td><td style=\"font-weight: bold\">genres</td><td style=\"font-weight: bold\">avg_rating</td><td style=\"font-weight: bold\">num_ratings</td></tr><tr><td>Forrest Gump (1994)</td><td>Comedy|Drama|Romance|War</td><td>4.0</td><td>81491</td></tr><tr><td>Shawshank Redemption, The (1994)</td><td>Crime|Drama</td><td>4.4</td><td>81482</td></tr><tr><td>Pulp Fiction (1994)</td><td>Comedy|Crime|Drama|Thriller</td><td>4.2</td><td>79672</td></tr><tr><td>Silence of the Lambs, The (1991)</td><td>Crime|Horror|Thriller</td><td>4.2</td><td>74127</td></tr><tr><td>Matrix, The (1999)</td><td>Action|Sci-Fi|Thriller</td><td>4.2</td><td>72674</td></tr><tr><td>Star Wars: Episode IV - A New Hope (1977)</td><td>Action|Adventure|Sci-Fi</td><td>4.1</td><td>68717</td></tr><tr><td>Jurassic Park (1993)</td><td>Action|Adventure|Sci-Fi|Thriller</td><td>3.7</td><td>64144</td></tr><tr><td>Schindler&#x27;s List (1993)</td><td>Drama|War</td><td>4.2</td><td>60411</td></tr><tr><td>Braveheart (1995)</td><td>Action|Drama|War</td><td>4.0</td><td>59184</td></tr><tr><td>Fight Club (1999)</td><td>Action|Crime|Drama|Thriller</td><td>4.2</td><td>58773</td></tr></table>"
      ],
      "text/plain": [
       "<IPython.core.display.HTML object>"
      ]
     },
     "execution_count": 13,
     "metadata": {},
     "output_type": "execute_result"
    }
   ],
   "source": [
    "%%sparksql\n",
    "\n",
    "SELECT title, genres, ROUND(AVG(rating), 1) as avg_rating, count(*) as num_ratings \n",
    "FROM RATINGS, MOVIES WHERE MOVIES.movieId = RATINGS.movieId \n",
    "GROUP BY title, genres\n",
    "HAVING count(*) > 10\n",
    "ORDER BY num_ratings DESC LIMIT 10"
   ]
  },
  {
   "cell_type": "code",
   "execution_count": 14,
   "id": "f4b827b9",
   "metadata": {},
   "outputs": [
    {
     "data": {
      "text/html": [
       "<table><tr style=\"border-bottom: 1px solid\"><td style=\"font-weight: bold\">title</td><td style=\"font-weight: bold\">avg_rating</td><td style=\"font-weight: bold\">num_ratings</td></tr><tr><td>Belle and Sebastien (Belle et Sébastien) (2013)</td><td>3.8</td><td>21</td></tr><tr><td>The Spy Who Loved Flowers (1966)</td><td>3.7</td><td>118</td></tr><tr><td>Mountains of the Moon (1990)</td><td>3.7</td><td>170</td></tr><tr><td>Wolf Totem (2015)</td><td>3.7</td><td>18</td></tr><tr><td>Neon Bull (2015)</td><td>3.7</td><td>13</td></tr><tr><td>King Jack (2015)</td><td>3.6</td><td>32</td></tr><tr><td>Billy Budd (1962)</td><td>3.6</td><td>32</td></tr><tr><td>Mark of Zorro, The (1940)</td><td>3.6</td><td>897</td></tr><tr><td>Time Traveller: The Girl Who Leapt Through Time (2010)</td><td>3.5</td><td>22</td></tr><tr><td>Wind and the Lion, The (1975)</td><td>3.5</td><td>195</td></tr></table>"
      ],
      "text/plain": [
       "<IPython.core.display.HTML object>"
      ]
     },
     "execution_count": 14,
     "metadata": {},
     "output_type": "execute_result"
    }
   ],
   "source": [
    "%%sparksql\n",
    "\n",
    "SELECT title, ROUND(AVG(rating), 1) as avg_rating, count(*) as num_ratings \n",
    "FROM RATINGS, MOVIES WHERE MOVIES.movieId = RATINGS.movieId \n",
    "and genres = \"Adventure\" \n",
    "GROUP BY title\n",
    "HAVING count(*) > 10\n",
    "ORDER BY avg_rating DESC LIMIT 10"
   ]
  },
  {
   "cell_type": "markdown",
   "id": "658d77f4",
   "metadata": {},
   "source": [
    "#### Test the API"
   ]
  },
  {
   "cell_type": "code",
   "execution_count": 15,
   "id": "efb0bbe1",
   "metadata": {},
   "outputs": [],
   "source": [
    " query_result_df = spark.sql(\"\"\"\n",
    "    SELECT MOVIES.title, ROUND(AVG(RATINGS.rating), 1) as avg_rating, count(*) as num_ratings \n",
    "    FROM RATINGS, MOVIES \n",
    "    WHERE MOVIES.movieId = RATINGS.movieId \n",
    "    and MOVIES.genres = \"Adventure\" \n",
    "    GROUP BY MOVIES.title\n",
    "    HAVING count(*) > 10\n",
    "    ORDER BY avg_rating DESC LIMIT 10\n",
    "    \"\"\")"
   ]
  },
  {
   "cell_type": "code",
   "execution_count": 16,
   "id": "c782fa8c",
   "metadata": {},
   "outputs": [
    {
     "name": "stdout",
     "output_type": "stream",
     "text": [
      "['{\"title\":\"Belle and Sebastien (Belle et Sébastien) (2013)\",\"avg_rating\":3.8,\"num_ratings\":21}', '{\"title\":\"Mountains of the Moon (1990)\",\"avg_rating\":3.7,\"num_ratings\":170}', '{\"title\":\"The Spy Who Loved Flowers (1966)\",\"avg_rating\":3.7,\"num_ratings\":118}', '{\"title\":\"Wolf Totem (2015)\",\"avg_rating\":3.7,\"num_ratings\":18}', '{\"title\":\"Neon Bull (2015)\",\"avg_rating\":3.7,\"num_ratings\":13}', '{\"title\":\"Mark of Zorro, The (1940)\",\"avg_rating\":3.6,\"num_ratings\":897}', '{\"title\":\"King Jack (2015)\",\"avg_rating\":3.6,\"num_ratings\":32}', '{\"title\":\"Billy Budd (1962)\",\"avg_rating\":3.6,\"num_ratings\":32}', '{\"title\":\"Time Traveller: The Girl Who Leapt Through Time (2010)\",\"avg_rating\":3.5,\"num_ratings\":22}', '{\"title\":\"Wind and the Lion, The (1975)\",\"avg_rating\":3.5,\"num_ratings\":195}']\n"
     ]
    }
   ],
   "source": [
    "print(query_result_df.toJSON().collect())"
   ]
  },
  {
   "cell_type": "code",
   "execution_count": 17,
   "id": "55cb431a",
   "metadata": {},
   "outputs": [
    {
     "name": "stdout",
     "output_type": "stream",
     "text": [
      "+--------------------+----------+-----------+\n",
      "|               title|avg_rating|num_ratings|\n",
      "+--------------------+----------+-----------+\n",
      "|Belle and Sebasti...|       3.8|         21|\n",
      "|Mountains of the ...|       3.7|        170|\n",
      "|The Spy Who Loved...|       3.7|        118|\n",
      "|   Wolf Totem (2015)|       3.7|         18|\n",
      "|    Neon Bull (2015)|       3.7|         13|\n",
      "|Mark of Zorro, Th...|       3.6|        897|\n",
      "|    King Jack (2015)|       3.6|         32|\n",
      "|   Billy Budd (1962)|       3.6|         32|\n",
      "|Time Traveller: T...|       3.5|         22|\n",
      "|Wind and the Lion...|       3.5|        195|\n",
      "+--------------------+----------+-----------+\n",
      "\n"
     ]
    }
   ],
   "source": [
    "query_result_df.show()"
   ]
  },
  {
   "cell_type": "markdown",
   "id": "d2011ae2",
   "metadata": {},
   "source": [
    "#### Usate per salvare in format Parquet\n",
    "\n",
    "Le istruzioni usate per salvare i dati, letti da file csv, in formato parquet sull'Object Storage"
   ]
  },
  {
   "cell_type": "code",
   "execution_count": null,
   "id": "7859973f",
   "metadata": {},
   "outputs": [],
   "source": [
    "# movies.write.parquet(\"oci://WORKSHOP@frqap2zhtzbe/movies.parquet\")"
   ]
  },
  {
   "cell_type": "code",
   "execution_count": null,
   "id": "dc79f094",
   "metadata": {},
   "outputs": [],
   "source": [
    "# ratings.write.parquet(\"oci://WORKSHOP@frqap2zhtzbe/ratings.parquet\")"
   ]
  },
  {
   "cell_type": "code",
   "execution_count": null,
   "id": "f822057c",
   "metadata": {},
   "outputs": [],
   "source": []
  }
 ],
 "metadata": {
  "kernelspec": {
   "display_name": "Python [conda env:pyspark32_p38_cpu_v1]",
   "language": "python",
   "name": "conda-env-pyspark32_p38_cpu_v1-py"
  },
  "language_info": {
   "codemirror_mode": {
    "name": "ipython",
    "version": 3
   },
   "file_extension": ".py",
   "mimetype": "text/x-python",
   "name": "python",
   "nbconvert_exporter": "python",
   "pygments_lexer": "ipython3",
   "version": "3.8.12"
  }
 },
 "nbformat": 4,
 "nbformat_minor": 5
}
