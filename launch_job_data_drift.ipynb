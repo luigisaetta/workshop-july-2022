{
 "cells": [
  {
   "cell_type": "markdown",
   "id": "77a53104",
   "metadata": {},
   "source": [
    "### JOBS for Data Drift Detection\n",
    "\n",
    "Create, run and monitor a JOB for Data Drift Detection from a NB.\n",
    "\n",
    "In this NoteBook we show how to create, run and monitor a JOB that compare a reference and a new dataset in order to check if there is Data Drift.\n",
    "\n",
    "The code is packed in a tar.gz file, saved in Object Storage"
   ]
  },
  {
   "cell_type": "code",
   "execution_count": 2,
   "id": "2c1c4caa",
   "metadata": {},
   "outputs": [],
   "source": [
    "import os\n",
    "import ads\n",
    "\n",
    "from ads.jobs import DataScienceJob\n",
    "from ads.jobs import ScriptRuntime\n",
    "from ads.jobs import Job\n",
    "\n",
    "from ads import set_auth"
   ]
  },
  {
   "cell_type": "code",
   "execution_count": 3,
   "id": "32cf1cce",
   "metadata": {},
   "outputs": [
    {
     "name": "stdout",
     "output_type": "stream",
     "text": [
      "2.6.2\n"
     ]
    }
   ],
   "source": [
    "print(ads.__version__)"
   ]
  },
  {
   "cell_type": "code",
   "execution_count": 4,
   "id": "c73df755",
   "metadata": {},
   "outputs": [
    {
     "name": "stderr",
     "output_type": "stream",
     "text": [
      "WARNING:root:~/.oci/config file not exists, default value oci.config.DEFAULT_LOCATION used instead\n"
     ]
    }
   ],
   "source": [
    "compartment_id = os.environ['NB_SESSION_COMPARTMENT_OCID']\n",
    "project_id = os.environ['PROJECT_OCID']\n",
    "\n",
    "set_auth(auth='resource_principal')"
   ]
  },
  {
   "cell_type": "markdown",
   "id": "0e2afbeb",
   "metadata": {},
   "source": [
    "#### Specify Infrastructure for JOBS run"
   ]
  },
  {
   "cell_type": "code",
   "execution_count": 5,
   "id": "081cd874",
   "metadata": {},
   "outputs": [],
   "source": [
    "# 1. Specify the Infrastructure requested\n",
    "# VM Shape, logging\n",
    "# network is taken from NB session\n",
    "\n",
    "SHAPE_NAME = \"VM.Standard2.8\"\n",
    "LOG_GROUP_ID = \"ocid1.loggroup.oc1.eu-milan-1.amaaaaaangencdya37xpdas7cenw3thhfetpb5qe75ymyymoo2b4w42pbrsq\"\n",
    "LOG_ID = \"ocid1.log.oc1.eu-milan-1.amaaaaaangencdyaspdct6j6xl4umonzqwvvhrysal7lcxi2gcj6vt7doqaa\"\n",
    "\n",
    "# you need to provide the OCID for LogGroup and Log\n",
    "infrastructure = (\n",
    "    DataScienceJob()\n",
    "    .with_shape_name(SHAPE_NAME)\n",
    "    .with_log_group_id(LOG_GROUP_ID)\n",
    "    .with_log_id(LOG_ID)\n",
    ")"
   ]
  },
  {
   "cell_type": "markdown",
   "id": "fe3fe62b",
   "metadata": {},
   "source": [
    "#### Specify the runtime"
   ]
  },
  {
   "cell_type": "code",
   "execution_count": 6,
   "id": "27648d44",
   "metadata": {},
   "outputs": [],
   "source": [
    "#\n",
    "# all the Python code is packed in drift.tar.gz, saved in a Object Storage bucket\n",
    "# url: oci://drift_input@frqap2zhtzbe/drift.tar.gz\n",
    "#\n",
    "\n",
    "# specify the runtime and conda and env \n",
    "runtime = (\n",
    "    ScriptRuntime()\n",
    "    .with_source(\"oci://drift_input@frqap2zhtzbe/drift.tar.gz\")\n",
    "    .with_service_conda(\"generalml_p37_cpu_v1\")\n",
    "    .with_environment_variable(JOB_RUN_ENTRYPOINT=\"test_drift_analysis.py\")\n",
    ")"
   ]
  },
  {
   "cell_type": "markdown",
   "id": "f229dd3c",
   "metadata": {},
   "source": [
    "#### Specify the JOB"
   ]
  },
  {
   "cell_type": "code",
   "execution_count": 7,
   "id": "68eb961f",
   "metadata": {},
   "outputs": [],
   "source": [
    "# specify the JOB\n",
    "job = (\n",
    "    Job(name=\"job_data_drift_november2\")\n",
    "    .with_infrastructure(infrastructure)\n",
    "    .with_runtime(runtime)\n",
    ")"
   ]
  },
  {
   "cell_type": "markdown",
   "id": "04983290",
   "metadata": {},
   "source": [
    "#### Create the JOB definition"
   ]
  },
  {
   "cell_type": "code",
   "execution_count": 8,
   "id": "81871bb5",
   "metadata": {},
   "outputs": [
    {
     "data": {
      "text/plain": [
       "kind: job\n",
       "spec:\n",
       "  id: ocid1.datasciencejob.oc1.eu-milan-1.amaaaaaangencdyazljk43lu4it3y3lqhmjnisxliaaytlwwqywc5brtwt4q\n",
       "  infrastructure:\n",
       "    kind: infrastructure\n",
       "    spec:\n",
       "      blockStorageSize: 500\n",
       "      compartmentId: ocid1.compartment.oc1..aaaaaaaag2cpni5qj6li5ny6ehuahhepbpveopobooayqfeudqygdtfe6h3a\n",
       "      displayName: job_data_drift_november2\n",
       "      jobInfrastructureType: STANDALONE\n",
       "      jobType: DEFAULT\n",
       "      logGroupId: ocid1.loggroup.oc1.eu-milan-1.amaaaaaangencdya37xpdas7cenw3thhfetpb5qe75ymyymoo2b4w42pbrsq\n",
       "      logId: ocid1.log.oc1.eu-milan-1.amaaaaaangencdyaspdct6j6xl4umonzqwvvhrysal7lcxi2gcj6vt7doqaa\n",
       "      projectId: ocid1.datascienceproject.oc1.eu-milan-1.amaaaaaangencdyageryq6wvsxw6rjdjwagoym3h7hnncszqqnq34g3aakoq\n",
       "      shapeName: VM.Standard2.8\n",
       "      subnetId: ocid1.subnet.oc1.eu-milan-1.aaaaaaaajiptbm2u4svnhnnk7uvb7owx7iii2fqb52n2oz7ura43mizniskq\n",
       "    type: dataScienceJob\n",
       "  name: job_data_drift_november2\n",
       "  runtime:\n",
       "    kind: runtime\n",
       "    spec:\n",
       "      conda:\n",
       "        slug: generalml_p37_cpu_v1\n",
       "        type: service\n",
       "      env:\n",
       "      - name: JOB_RUN_ENTRYPOINT\n",
       "        value: test_drift_analysis.py\n",
       "      scriptPathURI: oci://drift_input@frqap2zhtzbe/drift.tar.gz\n",
       "    type: script"
      ]
     },
     "execution_count": 8,
     "metadata": {},
     "output_type": "execute_result"
    }
   ],
   "source": [
    "# create the JOB\n",
    "job.create()"
   ]
  },
  {
   "cell_type": "markdown",
   "id": "902187c6",
   "metadata": {},
   "source": [
    "#### Run the JOB"
   ]
  },
  {
   "cell_type": "code",
   "execution_count": 9,
   "id": "eb340748",
   "metadata": {},
   "outputs": [],
   "source": [
    "# run\n",
    "job_run = job.run()"
   ]
  },
  {
   "cell_type": "markdown",
   "id": "941ad4fe",
   "metadata": {},
   "source": [
    "#### attach and display the log"
   ]
  },
  {
   "cell_type": "code",
   "execution_count": 10,
   "id": "a5f90335",
   "metadata": {},
   "outputs": [
    {
     "name": "stdout",
     "output_type": "stream",
     "text": [
      "Job OCID: ocid1.datasciencejob.oc1.eu-milan-1.amaaaaaangencdyazljk43lu4it3y3lqhmjnisxliaaytlwwqywc5brtwt4q\n",
      "Job Run OCID: ocid1.datasciencejobrun.oc1.eu-milan-1.amaaaaaangencdyaj2epkiecq6iqrnoxv3sw4ivysn7d4m4x5s7vk7amvu2a\n",
      "2022-12-13 16:33:08 - Job Run ACCEPTED\n",
      "2022-12-13 16:33:11 - Job Run ACCEPTED, Infrastructure provisioning.\n",
      "2022-12-13 16:34:07 - Job Run ACCEPTED, Infrastructure provisioned.\n",
      "2022-12-13 16:35:21 - Job Run ACCEPTED, Job run bootstrap starting.\n",
      "2022-12-13 16:38:31 - Job Run ACCEPTED, Job run bootstrap complete. Artifact execution starting.\n",
      "2022-12-13 16:38:37 - Job Run IN_PROGRESS, Job run artifact execution in progress.\n",
      "2022-12-13 16:38:33 - Read dataset to compare and analyze...\n",
      "2022-12-13 16:38:33 - *** Report on evidences of Data Drift identified ***\n",
      "2022-12-13 16:38:33 - \n",
      "2022-12-13 16:38:33 - \n",
      "2022-12-13 16:38:33 - \n",
      "2022-12-13 16:38:33 - p_value: 0.0\n",
      "2022-12-13 16:38:33 - Identified drift in column: Age\n",
      "2022-12-13 16:38:33 - \n",
      "2022-12-13 16:38:33 - p_value: 0.0\n",
      "2022-12-13 16:38:33 - Identified drift in column: MonthlyIncome\n",
      "2022-12-13 16:38:33 - [{'Column': 'Age', 'Type': 'continuous', 'p_value': 0.0, 'threshold': 0.01, 'stats': '[37.81, 9.17, 19.0, 31.0, 36.0, 43.25, 61.0],[43.36, 9.01, 24.0, 37.0, 42.0, 49.75, 66.0]', 'was_distance_norm': 0.147, 'delta_mean_norm': 0.147}, {'Column': 'MonthlyIncome', 'Type': 'continuous', 'p_value': 0.0, 'threshold': 0.01, 'stats': '[6433.62, 4614.91, 1009.0, 2931.25, 4965.5, 8097.0, 19973.0],[8780.19, 5061.9, 3359.0, 4888.75, 6815.0, 10862.0, 21999.0]', 'was_distance_norm': 0.365, 'delta_mean_norm': 0.365}]\n",
      "2022-12-13 16:38:33 - Saving result file...\n",
      "2022-12-13 16:38:33 - Data Drift Analysis completed correctly!\n",
      "2022-12-13 16:38:47.980000+00:00 - Job Run SUCCEEDED, Job run artifact execution in progress.\n"
     ]
    },
    {
     "data": {
      "text/plain": [
       "compartmentId: ocid1.compartment.oc1..aaaaaaaag2cpni5qj6li5ny6ehuahhepbpveopobooayqfeudqygdtfe6h3a\n",
       "createdBy: ocid1.datasciencenotebooksession.oc1.eu-milan-1.amaaaaaangencdyakd2gy72phzb4fcdyjo226rh66iushy7v7nox2zylih5q\n",
       "definedTags:\n",
       "  default-tags:\n",
       "    CreatedBy: ocid1.datasciencenotebooksession.oc1.eu-milan-1.amaaaaaangencdyakd2gy72phzb4fcdyjo226rh66iushy7v7nox2zylih5q\n",
       "displayName: job_data_drift_november2-run-20221213-1633\n",
       "id: ocid1.datasciencejobrun.oc1.eu-milan-1.amaaaaaangencdyaj2epkiecq6iqrnoxv3sw4ivysn7d4m4x5s7vk7amvu2a\n",
       "jobConfigurationOverrideDetails:\n",
       "  jobType: DEFAULT\n",
       "jobId: ocid1.datasciencejob.oc1.eu-milan-1.amaaaaaangencdyazljk43lu4it3y3lqhmjnisxliaaytlwwqywc5brtwt4q\n",
       "jobInfrastructureConfigurationDetails:\n",
       "  blockStorageSizeInGBs: 500\n",
       "  jobInfrastructureType: STANDALONE\n",
       "  shapeName: VM.Standard2.8\n",
       "  subnetId: ocid1.subnet.oc1.eu-milan-1.aaaaaaaajiptbm2u4svnhnnk7uvb7owx7iii2fqb52n2oz7ura43mizniskq\n",
       "lifecycleDetails: Job run artifact execution in progress.\n",
       "lifecycleState: SUCCEEDED\n",
       "logDetails:\n",
       "  logGroupId: ocid1.loggroup.oc1.eu-milan-1.amaaaaaangencdya37xpdas7cenw3thhfetpb5qe75ymyymoo2b4w42pbrsq\n",
       "  logId: ocid1.log.oc1.eu-milan-1.amaaaaaangencdyaspdct6j6xl4umonzqwvvhrysal7lcxi2gcj6vt7doqaa\n",
       "projectId: ocid1.datascienceproject.oc1.eu-milan-1.amaaaaaangencdyageryq6wvsxw6rjdjwagoym3h7hnncszqqnq34g3aakoq\n",
       "timeAccepted: '2022-12-13T16:33:04.488000Z'\n",
       "timeFinished: '2022-12-13T16:38:47.980000Z'\n",
       "timeStarted: '2022-12-13T16:38:34.645000Z'"
      ]
     },
     "execution_count": 10,
     "metadata": {},
     "output_type": "execute_result"
    }
   ],
   "source": [
    "# watch and stream the job run outputs\n",
    "job_run.watch()"
   ]
  },
  {
   "cell_type": "code",
   "execution_count": null,
   "id": "e269a9e3",
   "metadata": {},
   "outputs": [],
   "source": []
  }
 ],
 "metadata": {
  "kernelspec": {
   "display_name": "Python [conda env:mygeneralml_p37_cpu_v1_0]",
   "language": "python",
   "name": "conda-env-mygeneralml_p37_cpu_v1_0-py"
  },
  "language_info": {
   "codemirror_mode": {
    "name": "ipython",
    "version": 3
   },
   "file_extension": ".py",
   "mimetype": "text/x-python",
   "name": "python",
   "nbconvert_exporter": "python",
   "pygments_lexer": "ipython3",
   "version": "3.7.12"
  }
 },
 "nbformat": 4,
 "nbformat_minor": 5
}
